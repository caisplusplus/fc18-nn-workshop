{
 "cells": [
  {
   "cell_type": "markdown",
   "metadata": {},
   "source": [
    "# Coding Portion: Fashion Item Classification\n",
    "\n",
    "* Dataset used: **Fashion MNIST** (28 x 28 grayscale images of fashion items)\n",
    "* Dataset size: 60,000 training samples, 10,000 test samples\n",
    "* Dataset source: https://github.com/zalandoresearch/fashion-mnist\n",
    "\n",
    "#### Classification Labels:\n",
    "Label | Description\n",
    ":--- | ---\n",
    "0 | T-shirt/top\n",
    "1 | Trouser\n",
    "2 | Pullover\n",
    "3 | Dress\n",
    "4 | Coat\n",
    "5 | Sandal\n",
    "6 | Shirt\n",
    "7 | Sneaker\n",
    "8 | Bag\n",
    "9 | Ankle boot"
   ]
  },
  {
   "cell_type": "markdown",
   "metadata": {},
   "source": [
    "### Step 1: Load in the Data"
   ]
  },
  {
   "cell_type": "code",
   "execution_count": 6,
   "metadata": {
    "collapsed": true
   },
   "outputs": [],
   "source": [
    "# Import Fashion-MNIST dataset from 'fashion' folder\n",
    "\n",
    "from fashion import mnist_reader\n",
    "X_train, y_train = mnist_reader.load_mnist('fashion', kind='train')\n",
    "X_test, y_test = mnist_reader.load_mnist('fashion', kind='t10k')"
   ]
  },
  {
   "cell_type": "code",
   "execution_count": 7,
   "metadata": {},
   "outputs": [
    {
     "name": "stdout",
     "output_type": "stream",
     "text": [
      "Inputs shape is (60000, 784)\n",
      "Input type is <class 'numpy.ndarray'>\n",
      "Labels:\n",
      "[9 0 0 ..., 3 0 5]\n",
      "Labels shape is(60000,)\n",
      "Labels type is <class 'numpy.ndarray'>\n"
     ]
    }
   ],
   "source": [
    "# Data exploration\n",
    "\n",
    "print(\"Inputs shape is \" + str(X_train.shape)) # 60,000 flattened image vectors (784 pixels long)\n",
    "print(\"Input type is \" + str(type(X_train)))\n",
    "print(\"Labels:\")\n",
    "print(y_train)\n",
    "print(\"Labels shape is\" + str(y_train.shape)) # 60,000 labels\n",
    "print(\"Labels type is \" + str(type(y_train)))"
   ]
  },
  {
   "cell_type": "code",
   "execution_count": 8,
   "metadata": {
    "collapsed": true
   },
   "outputs": [],
   "source": [
    "# Convert numerical label to item description\n",
    "\n",
    "def to_description(label):\n",
    "    if label == 0: return \"T-shirt/top\"\n",
    "    elif label == 1: return \"Trouser\"\n",
    "    elif label == 2: return \"Pullover\"\n",
    "    elif label == 3: return \"Dress\"\n",
    "    elif label == 4: return \"Coat\"\n",
    "    elif label == 5: return \"Sandal\"\n",
    "    elif label == 6: return \"Shirt\"\n",
    "    elif label == 7: return \"Sneaker\"\n",
    "    elif label == 8: return \"Bag\"\n",
    "    elif label == 9: return \"Ankle boot\"\n",
    "    else: return \"Label not found\""
   ]
  },
  {
   "cell_type": "code",
   "execution_count": 9,
   "metadata": {},
   "outputs": [
    {
     "name": "stdout",
     "output_type": "stream",
     "text": [
      "Label:  9\n",
      "Description:  Ankle boot\n"
     ]
    },
    {
     "data": {
      "image/png": "[encoded data removed]",
      "text/plain": [
       "<matplotlib.figure.Figure at 0x21773efb0b8>"
      ]
     },
     "metadata": {},
     "output_type": "display_data"
    }
   ],
   "source": [
    "# Visualize the training examples\n",
    "\n",
    "import matplotlib.pyplot as plt\n",
    "import numpy as np\n",
    "\n",
    "def visualize_sample(sample_num):\n",
    "    flattened_vector = X_train[sample_num] # retrieve flattened vector\n",
    "    image_2d = np.reshape(flattened_vector, (28, 28)) # reshape to 28 x 28 grayscale image array\n",
    "    plt.imshow(image_2d, cmap = plt.get_cmap('gray')) # feed image into matplotlib\n",
    "    print(\"Label: \", y_train[sample_num]) # print actual label\n",
    "    print(\"Description: \", to_description(y_train[sample_num])) # print description\n",
    "    plt.show()\n",
    "    \n",
    "    \n",
    "visualize_sample(0)"
   ]
  },
  {
   "cell_type": "markdown",
   "metadata": {},
   "source": [
    "### Step 2: Data Pre-Processing\n",
    "1. Normalize the feature vectors/pixel values\n",
    "2. Categorize the outputs"
   ]
  },
  {
   "cell_type": "code",
   "execution_count": 10,
   "metadata": {
    "collapsed": true
   },
   "outputs": [],
   "source": [
    "# Normalize pixel values to between 0-1\n",
    "\n",
    "# TODO: fill this in\n",
    "    # Hint: maximum pixel value is still 255\n",
    "    \n",
    "X_train = X_train/255\n",
    "X_test = X_test/255"
   ]
  },
  {
   "cell_type": "code",
   "execution_count": 11,
   "metadata": {},
   "outputs": [
    {
     "name": "stdout",
     "output_type": "stream",
     "text": [
      "[[ 0.  0.  0.  0.  0.  0.  0.  0.  0.  1.]\n",
      " [ 0.  0.  1.  0.  0.  0.  0.  0.  0.  0.]\n",
      " [ 0.  1.  0.  0.  0.  0.  0.  0.  0.  0.]\n",
      " [ 0.  1.  0.  0.  0.  0.  0.  0.  0.  0.]\n",
      " [ 0.  0.  0.  0.  0.  0.  1.  0.  0.  0.]]\n"
     ]
    }
   ],
   "source": [
    "import keras\n",
    "\n",
    "# TODO: Use Keras to categorize the outputs (\"one-hot\" vectors)\n",
    "    # Use variable names: y_train_categorical, y_test_categorical\n",
    "    \n",
    "y_train_categorical = keras.utils.to_categorical(y_train, num_classes=10)\n",
    "y_test_categorical = keras.utils.to_categorical(y_test, num_classes=10)\n",
    "\n",
    "# let's see result of categorizing the outputs\n",
    "print(y_test_categorical[:5])"
   ]
  },
  {
   "cell_type": "markdown",
   "metadata": {},
   "source": [
    "### Step 3: Create and Compile Neural Network Model"
   ]
  },
  {
   "cell_type": "code",
   "execution_count": 12,
   "metadata": {},
   "outputs": [],
   "source": [
    "from keras.layers import Dense, Activation\n",
    "from keras.models import Sequential\n",
    "\n",
    "\n",
    "model = Sequential()\n",
    "\n",
    "# TODO: fill this in\n",
    "# Feel free to experiment with different number of layers, number of neurons, activation functions, etc.\n",
    "    # Activation functions: https://keras.io/activations/\n",
    "    # Declaring Keras layers: https://keras.io/layers/core/\n",
    "    \n",
    "### Add 1st layer here. Remember that the input_dimension should match up with the input vector dimension!\n",
    "model.add(Dense(units=500, input_dim=784, activation='relu'))\n",
    "    \n",
    "### Add 2nd layer here.\n",
    "model.add(Dense(units=250, activation='relu'))\n",
    "\n",
    "# Add final layer here. Make sure the last layer matches up the output vector dimension\n",
    "    # Hint: use softmax again to output classification probabilities\n",
    "model.add(Dense(units=10, activation='softmax'))\n"
   ]
  },
  {
   "cell_type": "code",
   "execution_count": 13,
   "metadata": {
    "collapsed": true
   },
   "outputs": [],
   "source": [
    "# TODO: Compile model\n",
    "    # Loss: categorical cross-entropy\n",
    "    # Optimizer: stochastic gradient descent\n",
    "        # Or: experiment with other optimizers? https://keras.io/optimizers/\n",
    "    # Metrics: accuracy\n",
    "    \n",
    "model.compile(loss='categorical_crossentropy', optimizer='sgd', metrics=['accuracy'])\n",
    "\n",
    "    "
   ]
  },
  {
   "cell_type": "code",
   "execution_count": 14,
   "metadata": {},
   "outputs": [
    {
     "name": "stdout",
     "output_type": "stream",
     "text": [
      "_________________________________________________________________\n",
      "Layer (type)                 Output Shape              Param #   \n",
      "=================================================================\n",
      "dense_4 (Dense)              (None, 500)               392500    \n",
      "_________________________________________________________________\n",
      "dense_5 (Dense)              (None, 250)               125250    \n",
      "_________________________________________________________________\n",
      "dense_6 (Dense)              (None, 10)                2510      \n",
      "=================================================================\n",
      "Total params: 520,260\n",
      "Trainable params: 520,260\n",
      "Non-trainable params: 0\n",
      "_________________________________________________________________\n"
     ]
    }
   ],
   "source": [
    "# TODO: Print model summary\n",
    "model.summary()"
   ]
  },
  {
   "cell_type": "code",
   "execution_count": 15,
   "metadata": {
    "collapsed": true
   },
   "outputs": [],
   "source": [
    "# Import relevant libraries\n",
    "from keras_tqdm import TQDMNotebookCallback # TQDM: progress bars\n",
    "from keras.callbacks import TensorBoard # Tensorboard: training plots\n",
    "    \n",
    "# Clear any existing Tensorboard logs\n",
    "import shutil\n",
    "shutil.rmtree('./logs', ignore_errors=True)\n",
    "\n",
    "# Set up callback links to refer back to during training\n",
    "tensorboard = TensorBoard()\n",
    "callbacks_list = [TQDMNotebookCallback(), tensorboard]"
   ]
  },
  {
   "cell_type": "code",
   "execution_count": 16,
   "metadata": {},
   "outputs": [
    {
     "name": "stdout",
     "output_type": "stream",
     "text": [
      "Train on 54000 samples, validate on 6000 samples\n"
     ]
    },
    {
     "data": {
      "application/vnd.jupyter.widget-view+json": {
       "model_id": "804b7d4cfd104ddda6d9ecf5ceb66f64",
       "version_major": 2,
       "version_minor": 0
      },
      "text/html": [
       "<p>Failed to display Jupyter Widget of type <code>HBox</code>.</p>\n",
       "<p>\n",
       "  If you're reading this message in Jupyter Notebook or JupyterLab, it may mean\n",
       "  that the widgets JavaScript is still loading. If this message persists, it\n",
       "  likely means that the widgets JavaScript library is either not installed or\n",
       "  not enabled. See the <a href=\"https://ipywidgets.readthedocs.io/en/stable/user_install.html\">Jupyter\n",
       "  Widgets Documentation</a> for setup instructions.\n",
       "</p>\n",
       "<p>\n",
       "  If you're reading this message in another notebook frontend (for example, a static\n",
       "  rendering on GitHub or <a href=\"https://nbviewer.jupyter.org/\">NBViewer</a>),\n",
       "  it may mean that your frontend doesn't currently support widgets.\n",
       "</p>\n"
      ],
      "text/plain": [
       "HBox(children=(IntProgress(value=0, description='Training', max=10), HTML(value='')))"
      ]
     },
     "metadata": {},
     "output_type": "display_data"
    },
    {
     "data": {
      "application/vnd.jupyter.widget-view+json": {
       "model_id": "2e63ef1695ea4b558a82969d50e5832f",
       "version_major": 2,
       "version_minor": 0
      },
      "text/html": [
       "<p>Failed to display Jupyter Widget of type <code>HBox</code>.</p>\n",
       "<p>\n",
       "  If you're reading this message in Jupyter Notebook or JupyterLab, it may mean\n",
       "  that the widgets JavaScript is still loading. If this message persists, it\n",
       "  likely means that the widgets JavaScript library is either not installed or\n",
       "  not enabled. See the <a href=\"https://ipywidgets.readthedocs.io/en/stable/user_install.html\">Jupyter\n",
       "  Widgets Documentation</a> for setup instructions.\n",
       "</p>\n",
       "<p>\n",
       "  If you're reading this message in another notebook frontend (for example, a static\n",
       "  rendering on GitHub or <a href=\"https://nbviewer.jupyter.org/\">NBViewer</a>),\n",
       "  it may mean that your frontend doesn't currently support widgets.\n",
       "</p>\n"
      ],
      "text/plain": [
       "HBox(children=(IntProgress(value=0, description='Epoch 0', max=54000), HTML(value='')))"
      ]
     },
     "metadata": {},
     "output_type": "display_data"
    },
    {
     "name": "stdout",
     "output_type": "stream",
     "text": [
      "Epoch 1/10\n"
     ]
    },
    {
     "name": "stdout",
     "output_type": "stream",
     "text": [
      "26640/54000 [=============>................] - ETA: 257s - loss: 2.2843 - acc: 0.100 - ETA: 120s - loss: 2.2322 - acc: 0.141 - ETA: 111s - loss: 2.2313 - acc: 0.137 - ETA: 105s - loss: 2.2188 - acc: 0.135 - ETA: 101s - loss: 2.2031 - acc: 0.162 - ETA: 97s - loss: 2.1882 - acc: 0.171 - ETA: 96s - loss: 2.1786 - acc: 0.18 - ETA: 93s - loss: 2.1765 - acc: 0.18 - ETA: 91s - loss: 2.1683 - acc: 0.19 - ETA: 85s - loss: 2.1443 - acc: 0.21 - ETA: 85s - loss: 2.1359 - acc: 0.23 - ETA: 84s - loss: 2.1288 - acc: 0.23 - ETA: 85s - loss: 2.1132 - acc: 0.25 - ETA: 84s - loss: 2.1066 - acc: 0.26 - ETA: 84s - loss: 2.0998 - acc: 0.26 - ETA: 84s - loss: 2.0910 - acc: 0.27 - ETA: 83s - loss: 2.0805 - acc: 0.28 - ETA: 82s - loss: 2.0764 - acc: 0.29 - ETA: 82s - loss: 2.0697 - acc: 0.29 - ETA: 82s - loss: 2.0594 - acc: 0.31 - ETA: 81s - loss: 2.0519 - acc: 0.31 - ETA: 81s - loss: 2.0410 - acc: 0.32 - ETA: 81s - loss: 2.0348 - acc: 0.33 - ETA: 79s - loss: 2.0154 - acc: 0.35 - ETA: 79s - loss: 2.0060 - acc: 0.36 - ETA: 77s - loss: 1.9886 - acc: 0.37 - ETA: 75s - loss: 1.9698 - acc: 0.38 - ETA: 73s - loss: 1.9604 - acc: 0.39 - ETA: 71s - loss: 1.9421 - acc: 0.40 - ETA: 70s - loss: 1.9277 - acc: 0.40 - ETA: 69s - loss: 1.9139 - acc: 0.42 - ETA: 69s - loss: 1.9051 - acc: 0.42 - ETA: 67s - loss: 1.8912 - acc: 0.43 - ETA: 66s - loss: 1.8750 - acc: 0.44 - ETA: 65s - loss: 1.8589 - acc: 0.45 - ETA: 64s - loss: 1.8435 - acc: 0.46 - ETA: 63s - loss: 1.8283 - acc: 0.47 - ETA: 62s - loss: 1.8193 - acc: 0.47 - ETA: 61s - loss: 1.8038 - acc: 0.47 - ETA: 60s - loss: 1.7946 - acc: 0.47 - ETA: 59s - loss: 1.7849 - acc: 0.48 - ETA: 58s - loss: 1.7745 - acc: 0.48 - ETA: 57s - loss: 1.7632 - acc: 0.49 - ETA: 57s - loss: 1.7516 - acc: 0.49 - ETA: 56s - loss: 1.7373 - acc: 0.50 - ETA: 55s - loss: 1.7254 - acc: 0.50 - ETA: 54s - loss: 1.7054 - acc: 0.51 - ETA: 53s - loss: 1.6955 - acc: 0.51 - ETA: 53s - loss: 1.6861 - acc: 0.51 - ETA: 52s - loss: 1.6744 - acc: 0.51 - ETA: 52s - loss: 1.6640 - acc: 0.52 - ETA: 51s - loss: 1.6528 - acc: 0.52 - ETA: 51s - loss: 1.6446 - acc: 0.53 - ETA: 50s - loss: 1.6286 - acc: 0.53 - ETA: 49s - loss: 1.6160 - acc: 0.54 - ETA: 48s - loss: 1.6024 - acc: 0.54 - ETA: 47s - loss: 1.5896 - acc: 0.54 - ETA: 46s - loss: 1.5739 - acc: 0.55 - ETA: 46s - loss: 1.5597 - acc: 0.55 - ETA: 45s - loss: 1.5453 - acc: 0.56 - ETA: 44s - loss: 1.5335 - acc: 0.56 - ETA: 44s - loss: 1.5230 - acc: 0.56 - ETA: 43s - loss: 1.5110 - acc: 0.56 - ETA: 43s - loss: 1.4964 - acc: 0.57 - ETA: 42s - loss: 1.4834 - acc: 0.57 - ETA: 42s - loss: 1.4762 - acc: 0.57 - ETA: 41s - loss: 1.4670 - acc: 0.58 - ETA: 41s - loss: 1.4560 - acc: 0.58 - ETA: 40s - loss: 1.4462 - acc: 0.58 - ETA: 40s - loss: 1.4373 - acc: 0.58 - ETA: 39s - loss: 1.4285 - acc: 0.58 - ETA: 39s - loss: 1.4215 - acc: 0.59 - ETA: 38s - loss: 1.4105 - acc: 0.59 - ETA: 38s - loss: 1.4028 - acc: 0.59 - ETA: 38s - loss: 1.3959 - acc: 0.59 - ETA: 37s - loss: 1.3876 - acc: 0.59 - ETA: 37s - loss: 1.3795 - acc: 0.59 - ETA: 37s - loss: 1.3718 - acc: 0.60 - ETA: 36s - loss: 1.3640 - acc: 0.60 - ETA: 36s - loss: 1.3523 - acc: 0.60 - ETA: 35s - loss: 1.3459 - acc: 0.60 - ETA: 35s - loss: 1.3405 - acc: 0.60 - ETA: 35s - loss: 1.3342 - acc: 0.60 - ETA: 34s - loss: 1.3253 - acc: 0.61 - ETA: 34s - loss: 1.3178 - acc: 0.61 - ETA: 33s - loss: 1.3093 - acc: 0.61 - ETA: 33s - loss: 1.3036 - acc: 0.61 - ETA: 33s - loss: 1.2957 - acc: 0.61 - ETA: 32s - loss: 1.2881 - acc: 0.62 - ETA: 32s - loss: 1.2803 - acc: 0.62 - ETA: 32s - loss: 1.2720 - acc: 0.62 - ETA: 31s - loss: 1.2651 - acc: 0.62 - ETA: 31s - loss: 1.2609 - acc: 0.62 - ETA: 31s - loss: 1.2566 - acc: 0.62 - ETA: 30s - loss: 1.2511 - acc: 0.62 - ETA: 30s - loss: 1.2462 - acc: 0.62 - ETA: 30s - loss: 1.2404 - acc: 0.63 - ETA: 30s - loss: 1.2330 - acc: 0.63 - ETA: 29s - loss: 1.2257 - acc: 0.63 - ETA: 29s - loss: 1.2189 - acc: 0.63 - ETA: 29s - loss: 1.2147 - acc: 0.63 - ETA: 29s - loss: 1.2098 - acc: 0.63 - ETA: 28s - loss: 1.2045 - acc: 0.63 - ETA: 28s - loss: 1.1988 - acc: 0.64 - ETA: 28s - loss: 1.1958 - acc: 0.64 - ETA: 28s - loss: 1.1902 - acc: 0.64 - ETA: 27s - loss: 1.1871 - acc: 0.64 - ETA: 27s - loss: 1.1813 - acc: 0.64 - ETA: 27s - loss: 1.1759 - acc: 0.64 - ETA: 27s - loss: 1.1698 - acc: 0.64 - ETA: 27s - loss: 1.1672 - acc: 0.64 - ETA: 26s - loss: 1.1622 - acc: 0.64 - ETA: 26s - loss: 1.1574 - acc: 0.65 - ETA: 26s - loss: 1.1527 - acc: 0.65 - ETA: 25s - loss: 1.1487 - acc: 0.65 - ETA: 25s - loss: 1.1446 - acc: 0.65 - ETA: 25s - loss: 1.1391 - acc: 0.65 - ETA: 25s - loss: 1.1346 - acc: 0.65 - ETA: 25s - loss: 1.1307 - acc: 0.65 - ETA: 24s - loss: 1.1275 - acc: 0.65 - ETA: 24s - loss: 1.1235 - acc: 0.65 - ETA: 24s - loss: 1.1180 - acc: 0.65 - ETA: 24s - loss: 1.1136 - acc: 0.66 - ETA: 24s - loss: 1.1089 - acc: 0.66 - ETA: 23s - loss: 1.1052 - acc: 0.66 - ETA: 23s - loss: 1.1011 - acc: 0.66 - ETA: 23s - loss: 1.0963 - acc: 0.66 - ETA: 23s - loss: 1.0927 - acc: 0.66 - ETA: 23s - loss: 1.0888 - acc: 0.66 - ETA: 22s - loss: 1.0851 - acc: 0.66 - ETA: 22s - loss: 1.0818 - acc: 0.66 - ETA: 22s - loss: 1.0788 - acc: 0.66 - ETA: 22s - loss: 1.0743 - acc: 0.66 - ETA: 22s - loss: 1.0721 - acc: 0.67 - ETA: 21s - loss: 1.0705 - acc: 0.67 - ETA: 21s - loss: 1.0668 - acc: 0.67 - ETA: 21s - loss: 1.0627 - acc: 0.67 - ETA: 21s - loss: 1.0597 - acc: 0.67 - ETA: 21s - loss: 1.0551 - acc: 0.67 - ETA: 21s - loss: 1.0502 - acc: 0.67 - ETA: 20s - loss: 1.0468 - acc: 0.67 - ETA: 20s - loss: 1.0445 - acc: 0.67 - ETA: 20s - loss: 1.0406 - acc: 0.67 - ETA: 20s - loss: 1.0376 - acc: 0.67 - ETA: 20s - loss: 1.0342 - acc: 0.67 - ETA: 20s - loss: 1.0319 - acc: 0.68 - ETA: 19s - loss: 1.0300 - acc: 0.68 - ETA: 19s - loss: 1.0273 - acc: 0.68 - ETA: 19s - loss: 1.0248 - acc: 0.68 - ETA: 19s - loss: 1.0220 - acc: 0.68 - ETA: 19s - loss: 1.0191 - acc: 0.68 - ETA: 19s - loss: 1.0168 - acc: 0.68 - ETA: 19s - loss: 1.0142 - acc: 0.68 - ETA: 19s - loss: 1.0117 - acc: 0.68 - ETA: 18s - loss: 1.0092 - acc: 0.68 - ETA: 18s - loss: 1.0063 - acc: 0.68 - ETA: 18s - loss: 1.0037 - acc: 0.68 - ETA: 18s - loss: 1.0008 - acc: 0.68 - ETA: 18s - loss: 0.9989 - acc: 0.68 - ETA: 18s - loss: 0.9956 - acc: 0.69 - ETA: 18s - loss: 0.9937 - acc: 0.69 - ETA: 18s - loss: 0.9912 - acc: 0.69 - ETA: 17s - loss: 0.9886 - acc: 0.69 - ETA: 17s - loss: 0.9870 - acc: 0.69 - ETA: 17s - loss: 0.9857 - acc: 0.69 - ETA: 17s - loss: 0.9830 - acc: 0.69 - ETA: 17s - loss: 0.9814 - acc: 0.69 - ETA: 17s - loss: 0.9789 - acc: 0.69 - ETA: 17s - loss: 0.9771 - acc: 0.69 - ETA: 17s - loss: 0.9740 - acc: 0.69 - ETA: 17s - loss: 0.9715 - acc: 0.69 - ETA: 16s - loss: 0.9691 - acc: 0.69 - ETA: 16s - loss: 0.9668 - acc: 0.69 - ETA: 16s - loss: 0.9639 - acc: 0.69 - ETA: 16s - loss: 0.9624 - acc: 0.69 - ETA: 16s - loss: 0.9607 - acc: 0.69 - ETA: 16s - loss: 0.9599 - acc: 0.69 - ETA: 16s - loss: 0.9573 - acc: 0.70 - ETA: 16s - loss: 0.9547 - acc: 0.70 - ETA: 16s - loss: 0.9518 - acc: 0.70 - ETA: 15s - loss: 0.9495 - acc: 0.70 - ETA: 15s - loss: 0.9477 - acc: 0.70 - ETA: 15s - loss: 0.9459 - acc: 0.70 - ETA: 15s - loss: 0.9443 - acc: 0.70 - ETA: 15s - loss: 0.9428 - acc: 0.70 - ETA: 15s - loss: 0.9409 - acc: 0.70 - ETA: 15s - loss: 0.9397 - acc: 0.70 - ETA: 15s - loss: 0.9378 - acc: 0.70 - ETA: 15s - loss: 0.9369 - acc: 0.70 - ETA: 15s - loss: 0.9349 - acc: 0.70 - ETA: 14s - loss: 0.9338 - acc: 0.70 - ETA: 14s - loss: 0.9320 - acc: 0.70 - ETA: 14s - loss: 0.9295 - acc: 0.70 - ETA: 14s - loss: 0.9275 - acc: 0.70 - ETA: 14s - loss: 0.9258 - acc: 0.70 - ETA: 14s - loss: 0.9244 - acc: 0.70 - ETA: 14s - loss: 0.9235 - acc: 0.70 - ETA: 14s - loss: 0.9222 - acc: 0.70 - ETA: 14s - loss: 0.9208 - acc: 0.70 - ETA: 14s - loss: 0.9180 - acc: 0.71 - ETA: 13s - loss: 0.9168 - acc: 0.71 - ETA: 13s - loss: 0.9152 - acc: 0.71 - ETA: 13s - loss: 0.9141 - acc: 0.71 - ETA: 13s - loss: 0.9122 - acc: 0.71 - ETA: 13s - loss: 0.9107 - acc: 0.71 - ETA: 13s - loss: 0.9087 - acc: 0.71 - ETA: 13s - loss: 0.9073 - acc: 0.71 - ETA: 13s - loss: 0.9058 - acc: 0.71 - ETA: 13s - loss: 0.9039 - acc: 0.71 - ETA: 13s - loss: 0.9021 - acc: 0.71 - ETA: 13s - loss: 0.9003 - acc: 0.71 - ETA: 12s - loss: 0.8986 - acc: 0.71 - ETA: 12s - loss: 0.8976 - acc: 0.71 - ETA: 12s - loss: 0.8956 - acc: 0.7167\b\b\b\b\b\b\b\b\b\b\b\b\b\b\b\b\b\b\b\b\b\b\b\b\b\b\b\b\b\b\b\b\b\b\b\b\b\b\b\b\b\b\b\b\b\b\b\b\b\b\b\b\b\b\b\b\b\b\b\b\b\b\b\b\b\b\b\b\b\b\b\b\b\b\b\b\b\b\b\b\b\b\b\b"
     ]
    },
    {
     "name": "stdout",
     "output_type": "stream",
     "text": [
      "54000/54000 [==============================] - ETA: 12s - loss: 0.8940 - acc: 0.71 - ETA: 12s - loss: 0.8915 - acc: 0.71 - ETA: 12s - loss: 0.8901 - acc: 0.71 - ETA: 12s - loss: 0.8890 - acc: 0.71 - ETA: 12s - loss: 0.8874 - acc: 0.71 - ETA: 12s - loss: 0.8852 - acc: 0.71 - ETA: 12s - loss: 0.8837 - acc: 0.72 - ETA: 12s - loss: 0.8820 - acc: 0.72 - ETA: 11s - loss: 0.8812 - acc: 0.72 - ETA: 11s - loss: 0.8795 - acc: 0.72 - ETA: 11s - loss: 0.8787 - acc: 0.72 - ETA: 11s - loss: 0.8774 - acc: 0.72 - ETA: 11s - loss: 0.8757 - acc: 0.72 - ETA: 11s - loss: 0.8744 - acc: 0.72 - ETA: 11s - loss: 0.8726 - acc: 0.72 - ETA: 11s - loss: 0.8714 - acc: 0.72 - ETA: 11s - loss: 0.8704 - acc: 0.72 - ETA: 11s - loss: 0.8691 - acc: 0.72 - ETA: 11s - loss: 0.8673 - acc: 0.72 - ETA: 11s - loss: 0.8665 - acc: 0.72 - ETA: 10s - loss: 0.8654 - acc: 0.72 - ETA: 10s - loss: 0.8639 - acc: 0.72 - ETA: 10s - loss: 0.8622 - acc: 0.72 - ETA: 10s - loss: 0.8614 - acc: 0.72 - ETA: 10s - loss: 0.8602 - acc: 0.72 - ETA: 10s - loss: 0.8592 - acc: 0.72 - ETA: 10s - loss: 0.8577 - acc: 0.72 - ETA: 10s - loss: 0.8568 - acc: 0.72 - ETA: 10s - loss: 0.8554 - acc: 0.72 - ETA: 10s - loss: 0.8547 - acc: 0.72 - ETA: 10s - loss: 0.8533 - acc: 0.72 - ETA: 10s - loss: 0.8520 - acc: 0.72 - ETA: 10s - loss: 0.8505 - acc: 0.72 - ETA: 9s - loss: 0.8490 - acc: 0.7295 - ETA: 9s - loss: 0.8476 - acc: 0.729 - ETA: 9s - loss: 0.8467 - acc: 0.730 - ETA: 9s - loss: 0.8442 - acc: 0.730 - ETA: 9s - loss: 0.8433 - acc: 0.730 - ETA: 9s - loss: 0.8419 - acc: 0.731 - ETA: 9s - loss: 0.8412 - acc: 0.731 - ETA: 9s - loss: 0.8401 - acc: 0.731 - ETA: 9s - loss: 0.8387 - acc: 0.732 - ETA: 9s - loss: 0.8372 - acc: 0.732 - ETA: 9s - loss: 0.8362 - acc: 0.733 - ETA: 9s - loss: 0.8350 - acc: 0.733 - ETA: 9s - loss: 0.8346 - acc: 0.733 - ETA: 8s - loss: 0.8334 - acc: 0.733 - ETA: 8s - loss: 0.8327 - acc: 0.734 - ETA: 8s - loss: 0.8316 - acc: 0.734 - ETA: 8s - loss: 0.8312 - acc: 0.734 - ETA: 8s - loss: 0.8298 - acc: 0.734 - ETA: 8s - loss: 0.8288 - acc: 0.734 - ETA: 8s - loss: 0.8277 - acc: 0.735 - ETA: 8s - loss: 0.8267 - acc: 0.735 - ETA: 8s - loss: 0.8259 - acc: 0.735 - ETA: 8s - loss: 0.8244 - acc: 0.736 - ETA: 8s - loss: 0.8234 - acc: 0.736 - ETA: 8s - loss: 0.8226 - acc: 0.736 - ETA: 7s - loss: 0.8213 - acc: 0.736 - ETA: 7s - loss: 0.8202 - acc: 0.737 - ETA: 7s - loss: 0.8196 - acc: 0.737 - ETA: 7s - loss: 0.8187 - acc: 0.737 - ETA: 7s - loss: 0.8175 - acc: 0.737 - ETA: 7s - loss: 0.8165 - acc: 0.738 - ETA: 7s - loss: 0.8155 - acc: 0.738 - ETA: 7s - loss: 0.8151 - acc: 0.738 - ETA: 7s - loss: 0.8141 - acc: 0.738 - ETA: 7s - loss: 0.8135 - acc: 0.739 - ETA: 7s - loss: 0.8128 - acc: 0.739 - ETA: 7s - loss: 0.8117 - acc: 0.739 - ETA: 7s - loss: 0.8106 - acc: 0.739 - ETA: 7s - loss: 0.8093 - acc: 0.739 - ETA: 6s - loss: 0.8086 - acc: 0.740 - ETA: 6s - loss: 0.8076 - acc: 0.740 - ETA: 6s - loss: 0.8064 - acc: 0.740 - ETA: 6s - loss: 0.8056 - acc: 0.741 - ETA: 6s - loss: 0.8046 - acc: 0.741 - ETA: 6s - loss: 0.8038 - acc: 0.741 - ETA: 6s - loss: 0.8032 - acc: 0.741 - ETA: 6s - loss: 0.8030 - acc: 0.742 - ETA: 6s - loss: 0.8023 - acc: 0.742 - ETA: 6s - loss: 0.8018 - acc: 0.742 - ETA: 6s - loss: 0.8006 - acc: 0.742 - ETA: 6s - loss: 0.8001 - acc: 0.743 - ETA: 6s - loss: 0.7998 - acc: 0.743 - ETA: 6s - loss: 0.7997 - acc: 0.743 - ETA: 6s - loss: 0.7989 - acc: 0.743 - ETA: 6s - loss: 0.7983 - acc: 0.743 - ETA: 6s - loss: 0.7974 - acc: 0.744 - ETA: 6s - loss: 0.7967 - acc: 0.744 - ETA: 6s - loss: 0.7963 - acc: 0.744 - ETA: 5s - loss: 0.7953 - acc: 0.744 - ETA: 5s - loss: 0.7945 - acc: 0.744 - ETA: 5s - loss: 0.7938 - acc: 0.744 - ETA: 5s - loss: 0.7927 - acc: 0.744 - ETA: 5s - loss: 0.7921 - acc: 0.745 - ETA: 5s - loss: 0.7912 - acc: 0.745 - ETA: 5s - loss: 0.7905 - acc: 0.745 - ETA: 5s - loss: 0.7898 - acc: 0.745 - ETA: 5s - loss: 0.7892 - acc: 0.745 - ETA: 5s - loss: 0.7882 - acc: 0.746 - ETA: 5s - loss: 0.7873 - acc: 0.746 - ETA: 5s - loss: 0.7868 - acc: 0.746 - ETA: 5s - loss: 0.7858 - acc: 0.746 - ETA: 5s - loss: 0.7850 - acc: 0.747 - ETA: 4s - loss: 0.7840 - acc: 0.747 - ETA: 4s - loss: 0.7834 - acc: 0.747 - ETA: 4s - loss: 0.7824 - acc: 0.747 - ETA: 4s - loss: 0.7816 - acc: 0.747 - ETA: 4s - loss: 0.7806 - acc: 0.748 - ETA: 4s - loss: 0.7800 - acc: 0.748 - ETA: 4s - loss: 0.7793 - acc: 0.748 - ETA: 4s - loss: 0.7784 - acc: 0.748 - ETA: 4s - loss: 0.7780 - acc: 0.748 - ETA: 4s - loss: 0.7776 - acc: 0.748 - ETA: 4s - loss: 0.7765 - acc: 0.749 - ETA: 4s - loss: 0.7759 - acc: 0.749 - ETA: 4s - loss: 0.7751 - acc: 0.749 - ETA: 4s - loss: 0.7745 - acc: 0.750 - ETA: 4s - loss: 0.7737 - acc: 0.750 - ETA: 4s - loss: 0.7731 - acc: 0.750 - ETA: 3s - loss: 0.7725 - acc: 0.750 - ETA: 3s - loss: 0.7717 - acc: 0.750 - ETA: 3s - loss: 0.7710 - acc: 0.751 - ETA: 3s - loss: 0.7703 - acc: 0.751 - ETA: 3s - loss: 0.7698 - acc: 0.751 - ETA: 3s - loss: 0.7692 - acc: 0.751 - ETA: 3s - loss: 0.7687 - acc: 0.751 - ETA: 3s - loss: 0.7684 - acc: 0.751 - ETA: 3s - loss: 0.7675 - acc: 0.752 - ETA: 3s - loss: 0.7668 - acc: 0.752 - ETA: 3s - loss: 0.7663 - acc: 0.752 - ETA: 3s - loss: 0.7658 - acc: 0.752 - ETA: 3s - loss: 0.7654 - acc: 0.752 - ETA: 3s - loss: 0.7644 - acc: 0.753 - ETA: 3s - loss: 0.7637 - acc: 0.753 - ETA: 3s - loss: 0.7631 - acc: 0.753 - ETA: 2s - loss: 0.7626 - acc: 0.753 - ETA: 2s - loss: 0.7618 - acc: 0.753 - ETA: 2s - loss: 0.7607 - acc: 0.754 - ETA: 2s - loss: 0.7603 - acc: 0.754 - ETA: 2s - loss: 0.7599 - acc: 0.754 - ETA: 2s - loss: 0.7593 - acc: 0.754 - ETA: 2s - loss: 0.7583 - acc: 0.755 - ETA: 2s - loss: 0.7580 - acc: 0.755 - ETA: 2s - loss: 0.7573 - acc: 0.755 - ETA: 2s - loss: 0.7566 - acc: 0.755 - ETA: 2s - loss: 0.7559 - acc: 0.755 - ETA: 2s - loss: 0.7558 - acc: 0.755 - ETA: 2s - loss: 0.7551 - acc: 0.756 - ETA: 2s - loss: 0.7548 - acc: 0.756 - ETA: 2s - loss: 0.7545 - acc: 0.756 - ETA: 2s - loss: 0.7536 - acc: 0.756 - ETA: 2s - loss: 0.7532 - acc: 0.756 - ETA: 1s - loss: 0.7526 - acc: 0.756 - ETA: 1s - loss: 0.7518 - acc: 0.756 - ETA: 1s - loss: 0.7510 - acc: 0.757 - ETA: 1s - loss: 0.7505 - acc: 0.757 - ETA: 1s - loss: 0.7500 - acc: 0.757 - ETA: 1s - loss: 0.7498 - acc: 0.757 - ETA: 1s - loss: 0.7490 - acc: 0.757 - ETA: 1s - loss: 0.7488 - acc: 0.757 - ETA: 1s - loss: 0.7483 - acc: 0.758 - ETA: 1s - loss: 0.7479 - acc: 0.758 - ETA: 1s - loss: 0.7472 - acc: 0.758 - ETA: 1s - loss: 0.7466 - acc: 0.758 - ETA: 1s - loss: 0.7462 - acc: 0.758 - ETA: 1s - loss: 0.7453 - acc: 0.758 - ETA: 1s - loss: 0.7448 - acc: 0.759 - ETA: 1s - loss: 0.7444 - acc: 0.759 - ETA: 1s - loss: 0.7443 - acc: 0.759 - ETA: 0s - loss: 0.7443 - acc: 0.759 - ETA: 0s - loss: 0.7436 - acc: 0.759 - ETA: 0s - loss: 0.7434 - acc: 0.759 - ETA: 0s - loss: 0.7429 - acc: 0.759 - ETA: 0s - loss: 0.7421 - acc: 0.759 - ETA: 0s - loss: 0.7412 - acc: 0.760 - ETA: 0s - loss: 0.7412 - acc: 0.759 - ETA: 0s - loss: 0.7406 - acc: 0.760 - ETA: 0s - loss: 0.7400 - acc: 0.760 - ETA: 0s - loss: 0.7397 - acc: 0.760 - ETA: 0s - loss: 0.7395 - acc: 0.760 - ETA: 0s - loss: 0.7390 - acc: 0.760 - ETA: 0s - loss: 0.7385 - acc: 0.760 - ETA: 0s - loss: 0.7379 - acc: 0.760 - ETA: 0s - loss: 0.7376 - acc: 0.760 - ETA: 0s - loss: 0.7375 - acc: 0.760 - ETA: 0s - loss: 0.7371 - acc: 0.761 - ETA: 0s - loss: 0.7367 - acc: 0.760 - 23s - loss: 0.7365 - acc: 0.7610 - val_loss: 0.5286 - val_acc: 0.8163\n"
     ]
    },
    {
     "data": {
      "application/vnd.jupyter.widget-view+json": {
       "model_id": "0127f08595d24dd6b0e832bb246e5b2d",
       "version_major": 2,
       "version_minor": 0
      },
      "text/html": [
       "<p>Failed to display Jupyter Widget of type <code>HBox</code>.</p>\n",
       "<p>\n",
       "  If you're reading this message in Jupyter Notebook or JupyterLab, it may mean\n",
       "  that the widgets JavaScript is still loading. If this message persists, it\n",
       "  likely means that the widgets JavaScript library is either not installed or\n",
       "  not enabled. See the <a href=\"https://ipywidgets.readthedocs.io/en/stable/user_install.html\">Jupyter\n",
       "  Widgets Documentation</a> for setup instructions.\n",
       "</p>\n",
       "<p>\n",
       "  If you're reading this message in another notebook frontend (for example, a static\n",
       "  rendering on GitHub or <a href=\"https://nbviewer.jupyter.org/\">NBViewer</a>),\n",
       "  it may mean that your frontend doesn't currently support widgets.\n",
       "</p>\n"
      ],
      "text/plain": [
       "HBox(children=(IntProgress(value=0, description='Epoch 1', max=54000), HTML(value='')))"
      ]
     },
     "metadata": {},
     "output_type": "display_data"
    },
    {
     "name": "stdout",
     "output_type": "stream",
     "text": [
      "Epoch 2/10\n"
     ]
    },
    {
     "name": "stdout",
     "output_type": "stream",
     "text": [
      "27400/54000 [==============>...............] - ETA: 22s - loss: 0.4847 - acc: 0.77 - ETA: 21s - loss: 0.5075 - acc: 0.80 - ETA: 23s - loss: 0.5043 - acc: 0.80 - ETA: 21s - loss: 0.5384 - acc: 0.79 - ETA: 22s - loss: 0.5150 - acc: 0.81 - ETA: 21s - loss: 0.5403 - acc: 0.82 - ETA: 22s - loss: 0.5324 - acc: 0.82 - ETA: 22s - loss: 0.5257 - acc: 0.82 - ETA: 21s - loss: 0.5227 - acc: 0.82 - ETA: 20s - loss: 0.5316 - acc: 0.82 - ETA: 21s - loss: 0.5296 - acc: 0.82 - ETA: 21s - loss: 0.5269 - acc: 0.82 - ETA: 21s - loss: 0.5291 - acc: 0.82 - ETA: 20s - loss: 0.5251 - acc: 0.82 - ETA: 20s - loss: 0.5235 - acc: 0.82 - ETA: 20s - loss: 0.5240 - acc: 0.82 - ETA: 20s - loss: 0.5224 - acc: 0.82 - ETA: 21s - loss: 0.5232 - acc: 0.82 - ETA: 21s - loss: 0.5225 - acc: 0.82 - ETA: 21s - loss: 0.5216 - acc: 0.82 - ETA: 21s - loss: 0.5247 - acc: 0.82 - ETA: 20s - loss: 0.5303 - acc: 0.82 - ETA: 20s - loss: 0.5350 - acc: 0.82 - ETA: 20s - loss: 0.5319 - acc: 0.82 - ETA: 20s - loss: 0.5345 - acc: 0.82 - ETA: 20s - loss: 0.5351 - acc: 0.82 - ETA: 20s - loss: 0.5328 - acc: 0.82 - ETA: 20s - loss: 0.5343 - acc: 0.82 - ETA: 20s - loss: 0.5346 - acc: 0.82 - ETA: 20s - loss: 0.5332 - acc: 0.82 - ETA: 20s - loss: 0.5317 - acc: 0.82 - ETA: 19s - loss: 0.5304 - acc: 0.82 - ETA: 19s - loss: 0.5311 - acc: 0.82 - ETA: 19s - loss: 0.5295 - acc: 0.82 - ETA: 19s - loss: 0.5282 - acc: 0.82 - ETA: 19s - loss: 0.5287 - acc: 0.82 - ETA: 19s - loss: 0.5331 - acc: 0.82 - ETA: 19s - loss: 0.5332 - acc: 0.82 - ETA: 19s - loss: 0.5324 - acc: 0.82 - ETA: 19s - loss: 0.5312 - acc: 0.82 - ETA: 19s - loss: 0.5284 - acc: 0.82 - ETA: 19s - loss: 0.5284 - acc: 0.82 - ETA: 19s - loss: 0.5298 - acc: 0.82 - ETA: 19s - loss: 0.5277 - acc: 0.82 - ETA: 19s - loss: 0.5259 - acc: 0.82 - ETA: 19s - loss: 0.5264 - acc: 0.82 - ETA: 18s - loss: 0.5249 - acc: 0.82 - ETA: 19s - loss: 0.5246 - acc: 0.82 - ETA: 19s - loss: 0.5234 - acc: 0.82 - ETA: 19s - loss: 0.5244 - acc: 0.82 - ETA: 19s - loss: 0.5254 - acc: 0.82 - ETA: 19s - loss: 0.5249 - acc: 0.82 - ETA: 19s - loss: 0.5248 - acc: 0.82 - ETA: 19s - loss: 0.5243 - acc: 0.82 - ETA: 19s - loss: 0.5247 - acc: 0.82 - ETA: 19s - loss: 0.5233 - acc: 0.82 - ETA: 18s - loss: 0.5229 - acc: 0.82 - ETA: 18s - loss: 0.5231 - acc: 0.82 - ETA: 18s - loss: 0.5212 - acc: 0.82 - ETA: 18s - loss: 0.5209 - acc: 0.82 - ETA: 18s - loss: 0.5217 - acc: 0.82 - ETA: 18s - loss: 0.5212 - acc: 0.82 - ETA: 18s - loss: 0.5212 - acc: 0.82 - ETA: 18s - loss: 0.5212 - acc: 0.82 - ETA: 18s - loss: 0.5198 - acc: 0.82 - ETA: 18s - loss: 0.5197 - acc: 0.82 - ETA: 18s - loss: 0.5187 - acc: 0.82 - ETA: 18s - loss: 0.5178 - acc: 0.82 - ETA: 18s - loss: 0.5168 - acc: 0.82 - ETA: 18s - loss: 0.5156 - acc: 0.82 - ETA: 18s - loss: 0.5140 - acc: 0.82 - ETA: 18s - loss: 0.5148 - acc: 0.82 - ETA: 18s - loss: 0.5171 - acc: 0.82 - ETA: 18s - loss: 0.5193 - acc: 0.82 - ETA: 18s - loss: 0.5192 - acc: 0.82 - ETA: 18s - loss: 0.5190 - acc: 0.82 - ETA: 18s - loss: 0.5188 - acc: 0.82 - ETA: 18s - loss: 0.5186 - acc: 0.82 - ETA: 18s - loss: 0.5187 - acc: 0.82 - ETA: 18s - loss: 0.5192 - acc: 0.82 - ETA: 18s - loss: 0.5191 - acc: 0.82 - ETA: 18s - loss: 0.5180 - acc: 0.82 - ETA: 18s - loss: 0.5176 - acc: 0.82 - ETA: 18s - loss: 0.5181 - acc: 0.82 - ETA: 18s - loss: 0.5179 - acc: 0.82 - ETA: 18s - loss: 0.5174 - acc: 0.82 - ETA: 18s - loss: 0.5171 - acc: 0.82 - ETA: 18s - loss: 0.5175 - acc: 0.82 - ETA: 18s - loss: 0.5169 - acc: 0.82 - ETA: 18s - loss: 0.5173 - acc: 0.82 - ETA: 17s - loss: 0.5187 - acc: 0.82 - ETA: 17s - loss: 0.5187 - acc: 0.82 - ETA: 17s - loss: 0.5182 - acc: 0.82 - ETA: 17s - loss: 0.5170 - acc: 0.82 - ETA: 17s - loss: 0.5163 - acc: 0.82 - ETA: 17s - loss: 0.5148 - acc: 0.82 - ETA: 17s - loss: 0.5153 - acc: 0.82 - ETA: 17s - loss: 0.5157 - acc: 0.82 - ETA: 17s - loss: 0.5146 - acc: 0.82 - ETA: 17s - loss: 0.5138 - acc: 0.82 - ETA: 17s - loss: 0.5156 - acc: 0.82 - ETA: 17s - loss: 0.5157 - acc: 0.82 - ETA: 17s - loss: 0.5152 - acc: 0.82 - ETA: 17s - loss: 0.5150 - acc: 0.82 - ETA: 17s - loss: 0.5152 - acc: 0.82 - ETA: 17s - loss: 0.5149 - acc: 0.82 - ETA: 17s - loss: 0.5139 - acc: 0.82 - ETA: 17s - loss: 0.5129 - acc: 0.82 - ETA: 17s - loss: 0.5134 - acc: 0.82 - ETA: 17s - loss: 0.5133 - acc: 0.82 - ETA: 17s - loss: 0.5135 - acc: 0.82 - ETA: 17s - loss: 0.5138 - acc: 0.82 - ETA: 17s - loss: 0.5146 - acc: 0.82 - ETA: 17s - loss: 0.5137 - acc: 0.82 - ETA: 17s - loss: 0.5131 - acc: 0.82 - ETA: 17s - loss: 0.5133 - acc: 0.82 - ETA: 16s - loss: 0.5127 - acc: 0.82 - ETA: 16s - loss: 0.5124 - acc: 0.82 - ETA: 16s - loss: 0.5119 - acc: 0.82 - ETA: 16s - loss: 0.5126 - acc: 0.82 - ETA: 16s - loss: 0.5119 - acc: 0.82 - ETA: 16s - loss: 0.5109 - acc: 0.82 - ETA: 16s - loss: 0.5103 - acc: 0.82 - ETA: 16s - loss: 0.5100 - acc: 0.82 - ETA: 16s - loss: 0.5100 - acc: 0.82 - ETA: 16s - loss: 0.5102 - acc: 0.82 - ETA: 16s - loss: 0.5099 - acc: 0.82 - ETA: 16s - loss: 0.5104 - acc: 0.82 - ETA: 16s - loss: 0.5112 - acc: 0.82 - ETA: 16s - loss: 0.5109 - acc: 0.82 - ETA: 16s - loss: 0.5111 - acc: 0.82 - ETA: 16s - loss: 0.5112 - acc: 0.82 - ETA: 16s - loss: 0.5111 - acc: 0.82 - ETA: 16s - loss: 0.5105 - acc: 0.82 - ETA: 16s - loss: 0.5100 - acc: 0.82 - ETA: 16s - loss: 0.5097 - acc: 0.82 - ETA: 15s - loss: 0.5094 - acc: 0.82 - ETA: 15s - loss: 0.5096 - acc: 0.82 - ETA: 15s - loss: 0.5090 - acc: 0.82 - ETA: 15s - loss: 0.5083 - acc: 0.82 - ETA: 15s - loss: 0.5076 - acc: 0.82 - ETA: 15s - loss: 0.5074 - acc: 0.82 - ETA: 15s - loss: 0.5076 - acc: 0.82 - ETA: 15s - loss: 0.5077 - acc: 0.82 - ETA: 15s - loss: 0.5085 - acc: 0.82 - ETA: 15s - loss: 0.5097 - acc: 0.82 - ETA: 15s - loss: 0.5095 - acc: 0.82 - ETA: 15s - loss: 0.5095 - acc: 0.82 - ETA: 15s - loss: 0.5098 - acc: 0.82 - ETA: 15s - loss: 0.5101 - acc: 0.82 - ETA: 15s - loss: 0.5106 - acc: 0.82 - ETA: 15s - loss: 0.5105 - acc: 0.82 - ETA: 15s - loss: 0.5101 - acc: 0.82 - ETA: 15s - loss: 0.5107 - acc: 0.82 - ETA: 15s - loss: 0.5103 - acc: 0.82 - ETA: 14s - loss: 0.5106 - acc: 0.82 - ETA: 14s - loss: 0.5116 - acc: 0.82 - ETA: 14s - loss: 0.5124 - acc: 0.82 - ETA: 14s - loss: 0.5117 - acc: 0.82 - ETA: 14s - loss: 0.5116 - acc: 0.82 - ETA: 14s - loss: 0.5115 - acc: 0.82 - ETA: 14s - loss: 0.5110 - acc: 0.82 - ETA: 14s - loss: 0.5109 - acc: 0.82 - ETA: 14s - loss: 0.5100 - acc: 0.82 - ETA: 14s - loss: 0.5101 - acc: 0.82 - ETA: 14s - loss: 0.5102 - acc: 0.82 - ETA: 14s - loss: 0.5094 - acc: 0.82 - ETA: 14s - loss: 0.5098 - acc: 0.82 - ETA: 14s - loss: 0.5099 - acc: 0.82 - ETA: 14s - loss: 0.5106 - acc: 0.82 - ETA: 14s - loss: 0.5114 - acc: 0.82 - ETA: 14s - loss: 0.5109 - acc: 0.82 - ETA: 14s - loss: 0.5108 - acc: 0.82 - ETA: 14s - loss: 0.5104 - acc: 0.82 - ETA: 13s - loss: 0.5109 - acc: 0.82 - ETA: 13s - loss: 0.5112 - acc: 0.82 - ETA: 13s - loss: 0.5110 - acc: 0.82 - ETA: 13s - loss: 0.5111 - acc: 0.82 - ETA: 13s - loss: 0.5102 - acc: 0.82 - ETA: 13s - loss: 0.5103 - acc: 0.82 - ETA: 13s - loss: 0.5101 - acc: 0.82 - ETA: 13s - loss: 0.5105 - acc: 0.82 - ETA: 13s - loss: 0.5110 - acc: 0.82 - ETA: 13s - loss: 0.5107 - acc: 0.82 - ETA: 13s - loss: 0.5106 - acc: 0.82 - ETA: 13s - loss: 0.5112 - acc: 0.82 - ETA: 13s - loss: 0.5109 - acc: 0.82 - ETA: 13s - loss: 0.5110 - acc: 0.82 - ETA: 13s - loss: 0.5107 - acc: 0.82 - ETA: 13s - loss: 0.5106 - acc: 0.82 - ETA: 13s - loss: 0.5110 - acc: 0.82 - ETA: 12s - loss: 0.5111 - acc: 0.82 - ETA: 12s - loss: 0.5105 - acc: 0.82 - ETA: 12s - loss: 0.5108 - acc: 0.82 - ETA: 12s - loss: 0.5111 - acc: 0.82 - ETA: 12s - loss: 0.5119 - acc: 0.82 - ETA: 12s - loss: 0.5124 - acc: 0.82 - ETA: 12s - loss: 0.5123 - acc: 0.82 - ETA: 12s - loss: 0.5125 - acc: 0.82 - ETA: 12s - loss: 0.5126 - acc: 0.82 - ETA: 12s - loss: 0.5123 - acc: 0.82 - ETA: 12s - loss: 0.5119 - acc: 0.82 - ETA: 12s - loss: 0.5123 - acc: 0.82 - ETA: 12s - loss: 0.5125 - acc: 0.82 - ETA: 12s - loss: 0.5123 - acc: 0.82 - ETA: 12s - loss: 0.5123 - acc: 0.82 - ETA: 12s - loss: 0.5123 - acc: 0.82 - ETA: 12s - loss: 0.5124 - acc: 0.82 - ETA: 12s - loss: 0.5124 - acc: 0.82 - ETA: 12s - loss: 0.5119 - acc: 0.82 - ETA: 12s - loss: 0.5116 - acc: 0.82 - ETA: 11s - loss: 0.5117 - acc: 0.82 - ETA: 11s - loss: 0.5114 - acc: 0.82 - ETA: 11s - loss: 0.5107 - acc: 0.82 - ETA: 11s - loss: 0.5105 - acc: 0.8233\b\b\b\b\b\b\b\b\b\b\b\b\b\b\b\b\b\b\b\b\b\b\b\b\b\b\b\b\b\b\b\b\b\b\b\b\b\b\b\b\b\b\b\b\b\b\b\b\b\b\b\b\b\b\b\b\b\b\b\b\b\b\b\b\b\b\b\b\b\b\b\b\b\b\b\b\b\b\b\b\b\b\b\b"
     ]
    },
    {
     "name": "stdout",
     "output_type": "stream",
     "text": [
      "54000/54000 [==============================] - ETA: 11s - loss: 0.5102 - acc: 0.82 - ETA: 11s - loss: 0.5097 - acc: 0.82 - ETA: 11s - loss: 0.5096 - acc: 0.82 - ETA: 11s - loss: 0.5097 - acc: 0.82 - ETA: 11s - loss: 0.5098 - acc: 0.82 - ETA: 11s - loss: 0.5099 - acc: 0.82 - ETA: 11s - loss: 0.5095 - acc: 0.82 - ETA: 11s - loss: 0.5094 - acc: 0.82 - ETA: 11s - loss: 0.5096 - acc: 0.82 - ETA: 11s - loss: 0.5091 - acc: 0.82 - ETA: 11s - loss: 0.5091 - acc: 0.82 - ETA: 11s - loss: 0.5090 - acc: 0.82 - ETA: 11s - loss: 0.5091 - acc: 0.82 - ETA: 11s - loss: 0.5087 - acc: 0.82 - ETA: 10s - loss: 0.5091 - acc: 0.82 - ETA: 10s - loss: 0.5091 - acc: 0.82 - ETA: 10s - loss: 0.5092 - acc: 0.82 - ETA: 10s - loss: 0.5092 - acc: 0.82 - ETA: 10s - loss: 0.5093 - acc: 0.82 - ETA: 10s - loss: 0.5095 - acc: 0.82 - ETA: 10s - loss: 0.5104 - acc: 0.82 - ETA: 10s - loss: 0.5104 - acc: 0.82 - ETA: 10s - loss: 0.5103 - acc: 0.82 - ETA: 10s - loss: 0.5102 - acc: 0.82 - ETA: 10s - loss: 0.5102 - acc: 0.82 - ETA: 10s - loss: 0.5105 - acc: 0.82 - ETA: 10s - loss: 0.5105 - acc: 0.82 - ETA: 10s - loss: 0.5099 - acc: 0.82 - ETA: 10s - loss: 0.5097 - acc: 0.82 - ETA: 10s - loss: 0.5095 - acc: 0.82 - ETA: 9s - loss: 0.5097 - acc: 0.8243 - ETA: 9s - loss: 0.5094 - acc: 0.824 - ETA: 9s - loss: 0.5100 - acc: 0.823 - ETA: 9s - loss: 0.5100 - acc: 0.823 - ETA: 9s - loss: 0.5099 - acc: 0.824 - ETA: 9s - loss: 0.5097 - acc: 0.824 - ETA: 9s - loss: 0.5097 - acc: 0.824 - ETA: 9s - loss: 0.5094 - acc: 0.824 - ETA: 9s - loss: 0.5093 - acc: 0.824 - ETA: 9s - loss: 0.5094 - acc: 0.824 - ETA: 9s - loss: 0.5093 - acc: 0.824 - ETA: 9s - loss: 0.5089 - acc: 0.824 - ETA: 9s - loss: 0.5097 - acc: 0.823 - ETA: 9s - loss: 0.5096 - acc: 0.823 - ETA: 9s - loss: 0.5096 - acc: 0.823 - ETA: 9s - loss: 0.5093 - acc: 0.824 - ETA: 9s - loss: 0.5090 - acc: 0.824 - ETA: 9s - loss: 0.5086 - acc: 0.823 - ETA: 8s - loss: 0.5084 - acc: 0.824 - ETA: 8s - loss: 0.5084 - acc: 0.824 - ETA: 8s - loss: 0.5082 - acc: 0.824 - ETA: 8s - loss: 0.5081 - acc: 0.824 - ETA: 8s - loss: 0.5088 - acc: 0.824 - ETA: 8s - loss: 0.5086 - acc: 0.824 - ETA: 8s - loss: 0.5087 - acc: 0.824 - ETA: 8s - loss: 0.5086 - acc: 0.824 - ETA: 8s - loss: 0.5081 - acc: 0.824 - ETA: 8s - loss: 0.5077 - acc: 0.824 - ETA: 8s - loss: 0.5076 - acc: 0.824 - ETA: 8s - loss: 0.5083 - acc: 0.824 - ETA: 8s - loss: 0.5088 - acc: 0.824 - ETA: 8s - loss: 0.5089 - acc: 0.824 - ETA: 8s - loss: 0.5088 - acc: 0.824 - ETA: 8s - loss: 0.5084 - acc: 0.824 - ETA: 8s - loss: 0.5084 - acc: 0.824 - ETA: 8s - loss: 0.5084 - acc: 0.824 - ETA: 7s - loss: 0.5085 - acc: 0.824 - ETA: 7s - loss: 0.5084 - acc: 0.824 - ETA: 7s - loss: 0.5082 - acc: 0.824 - ETA: 7s - loss: 0.5078 - acc: 0.824 - ETA: 7s - loss: 0.5081 - acc: 0.824 - ETA: 7s - loss: 0.5082 - acc: 0.824 - ETA: 7s - loss: 0.5079 - acc: 0.824 - ETA: 7s - loss: 0.5080 - acc: 0.824 - ETA: 7s - loss: 0.5079 - acc: 0.824 - ETA: 7s - loss: 0.5080 - acc: 0.824 - ETA: 7s - loss: 0.5083 - acc: 0.824 - ETA: 7s - loss: 0.5078 - acc: 0.824 - ETA: 7s - loss: 0.5078 - acc: 0.824 - ETA: 7s - loss: 0.5075 - acc: 0.824 - ETA: 7s - loss: 0.5074 - acc: 0.824 - ETA: 7s - loss: 0.5075 - acc: 0.824 - ETA: 7s - loss: 0.5075 - acc: 0.824 - ETA: 7s - loss: 0.5071 - acc: 0.824 - ETA: 7s - loss: 0.5070 - acc: 0.824 - ETA: 6s - loss: 0.5070 - acc: 0.824 - ETA: 6s - loss: 0.5072 - acc: 0.824 - ETA: 6s - loss: 0.5071 - acc: 0.824 - ETA: 6s - loss: 0.5071 - acc: 0.824 - ETA: 6s - loss: 0.5076 - acc: 0.824 - ETA: 6s - loss: 0.5075 - acc: 0.824 - ETA: 6s - loss: 0.5074 - acc: 0.824 - ETA: 6s - loss: 0.5072 - acc: 0.824 - ETA: 6s - loss: 0.5067 - acc: 0.824 - ETA: 6s - loss: 0.5069 - acc: 0.824 - ETA: 6s - loss: 0.5064 - acc: 0.824 - ETA: 6s - loss: 0.5060 - acc: 0.824 - ETA: 6s - loss: 0.5061 - acc: 0.824 - ETA: 6s - loss: 0.5061 - acc: 0.824 - ETA: 6s - loss: 0.5061 - acc: 0.824 - ETA: 6s - loss: 0.5058 - acc: 0.824 - ETA: 6s - loss: 0.5060 - acc: 0.824 - ETA: 6s - loss: 0.5061 - acc: 0.824 - ETA: 6s - loss: 0.5058 - acc: 0.824 - ETA: 5s - loss: 0.5058 - acc: 0.824 - ETA: 5s - loss: 0.5062 - acc: 0.824 - ETA: 5s - loss: 0.5062 - acc: 0.824 - ETA: 5s - loss: 0.5064 - acc: 0.824 - ETA: 5s - loss: 0.5061 - acc: 0.824 - ETA: 5s - loss: 0.5060 - acc: 0.824 - ETA: 5s - loss: 0.5060 - acc: 0.824 - ETA: 5s - loss: 0.5064 - acc: 0.824 - ETA: 5s - loss: 0.5062 - acc: 0.824 - ETA: 5s - loss: 0.5062 - acc: 0.824 - ETA: 5s - loss: 0.5057 - acc: 0.824 - ETA: 5s - loss: 0.5057 - acc: 0.824 - ETA: 5s - loss: 0.5057 - acc: 0.824 - ETA: 5s - loss: 0.5058 - acc: 0.824 - ETA: 5s - loss: 0.5058 - acc: 0.824 - ETA: 5s - loss: 0.5055 - acc: 0.824 - ETA: 5s - loss: 0.5054 - acc: 0.824 - ETA: 5s - loss: 0.5054 - acc: 0.824 - ETA: 4s - loss: 0.5054 - acc: 0.824 - ETA: 4s - loss: 0.5055 - acc: 0.824 - ETA: 4s - loss: 0.5053 - acc: 0.824 - ETA: 4s - loss: 0.5049 - acc: 0.824 - ETA: 4s - loss: 0.5047 - acc: 0.825 - ETA: 4s - loss: 0.5048 - acc: 0.824 - ETA: 4s - loss: 0.5045 - acc: 0.825 - ETA: 4s - loss: 0.5045 - acc: 0.825 - ETA: 4s - loss: 0.5046 - acc: 0.825 - ETA: 4s - loss: 0.5047 - acc: 0.825 - ETA: 4s - loss: 0.5047 - acc: 0.825 - ETA: 4s - loss: 0.5045 - acc: 0.825 - ETA: 4s - loss: 0.5045 - acc: 0.825 - ETA: 4s - loss: 0.5044 - acc: 0.825 - ETA: 4s - loss: 0.5041 - acc: 0.825 - ETA: 4s - loss: 0.5040 - acc: 0.825 - ETA: 4s - loss: 0.5044 - acc: 0.825 - ETA: 4s - loss: 0.5042 - acc: 0.825 - ETA: 3s - loss: 0.5041 - acc: 0.825 - ETA: 3s - loss: 0.5040 - acc: 0.825 - ETA: 3s - loss: 0.5038 - acc: 0.825 - ETA: 3s - loss: 0.5037 - acc: 0.825 - ETA: 3s - loss: 0.5039 - acc: 0.825 - ETA: 3s - loss: 0.5040 - acc: 0.825 - ETA: 3s - loss: 0.5037 - acc: 0.825 - ETA: 3s - loss: 0.5035 - acc: 0.825 - ETA: 3s - loss: 0.5033 - acc: 0.825 - ETA: 3s - loss: 0.5032 - acc: 0.825 - ETA: 3s - loss: 0.5030 - acc: 0.825 - ETA: 3s - loss: 0.5028 - acc: 0.825 - ETA: 3s - loss: 0.5030 - acc: 0.825 - ETA: 3s - loss: 0.5031 - acc: 0.825 - ETA: 3s - loss: 0.5031 - acc: 0.825 - ETA: 3s - loss: 0.5030 - acc: 0.825 - ETA: 3s - loss: 0.5029 - acc: 0.825 - ETA: 3s - loss: 0.5032 - acc: 0.825 - ETA: 2s - loss: 0.5027 - acc: 0.825 - ETA: 2s - loss: 0.5029 - acc: 0.825 - ETA: 2s - loss: 0.5026 - acc: 0.825 - ETA: 2s - loss: 0.5022 - acc: 0.825 - ETA: 2s - loss: 0.5023 - acc: 0.825 - ETA: 2s - loss: 0.5020 - acc: 0.825 - ETA: 2s - loss: 0.5018 - acc: 0.826 - ETA: 2s - loss: 0.5017 - acc: 0.826 - ETA: 2s - loss: 0.5018 - acc: 0.826 - ETA: 2s - loss: 0.5017 - acc: 0.826 - ETA: 2s - loss: 0.5015 - acc: 0.826 - ETA: 2s - loss: 0.5013 - acc: 0.826 - ETA: 2s - loss: 0.5011 - acc: 0.826 - ETA: 2s - loss: 0.5013 - acc: 0.826 - ETA: 2s - loss: 0.5012 - acc: 0.826 - ETA: 2s - loss: 0.5009 - acc: 0.826 - ETA: 2s - loss: 0.5009 - acc: 0.826 - ETA: 2s - loss: 0.5012 - acc: 0.826 - ETA: 2s - loss: 0.5011 - acc: 0.826 - ETA: 1s - loss: 0.5011 - acc: 0.826 - ETA: 1s - loss: 0.5009 - acc: 0.826 - ETA: 1s - loss: 0.5007 - acc: 0.826 - ETA: 1s - loss: 0.5005 - acc: 0.826 - ETA: 1s - loss: 0.5007 - acc: 0.826 - ETA: 1s - loss: 0.5006 - acc: 0.826 - ETA: 1s - loss: 0.5003 - acc: 0.826 - ETA: 1s - loss: 0.5002 - acc: 0.826 - ETA: 1s - loss: 0.4998 - acc: 0.826 - ETA: 1s - loss: 0.4996 - acc: 0.826 - ETA: 1s - loss: 0.4995 - acc: 0.826 - ETA: 1s - loss: 0.4993 - acc: 0.826 - ETA: 1s - loss: 0.4992 - acc: 0.826 - ETA: 1s - loss: 0.4989 - acc: 0.827 - ETA: 1s - loss: 0.4990 - acc: 0.827 - ETA: 1s - loss: 0.4991 - acc: 0.827 - ETA: 1s - loss: 0.4991 - acc: 0.827 - ETA: 1s - loss: 0.4990 - acc: 0.827 - ETA: 0s - loss: 0.4991 - acc: 0.827 - ETA: 0s - loss: 0.4988 - acc: 0.827 - ETA: 0s - loss: 0.4988 - acc: 0.827 - ETA: 0s - loss: 0.4988 - acc: 0.827 - ETA: 0s - loss: 0.4987 - acc: 0.827 - ETA: 0s - loss: 0.4986 - acc: 0.827 - ETA: 0s - loss: 0.4988 - acc: 0.827 - ETA: 0s - loss: 0.4988 - acc: 0.827 - ETA: 0s - loss: 0.4987 - acc: 0.827 - ETA: 0s - loss: 0.4986 - acc: 0.827 - ETA: 0s - loss: 0.4986 - acc: 0.827 - ETA: 0s - loss: 0.4987 - acc: 0.827 - ETA: 0s - loss: 0.4987 - acc: 0.827 - ETA: 0s - loss: 0.4986 - acc: 0.827 - ETA: 0s - loss: 0.4984 - acc: 0.827 - ETA: 0s - loss: 0.4980 - acc: 0.827 - ETA: 0s - loss: 0.4978 - acc: 0.827 - 24s - loss: 0.4978 - acc: 0.8274 - val_loss: 0.4637 - val_acc: 0.8342\n"
     ]
    },
    {
     "data": {
      "application/vnd.jupyter.widget-view+json": {
       "model_id": "1b69ab1257d94422b299e4912fe64bc2",
       "version_major": 2,
       "version_minor": 0
      },
      "text/html": [
       "<p>Failed to display Jupyter Widget of type <code>HBox</code>.</p>\n",
       "<p>\n",
       "  If you're reading this message in Jupyter Notebook or JupyterLab, it may mean\n",
       "  that the widgets JavaScript is still loading. If this message persists, it\n",
       "  likely means that the widgets JavaScript library is either not installed or\n",
       "  not enabled. See the <a href=\"https://ipywidgets.readthedocs.io/en/stable/user_install.html\">Jupyter\n",
       "  Widgets Documentation</a> for setup instructions.\n",
       "</p>\n",
       "<p>\n",
       "  If you're reading this message in another notebook frontend (for example, a static\n",
       "  rendering on GitHub or <a href=\"https://nbviewer.jupyter.org/\">NBViewer</a>),\n",
       "  it may mean that your frontend doesn't currently support widgets.\n",
       "</p>\n"
      ],
      "text/plain": [
       "HBox(children=(IntProgress(value=0, description='Epoch 2', max=54000), HTML(value='')))"
      ]
     },
     "metadata": {},
     "output_type": "display_data"
    },
    {
     "name": "stdout",
     "output_type": "stream",
     "text": [
      "Epoch 3/10\n"
     ]
    },
    {
     "name": "stdout",
     "output_type": "stream",
     "text": [
      "28960/54000 [===============>..............] - ETA: 20s - loss: 0.3518 - acc: 0.90 - ETA: 18s - loss: 0.4709 - acc: 0.84 - ETA: 19s - loss: 0.5104 - acc: 0.82 - ETA: 22s - loss: 0.4950 - acc: 0.82 - ETA: 21s - loss: 0.4675 - acc: 0.84 - ETA: 21s - loss: 0.4803 - acc: 0.83 - ETA: 21s - loss: 0.4974 - acc: 0.83 - ETA: 21s - loss: 0.4955 - acc: 0.83 - ETA: 20s - loss: 0.5027 - acc: 0.82 - ETA: 21s - loss: 0.4948 - acc: 0.82 - ETA: 20s - loss: 0.4968 - acc: 0.82 - ETA: 21s - loss: 0.4842 - acc: 0.83 - ETA: 20s - loss: 0.4825 - acc: 0.83 - ETA: 21s - loss: 0.4772 - acc: 0.83 - ETA: 21s - loss: 0.4776 - acc: 0.83 - ETA: 21s - loss: 0.4827 - acc: 0.83 - ETA: 21s - loss: 0.4784 - acc: 0.83 - ETA: 21s - loss: 0.4733 - acc: 0.83 - ETA: 21s - loss: 0.4670 - acc: 0.84 - ETA: 21s - loss: 0.4711 - acc: 0.83 - ETA: 20s - loss: 0.4648 - acc: 0.84 - ETA: 21s - loss: 0.4612 - acc: 0.84 - ETA: 21s - loss: 0.4640 - acc: 0.83 - ETA: 21s - loss: 0.4630 - acc: 0.84 - ETA: 21s - loss: 0.4730 - acc: 0.83 - ETA: 21s - loss: 0.4734 - acc: 0.83 - ETA: 21s - loss: 0.4704 - acc: 0.84 - ETA: 21s - loss: 0.4706 - acc: 0.84 - ETA: 21s - loss: 0.4721 - acc: 0.83 - ETA: 21s - loss: 0.4652 - acc: 0.84 - ETA: 21s - loss: 0.4684 - acc: 0.84 - ETA: 21s - loss: 0.4696 - acc: 0.84 - ETA: 21s - loss: 0.4688 - acc: 0.84 - ETA: 21s - loss: 0.4681 - acc: 0.84 - ETA: 21s - loss: 0.4642 - acc: 0.84 - ETA: 21s - loss: 0.4694 - acc: 0.84 - ETA: 21s - loss: 0.4668 - acc: 0.84 - ETA: 21s - loss: 0.4666 - acc: 0.84 - ETA: 20s - loss: 0.4678 - acc: 0.84 - ETA: 21s - loss: 0.4668 - acc: 0.84 - ETA: 20s - loss: 0.4663 - acc: 0.84 - ETA: 21s - loss: 0.4667 - acc: 0.84 - ETA: 21s - loss: 0.4663 - acc: 0.84 - ETA: 21s - loss: 0.4648 - acc: 0.84 - ETA: 21s - loss: 0.4643 - acc: 0.84 - ETA: 21s - loss: 0.4620 - acc: 0.84 - ETA: 21s - loss: 0.4639 - acc: 0.84 - ETA: 21s - loss: 0.4656 - acc: 0.84 - ETA: 21s - loss: 0.4653 - acc: 0.84 - ETA: 21s - loss: 0.4626 - acc: 0.84 - ETA: 20s - loss: 0.4623 - acc: 0.84 - ETA: 20s - loss: 0.4624 - acc: 0.84 - ETA: 20s - loss: 0.4608 - acc: 0.84 - ETA: 20s - loss: 0.4591 - acc: 0.84 - ETA: 20s - loss: 0.4604 - acc: 0.84 - ETA: 20s - loss: 0.4628 - acc: 0.83 - ETA: 20s - loss: 0.4625 - acc: 0.83 - ETA: 20s - loss: 0.4630 - acc: 0.83 - ETA: 20s - loss: 0.4618 - acc: 0.83 - ETA: 20s - loss: 0.4606 - acc: 0.83 - ETA: 20s - loss: 0.4596 - acc: 0.83 - ETA: 20s - loss: 0.4606 - acc: 0.83 - ETA: 20s - loss: 0.4612 - acc: 0.83 - ETA: 20s - loss: 0.4614 - acc: 0.83 - ETA: 19s - loss: 0.4598 - acc: 0.83 - ETA: 19s - loss: 0.4620 - acc: 0.83 - ETA: 19s - loss: 0.4596 - acc: 0.83 - ETA: 19s - loss: 0.4597 - acc: 0.83 - ETA: 19s - loss: 0.4573 - acc: 0.84 - ETA: 19s - loss: 0.4559 - acc: 0.84 - ETA: 19s - loss: 0.4560 - acc: 0.84 - ETA: 19s - loss: 0.4562 - acc: 0.84 - ETA: 19s - loss: 0.4549 - acc: 0.84 - ETA: 19s - loss: 0.4530 - acc: 0.84 - ETA: 19s - loss: 0.4527 - acc: 0.84 - ETA: 19s - loss: 0.4522 - acc: 0.84 - ETA: 19s - loss: 0.4520 - acc: 0.84 - ETA: 19s - loss: 0.4525 - acc: 0.84 - ETA: 19s - loss: 0.4519 - acc: 0.84 - ETA: 19s - loss: 0.4521 - acc: 0.84 - ETA: 19s - loss: 0.4535 - acc: 0.84 - ETA: 19s - loss: 0.4553 - acc: 0.84 - ETA: 19s - loss: 0.4542 - acc: 0.84 - ETA: 18s - loss: 0.4550 - acc: 0.84 - ETA: 18s - loss: 0.4554 - acc: 0.84 - ETA: 18s - loss: 0.4555 - acc: 0.84 - ETA: 18s - loss: 0.4549 - acc: 0.84 - ETA: 18s - loss: 0.4550 - acc: 0.84 - ETA: 18s - loss: 0.4560 - acc: 0.84 - ETA: 18s - loss: 0.4541 - acc: 0.84 - ETA: 18s - loss: 0.4538 - acc: 0.84 - ETA: 18s - loss: 0.4529 - acc: 0.84 - ETA: 18s - loss: 0.4540 - acc: 0.84 - ETA: 18s - loss: 0.4538 - acc: 0.84 - ETA: 18s - loss: 0.4523 - acc: 0.84 - ETA: 18s - loss: 0.4522 - acc: 0.84 - ETA: 18s - loss: 0.4524 - acc: 0.84 - ETA: 18s - loss: 0.4533 - acc: 0.84 - ETA: 18s - loss: 0.4524 - acc: 0.84 - ETA: 18s - loss: 0.4527 - acc: 0.84 - ETA: 18s - loss: 0.4526 - acc: 0.84 - ETA: 17s - loss: 0.4527 - acc: 0.84 - ETA: 17s - loss: 0.4529 - acc: 0.84 - ETA: 17s - loss: 0.4527 - acc: 0.84 - ETA: 17s - loss: 0.4528 - acc: 0.84 - ETA: 17s - loss: 0.4528 - acc: 0.84 - ETA: 17s - loss: 0.4537 - acc: 0.84 - ETA: 17s - loss: 0.4528 - acc: 0.84 - ETA: 17s - loss: 0.4522 - acc: 0.84 - ETA: 17s - loss: 0.4513 - acc: 0.84 - ETA: 17s - loss: 0.4507 - acc: 0.84 - ETA: 17s - loss: 0.4505 - acc: 0.84 - ETA: 17s - loss: 0.4507 - acc: 0.84 - ETA: 17s - loss: 0.4501 - acc: 0.84 - ETA: 17s - loss: 0.4499 - acc: 0.84 - ETA: 16s - loss: 0.4506 - acc: 0.84 - ETA: 16s - loss: 0.4509 - acc: 0.84 - ETA: 16s - loss: 0.4502 - acc: 0.84 - ETA: 16s - loss: 0.4496 - acc: 0.84 - ETA: 16s - loss: 0.4492 - acc: 0.84 - ETA: 16s - loss: 0.4500 - acc: 0.84 - ETA: 16s - loss: 0.4500 - acc: 0.84 - ETA: 16s - loss: 0.4495 - acc: 0.84 - ETA: 16s - loss: 0.4501 - acc: 0.84 - ETA: 16s - loss: 0.4504 - acc: 0.84 - ETA: 16s - loss: 0.4501 - acc: 0.84 - ETA: 16s - loss: 0.4503 - acc: 0.84 - ETA: 16s - loss: 0.4509 - acc: 0.84 - ETA: 15s - loss: 0.4527 - acc: 0.84 - ETA: 15s - loss: 0.4524 - acc: 0.84 - ETA: 15s - loss: 0.4521 - acc: 0.84 - ETA: 15s - loss: 0.4522 - acc: 0.84 - ETA: 15s - loss: 0.4523 - acc: 0.84 - ETA: 15s - loss: 0.4525 - acc: 0.84 - ETA: 15s - loss: 0.4530 - acc: 0.84 - ETA: 15s - loss: 0.4537 - acc: 0.84 - ETA: 15s - loss: 0.4538 - acc: 0.84 - ETA: 15s - loss: 0.4534 - acc: 0.84 - ETA: 15s - loss: 0.4540 - acc: 0.84 - ETA: 15s - loss: 0.4538 - acc: 0.84 - ETA: 15s - loss: 0.4530 - acc: 0.84 - ETA: 15s - loss: 0.4533 - acc: 0.84 - ETA: 14s - loss: 0.4532 - acc: 0.84 - ETA: 14s - loss: 0.4532 - acc: 0.84 - ETA: 14s - loss: 0.4535 - acc: 0.84 - ETA: 14s - loss: 0.4533 - acc: 0.84 - ETA: 14s - loss: 0.4530 - acc: 0.84 - ETA: 14s - loss: 0.4534 - acc: 0.84 - ETA: 14s - loss: 0.4537 - acc: 0.84 - ETA: 14s - loss: 0.4544 - acc: 0.84 - ETA: 14s - loss: 0.4546 - acc: 0.84 - ETA: 14s - loss: 0.4549 - acc: 0.84 - ETA: 14s - loss: 0.4550 - acc: 0.84 - ETA: 14s - loss: 0.4549 - acc: 0.84 - ETA: 14s - loss: 0.4549 - acc: 0.84 - ETA: 14s - loss: 0.4547 - acc: 0.84 - ETA: 14s - loss: 0.4552 - acc: 0.84 - ETA: 14s - loss: 0.4557 - acc: 0.84 - ETA: 14s - loss: 0.4554 - acc: 0.84 - ETA: 13s - loss: 0.4552 - acc: 0.84 - ETA: 13s - loss: 0.4554 - acc: 0.84 - ETA: 13s - loss: 0.4549 - acc: 0.84 - ETA: 13s - loss: 0.4554 - acc: 0.84 - ETA: 13s - loss: 0.4556 - acc: 0.84 - ETA: 13s - loss: 0.4566 - acc: 0.84 - ETA: 13s - loss: 0.4564 - acc: 0.84 - ETA: 13s - loss: 0.4560 - acc: 0.84 - ETA: 13s - loss: 0.4559 - acc: 0.84 - ETA: 13s - loss: 0.4564 - acc: 0.84 - ETA: 13s - loss: 0.4559 - acc: 0.84 - ETA: 13s - loss: 0.4561 - acc: 0.84 - ETA: 13s - loss: 0.4561 - acc: 0.84 - ETA: 13s - loss: 0.4556 - acc: 0.84 - ETA: 13s - loss: 0.4549 - acc: 0.84 - ETA: 13s - loss: 0.4554 - acc: 0.84 - ETA: 13s - loss: 0.4557 - acc: 0.84 - ETA: 13s - loss: 0.4563 - acc: 0.84 - ETA: 12s - loss: 0.4561 - acc: 0.84 - ETA: 12s - loss: 0.4556 - acc: 0.84 - ETA: 12s - loss: 0.4556 - acc: 0.84 - ETA: 12s - loss: 0.4557 - acc: 0.84 - ETA: 12s - loss: 0.4563 - acc: 0.84 - ETA: 12s - loss: 0.4561 - acc: 0.84 - ETA: 12s - loss: 0.4557 - acc: 0.84 - ETA: 12s - loss: 0.4560 - acc: 0.84 - ETA: 12s - loss: 0.4565 - acc: 0.84 - ETA: 12s - loss: 0.4567 - acc: 0.84 - ETA: 12s - loss: 0.4570 - acc: 0.84 - ETA: 12s - loss: 0.4566 - acc: 0.84 - ETA: 12s - loss: 0.4568 - acc: 0.84 - ETA: 12s - loss: 0.4567 - acc: 0.84 - ETA: 11s - loss: 0.4565 - acc: 0.84 - ETA: 11s - loss: 0.4567 - acc: 0.84 - ETA: 11s - loss: 0.4562 - acc: 0.84 - ETA: 11s - loss: 0.4559 - acc: 0.84 - ETA: 11s - loss: 0.4557 - acc: 0.84 - ETA: 11s - loss: 0.4547 - acc: 0.84 - ETA: 11s - loss: 0.4543 - acc: 0.84 - ETA: 11s - loss: 0.4545 - acc: 0.84 - ETA: 11s - loss: 0.4551 - acc: 0.84 - ETA: 11s - loss: 0.4546 - acc: 0.84 - ETA: 11s - loss: 0.4545 - acc: 0.84 - ETA: 11s - loss: 0.4541 - acc: 0.84 - ETA: 11s - loss: 0.4539 - acc: 0.84 - ETA: 11s - loss: 0.4538 - acc: 0.84 - ETA: 11s - loss: 0.4538 - acc: 0.84 - ETA: 10s - loss: 0.4538 - acc: 0.84 - ETA: 10s - loss: 0.4536 - acc: 0.84 - ETA: 10s - loss: 0.4535 - acc: 0.84 - ETA: 10s - loss: 0.4534 - acc: 0.84 - ETA: 10s - loss: 0.4536 - acc: 0.84 - ETA: 10s - loss: 0.4536 - acc: 0.84 - ETA: 10s - loss: 0.4542 - acc: 0.84 - ETA: 10s - loss: 0.4540 - acc: 0.84 - ETA: 10s - loss: 0.4539 - acc: 0.8422\b\b\b\b\b\b\b\b\b\b\b\b\b\b\b\b\b\b\b\b\b\b\b\b\b\b\b\b\b\b\b\b\b\b\b\b\b\b\b\b\b\b\b\b\b\b\b\b\b\b\b\b\b\b\b\b\b\b\b\b\b\b\b\b\b\b\b\b\b\b\b\b\b\b\b\b\b\b\b\b\b\b\b\b"
     ]
    },
    {
     "name": "stdout",
     "output_type": "stream",
     "text": [
      "54000/54000 [==============================] - ETA: 10s - loss: 0.4544 - acc: 0.84 - ETA: 10s - loss: 0.4540 - acc: 0.84 - ETA: 10s - loss: 0.4539 - acc: 0.84 - ETA: 10s - loss: 0.4536 - acc: 0.84 - ETA: 10s - loss: 0.4536 - acc: 0.84 - ETA: 9s - loss: 0.4534 - acc: 0.8424 - ETA: 9s - loss: 0.4540 - acc: 0.842 - ETA: 9s - loss: 0.4537 - acc: 0.842 - ETA: 9s - loss: 0.4532 - acc: 0.842 - ETA: 9s - loss: 0.4526 - acc: 0.843 - ETA: 9s - loss: 0.4526 - acc: 0.843 - ETA: 9s - loss: 0.4522 - acc: 0.843 - ETA: 9s - loss: 0.4523 - acc: 0.843 - ETA: 9s - loss: 0.4522 - acc: 0.843 - ETA: 9s - loss: 0.4523 - acc: 0.842 - ETA: 9s - loss: 0.4523 - acc: 0.842 - ETA: 9s - loss: 0.4522 - acc: 0.842 - ETA: 9s - loss: 0.4525 - acc: 0.842 - ETA: 9s - loss: 0.4527 - acc: 0.842 - ETA: 8s - loss: 0.4528 - acc: 0.842 - ETA: 8s - loss: 0.4526 - acc: 0.842 - ETA: 8s - loss: 0.4526 - acc: 0.842 - ETA: 8s - loss: 0.4527 - acc: 0.842 - ETA: 8s - loss: 0.4524 - acc: 0.842 - ETA: 8s - loss: 0.4521 - acc: 0.842 - ETA: 8s - loss: 0.4519 - acc: 0.842 - ETA: 8s - loss: 0.4520 - acc: 0.842 - ETA: 8s - loss: 0.4516 - acc: 0.843 - ETA: 8s - loss: 0.4524 - acc: 0.842 - ETA: 8s - loss: 0.4521 - acc: 0.842 - ETA: 8s - loss: 0.4521 - acc: 0.842 - ETA: 8s - loss: 0.4522 - acc: 0.842 - ETA: 8s - loss: 0.4522 - acc: 0.842 - ETA: 8s - loss: 0.4520 - acc: 0.842 - ETA: 8s - loss: 0.4522 - acc: 0.842 - ETA: 7s - loss: 0.4519 - acc: 0.842 - ETA: 7s - loss: 0.4519 - acc: 0.842 - ETA: 7s - loss: 0.4521 - acc: 0.842 - ETA: 7s - loss: 0.4521 - acc: 0.842 - ETA: 7s - loss: 0.4520 - acc: 0.842 - ETA: 7s - loss: 0.4519 - acc: 0.842 - ETA: 7s - loss: 0.4521 - acc: 0.842 - ETA: 7s - loss: 0.4526 - acc: 0.842 - ETA: 7s - loss: 0.4524 - acc: 0.842 - ETA: 7s - loss: 0.4526 - acc: 0.842 - ETA: 7s - loss: 0.4532 - acc: 0.842 - ETA: 7s - loss: 0.4526 - acc: 0.842 - ETA: 7s - loss: 0.4527 - acc: 0.842 - ETA: 7s - loss: 0.4526 - acc: 0.842 - ETA: 7s - loss: 0.4525 - acc: 0.842 - ETA: 7s - loss: 0.4521 - acc: 0.842 - ETA: 7s - loss: 0.4520 - acc: 0.842 - ETA: 7s - loss: 0.4524 - acc: 0.842 - ETA: 6s - loss: 0.4526 - acc: 0.842 - ETA: 6s - loss: 0.4528 - acc: 0.842 - ETA: 6s - loss: 0.4527 - acc: 0.842 - ETA: 6s - loss: 0.4526 - acc: 0.842 - ETA: 6s - loss: 0.4523 - acc: 0.842 - ETA: 6s - loss: 0.4520 - acc: 0.843 - ETA: 6s - loss: 0.4521 - acc: 0.842 - ETA: 6s - loss: 0.4523 - acc: 0.842 - ETA: 6s - loss: 0.4527 - acc: 0.842 - ETA: 6s - loss: 0.4527 - acc: 0.842 - ETA: 6s - loss: 0.4525 - acc: 0.842 - ETA: 6s - loss: 0.4524 - acc: 0.842 - ETA: 6s - loss: 0.4519 - acc: 0.842 - ETA: 6s - loss: 0.4519 - acc: 0.842 - ETA: 6s - loss: 0.4518 - acc: 0.842 - ETA: 6s - loss: 0.4518 - acc: 0.842 - ETA: 6s - loss: 0.4516 - acc: 0.842 - ETA: 6s - loss: 0.4512 - acc: 0.843 - ETA: 5s - loss: 0.4514 - acc: 0.843 - ETA: 5s - loss: 0.4511 - acc: 0.843 - ETA: 5s - loss: 0.4511 - acc: 0.843 - ETA: 5s - loss: 0.4509 - acc: 0.843 - ETA: 5s - loss: 0.4510 - acc: 0.843 - ETA: 5s - loss: 0.4508 - acc: 0.843 - ETA: 5s - loss: 0.4508 - acc: 0.843 - ETA: 5s - loss: 0.4509 - acc: 0.842 - ETA: 5s - loss: 0.4508 - acc: 0.842 - ETA: 5s - loss: 0.4508 - acc: 0.842 - ETA: 5s - loss: 0.4508 - acc: 0.842 - ETA: 5s - loss: 0.4508 - acc: 0.842 - ETA: 5s - loss: 0.4511 - acc: 0.842 - ETA: 5s - loss: 0.4510 - acc: 0.842 - ETA: 5s - loss: 0.4507 - acc: 0.842 - ETA: 5s - loss: 0.4507 - acc: 0.842 - ETA: 5s - loss: 0.4507 - acc: 0.842 - ETA: 4s - loss: 0.4504 - acc: 0.842 - ETA: 4s - loss: 0.4503 - acc: 0.842 - ETA: 4s - loss: 0.4507 - acc: 0.842 - ETA: 4s - loss: 0.4506 - acc: 0.842 - ETA: 4s - loss: 0.4507 - acc: 0.842 - ETA: 4s - loss: 0.4510 - acc: 0.842 - ETA: 4s - loss: 0.4508 - acc: 0.842 - ETA: 4s - loss: 0.4507 - acc: 0.842 - ETA: 4s - loss: 0.4510 - acc: 0.842 - ETA: 4s - loss: 0.4508 - acc: 0.842 - ETA: 4s - loss: 0.4506 - acc: 0.842 - ETA: 4s - loss: 0.4511 - acc: 0.842 - ETA: 4s - loss: 0.4510 - acc: 0.842 - ETA: 4s - loss: 0.4507 - acc: 0.843 - ETA: 4s - loss: 0.4504 - acc: 0.843 - ETA: 4s - loss: 0.4504 - acc: 0.843 - ETA: 3s - loss: 0.4505 - acc: 0.843 - ETA: 3s - loss: 0.4505 - acc: 0.843 - ETA: 3s - loss: 0.4508 - acc: 0.843 - ETA: 3s - loss: 0.4507 - acc: 0.842 - ETA: 3s - loss: 0.4510 - acc: 0.842 - ETA: 3s - loss: 0.4507 - acc: 0.843 - ETA: 3s - loss: 0.4505 - acc: 0.843 - ETA: 3s - loss: 0.4508 - acc: 0.843 - ETA: 3s - loss: 0.4511 - acc: 0.842 - ETA: 3s - loss: 0.4510 - acc: 0.842 - ETA: 3s - loss: 0.4513 - acc: 0.842 - ETA: 3s - loss: 0.4511 - acc: 0.842 - ETA: 3s - loss: 0.4513 - acc: 0.842 - ETA: 3s - loss: 0.4517 - acc: 0.842 - ETA: 3s - loss: 0.4519 - acc: 0.842 - ETA: 3s - loss: 0.4518 - acc: 0.842 - ETA: 3s - loss: 0.4515 - acc: 0.842 - ETA: 2s - loss: 0.4514 - acc: 0.842 - ETA: 2s - loss: 0.4517 - acc: 0.842 - ETA: 2s - loss: 0.4519 - acc: 0.842 - ETA: 2s - loss: 0.4520 - acc: 0.842 - ETA: 2s - loss: 0.4522 - acc: 0.842 - ETA: 2s - loss: 0.4523 - acc: 0.842 - ETA: 2s - loss: 0.4523 - acc: 0.842 - ETA: 2s - loss: 0.4522 - acc: 0.842 - ETA: 2s - loss: 0.4519 - acc: 0.842 - ETA: 2s - loss: 0.4517 - acc: 0.842 - ETA: 2s - loss: 0.4520 - acc: 0.842 - ETA: 2s - loss: 0.4520 - acc: 0.842 - ETA: 2s - loss: 0.4518 - acc: 0.842 - ETA: 2s - loss: 0.4517 - acc: 0.842 - ETA: 2s - loss: 0.4516 - acc: 0.842 - ETA: 2s - loss: 0.4516 - acc: 0.842 - ETA: 2s - loss: 0.4516 - acc: 0.842 - ETA: 1s - loss: 0.4518 - acc: 0.842 - ETA: 1s - loss: 0.4519 - acc: 0.842 - ETA: 1s - loss: 0.4518 - acc: 0.842 - ETA: 1s - loss: 0.4520 - acc: 0.842 - ETA: 1s - loss: 0.4521 - acc: 0.842 - ETA: 1s - loss: 0.4518 - acc: 0.842 - ETA: 1s - loss: 0.4517 - acc: 0.842 - ETA: 1s - loss: 0.4520 - acc: 0.842 - ETA: 1s - loss: 0.4517 - acc: 0.842 - ETA: 1s - loss: 0.4516 - acc: 0.842 - ETA: 1s - loss: 0.4522 - acc: 0.842 - ETA: 1s - loss: 0.4521 - acc: 0.842 - ETA: 1s - loss: 0.4519 - acc: 0.842 - ETA: 1s - loss: 0.4521 - acc: 0.842 - ETA: 1s - loss: 0.4520 - acc: 0.842 - ETA: 1s - loss: 0.4521 - acc: 0.842 - ETA: 0s - loss: 0.4518 - acc: 0.842 - ETA: 0s - loss: 0.4514 - acc: 0.842 - ETA: 0s - loss: 0.4517 - acc: 0.842 - ETA: 0s - loss: 0.4518 - acc: 0.842 - ETA: 0s - loss: 0.4518 - acc: 0.842 - ETA: 0s - loss: 0.4519 - acc: 0.842 - ETA: 0s - loss: 0.4518 - acc: 0.842 - ETA: 0s - loss: 0.4517 - acc: 0.842 - ETA: 0s - loss: 0.4517 - acc: 0.842 - ETA: 0s - loss: 0.4517 - acc: 0.842 - ETA: 0s - loss: 0.4516 - acc: 0.842 - ETA: 0s - loss: 0.4515 - acc: 0.842 - ETA: 0s - loss: 0.4517 - acc: 0.842 - ETA: 0s - loss: 0.4515 - acc: 0.842 - ETA: 0s - loss: 0.4512 - acc: 0.842 - ETA: 0s - loss: 0.4516 - acc: 0.842 - 22s - loss: 0.4514 - acc: 0.8421 - val_loss: 0.4424 - val_acc: 0.8453\n"
     ]
    },
    {
     "data": {
      "application/vnd.jupyter.widget-view+json": {
       "model_id": "70c0219a24d24a7ea86d1e526f8e8ff0",
       "version_major": 2,
       "version_minor": 0
      },
      "text/html": [
       "<p>Failed to display Jupyter Widget of type <code>HBox</code>.</p>\n",
       "<p>\n",
       "  If you're reading this message in Jupyter Notebook or JupyterLab, it may mean\n",
       "  that the widgets JavaScript is still loading. If this message persists, it\n",
       "  likely means that the widgets JavaScript library is either not installed or\n",
       "  not enabled. See the <a href=\"https://ipywidgets.readthedocs.io/en/stable/user_install.html\">Jupyter\n",
       "  Widgets Documentation</a> for setup instructions.\n",
       "</p>\n",
       "<p>\n",
       "  If you're reading this message in another notebook frontend (for example, a static\n",
       "  rendering on GitHub or <a href=\"https://nbviewer.jupyter.org/\">NBViewer</a>),\n",
       "  it may mean that your frontend doesn't currently support widgets.\n",
       "</p>\n"
      ],
      "text/plain": [
       "HBox(children=(IntProgress(value=0, description='Epoch 3', max=54000), HTML(value='')))"
      ]
     },
     "metadata": {},
     "output_type": "display_data"
    },
    {
     "name": "stdout",
     "output_type": "stream",
     "text": [
      "Epoch 4/10\n"
     ]
    },
    {
     "name": "stdout",
     "output_type": "stream",
     "text": [
      "33880/54000 [=================>............] - ETA: 27s - loss: 0.3838 - acc: 0.87 - ETA: 21s - loss: 0.4935 - acc: 0.82 - ETA: 18s - loss: 0.4681 - acc: 0.83 - ETA: 18s - loss: 0.4738 - acc: 0.83 - ETA: 17s - loss: 0.4553 - acc: 0.84 - ETA: 17s - loss: 0.4704 - acc: 0.83 - ETA: 17s - loss: 0.4623 - acc: 0.84 - ETA: 17s - loss: 0.4612 - acc: 0.84 - ETA: 17s - loss: 0.4652 - acc: 0.84 - ETA: 17s - loss: 0.4552 - acc: 0.84 - ETA: 17s - loss: 0.4607 - acc: 0.84 - ETA: 17s - loss: 0.4543 - acc: 0.84 - ETA: 17s - loss: 0.4560 - acc: 0.84 - ETA: 17s - loss: 0.4576 - acc: 0.84 - ETA: 17s - loss: 0.4586 - acc: 0.84 - ETA: 17s - loss: 0.4579 - acc: 0.84 - ETA: 17s - loss: 0.4591 - acc: 0.84 - ETA: 17s - loss: 0.4597 - acc: 0.84 - ETA: 17s - loss: 0.4580 - acc: 0.84 - ETA: 17s - loss: 0.4569 - acc: 0.84 - ETA: 17s - loss: 0.4565 - acc: 0.84 - ETA: 17s - loss: 0.4526 - acc: 0.84 - ETA: 17s - loss: 0.4449 - acc: 0.84 - ETA: 17s - loss: 0.4413 - acc: 0.84 - ETA: 17s - loss: 0.4439 - acc: 0.84 - ETA: 17s - loss: 0.4452 - acc: 0.84 - ETA: 17s - loss: 0.4452 - acc: 0.84 - ETA: 17s - loss: 0.4435 - acc: 0.84 - ETA: 17s - loss: 0.4413 - acc: 0.84 - ETA: 17s - loss: 0.4391 - acc: 0.85 - ETA: 17s - loss: 0.4382 - acc: 0.84 - ETA: 17s - loss: 0.4387 - acc: 0.84 - ETA: 17s - loss: 0.4377 - acc: 0.84 - ETA: 17s - loss: 0.4337 - acc: 0.85 - ETA: 17s - loss: 0.4317 - acc: 0.85 - ETA: 17s - loss: 0.4324 - acc: 0.85 - ETA: 17s - loss: 0.4353 - acc: 0.85 - ETA: 17s - loss: 0.4394 - acc: 0.84 - ETA: 17s - loss: 0.4384 - acc: 0.84 - ETA: 17s - loss: 0.4377 - acc: 0.84 - ETA: 17s - loss: 0.4360 - acc: 0.85 - ETA: 17s - loss: 0.4348 - acc: 0.85 - ETA: 17s - loss: 0.4362 - acc: 0.85 - ETA: 16s - loss: 0.4344 - acc: 0.85 - ETA: 16s - loss: 0.4342 - acc: 0.85 - ETA: 16s - loss: 0.4310 - acc: 0.85 - ETA: 16s - loss: 0.4302 - acc: 0.85 - ETA: 16s - loss: 0.4282 - acc: 0.85 - ETA: 16s - loss: 0.4276 - acc: 0.85 - ETA: 16s - loss: 0.4265 - acc: 0.85 - ETA: 16s - loss: 0.4262 - acc: 0.85 - ETA: 16s - loss: 0.4254 - acc: 0.85 - ETA: 16s - loss: 0.4260 - acc: 0.85 - ETA: 16s - loss: 0.4294 - acc: 0.85 - ETA: 16s - loss: 0.4292 - acc: 0.85 - ETA: 16s - loss: 0.4278 - acc: 0.85 - ETA: 16s - loss: 0.4283 - acc: 0.85 - ETA: 16s - loss: 0.4274 - acc: 0.85 - ETA: 15s - loss: 0.4294 - acc: 0.85 - ETA: 15s - loss: 0.4285 - acc: 0.85 - ETA: 15s - loss: 0.4277 - acc: 0.85 - ETA: 15s - loss: 0.4269 - acc: 0.85 - ETA: 15s - loss: 0.4289 - acc: 0.85 - ETA: 15s - loss: 0.4280 - acc: 0.85 - ETA: 15s - loss: 0.4282 - acc: 0.85 - ETA: 15s - loss: 0.4275 - acc: 0.85 - ETA: 15s - loss: 0.4278 - acc: 0.85 - ETA: 15s - loss: 0.4281 - acc: 0.85 - ETA: 15s - loss: 0.4291 - acc: 0.85 - ETA: 15s - loss: 0.4304 - acc: 0.85 - ETA: 15s - loss: 0.4301 - acc: 0.85 - ETA: 15s - loss: 0.4303 - acc: 0.85 - ETA: 15s - loss: 0.4304 - acc: 0.85 - ETA: 15s - loss: 0.4300 - acc: 0.85 - ETA: 15s - loss: 0.4295 - acc: 0.85 - ETA: 14s - loss: 0.4299 - acc: 0.85 - ETA: 14s - loss: 0.4299 - acc: 0.85 - ETA: 14s - loss: 0.4288 - acc: 0.85 - ETA: 14s - loss: 0.4280 - acc: 0.85 - ETA: 14s - loss: 0.4286 - acc: 0.85 - ETA: 14s - loss: 0.4285 - acc: 0.85 - ETA: 14s - loss: 0.4281 - acc: 0.85 - ETA: 14s - loss: 0.4277 - acc: 0.85 - ETA: 14s - loss: 0.4270 - acc: 0.85 - ETA: 14s - loss: 0.4271 - acc: 0.85 - ETA: 14s - loss: 0.4283 - acc: 0.85 - ETA: 14s - loss: 0.4284 - acc: 0.85 - ETA: 14s - loss: 0.4290 - acc: 0.85 - ETA: 14s - loss: 0.4288 - acc: 0.85 - ETA: 14s - loss: 0.4287 - acc: 0.85 - ETA: 13s - loss: 0.4278 - acc: 0.85 - ETA: 13s - loss: 0.4276 - acc: 0.85 - ETA: 13s - loss: 0.4280 - acc: 0.85 - ETA: 13s - loss: 0.4285 - acc: 0.85 - ETA: 13s - loss: 0.4282 - acc: 0.85 - ETA: 13s - loss: 0.4279 - acc: 0.85 - ETA: 13s - loss: 0.4279 - acc: 0.85 - ETA: 13s - loss: 0.4279 - acc: 0.85 - ETA: 13s - loss: 0.4287 - acc: 0.85 - ETA: 13s - loss: 0.4288 - acc: 0.85 - ETA: 13s - loss: 0.4285 - acc: 0.85 - ETA: 13s - loss: 0.4290 - acc: 0.85 - ETA: 13s - loss: 0.4286 - acc: 0.85 - ETA: 13s - loss: 0.4289 - acc: 0.85 - ETA: 13s - loss: 0.4279 - acc: 0.85 - ETA: 13s - loss: 0.4276 - acc: 0.85 - ETA: 13s - loss: 0.4282 - acc: 0.85 - ETA: 13s - loss: 0.4280 - acc: 0.85 - ETA: 13s - loss: 0.4286 - acc: 0.85 - ETA: 12s - loss: 0.4300 - acc: 0.85 - ETA: 12s - loss: 0.4302 - acc: 0.85 - ETA: 12s - loss: 0.4307 - acc: 0.85 - ETA: 12s - loss: 0.4315 - acc: 0.85 - ETA: 12s - loss: 0.4309 - acc: 0.85 - ETA: 12s - loss: 0.4308 - acc: 0.85 - ETA: 12s - loss: 0.4309 - acc: 0.85 - ETA: 12s - loss: 0.4309 - acc: 0.85 - ETA: 12s - loss: 0.4305 - acc: 0.85 - ETA: 12s - loss: 0.4300 - acc: 0.85 - ETA: 12s - loss: 0.4300 - acc: 0.85 - ETA: 12s - loss: 0.4299 - acc: 0.85 - ETA: 12s - loss: 0.4299 - acc: 0.85 - ETA: 12s - loss: 0.4297 - acc: 0.85 - ETA: 12s - loss: 0.4305 - acc: 0.85 - ETA: 12s - loss: 0.4298 - acc: 0.85 - ETA: 12s - loss: 0.4306 - acc: 0.85 - ETA: 11s - loss: 0.4305 - acc: 0.85 - ETA: 11s - loss: 0.4297 - acc: 0.85 - ETA: 11s - loss: 0.4301 - acc: 0.85 - ETA: 11s - loss: 0.4300 - acc: 0.85 - ETA: 11s - loss: 0.4294 - acc: 0.85 - ETA: 11s - loss: 0.4293 - acc: 0.85 - ETA: 11s - loss: 0.4301 - acc: 0.85 - ETA: 11s - loss: 0.4302 - acc: 0.85 - ETA: 11s - loss: 0.4299 - acc: 0.85 - ETA: 11s - loss: 0.4304 - acc: 0.85 - ETA: 11s - loss: 0.4310 - acc: 0.85 - ETA: 11s - loss: 0.4313 - acc: 0.85 - ETA: 11s - loss: 0.4313 - acc: 0.85 - ETA: 11s - loss: 0.4314 - acc: 0.85 - ETA: 11s - loss: 0.4310 - acc: 0.85 - ETA: 11s - loss: 0.4311 - acc: 0.85 - ETA: 11s - loss: 0.4300 - acc: 0.85 - ETA: 11s - loss: 0.4311 - acc: 0.85 - ETA: 11s - loss: 0.4320 - acc: 0.85 - ETA: 10s - loss: 0.4316 - acc: 0.85 - ETA: 10s - loss: 0.4306 - acc: 0.85 - ETA: 10s - loss: 0.4310 - acc: 0.85 - ETA: 10s - loss: 0.4309 - acc: 0.85 - ETA: 10s - loss: 0.4307 - acc: 0.85 - ETA: 10s - loss: 0.4306 - acc: 0.85 - ETA: 10s - loss: 0.4303 - acc: 0.85 - ETA: 10s - loss: 0.4297 - acc: 0.85 - ETA: 10s - loss: 0.4296 - acc: 0.85 - ETA: 10s - loss: 0.4293 - acc: 0.85 - ETA: 10s - loss: 0.4297 - acc: 0.85 - ETA: 10s - loss: 0.4305 - acc: 0.85 - ETA: 10s - loss: 0.4299 - acc: 0.85 - ETA: 10s - loss: 0.4305 - acc: 0.85 - ETA: 10s - loss: 0.4303 - acc: 0.85 - ETA: 10s - loss: 0.4300 - acc: 0.85 - ETA: 10s - loss: 0.4300 - acc: 0.85 - ETA: 10s - loss: 0.4297 - acc: 0.85 - ETA: 10s - loss: 0.4300 - acc: 0.85 - ETA: 9s - loss: 0.4301 - acc: 0.8517 - ETA: 9s - loss: 0.4299 - acc: 0.851 - ETA: 9s - loss: 0.4294 - acc: 0.852 - ETA: 9s - loss: 0.4293 - acc: 0.852 - ETA: 9s - loss: 0.4288 - acc: 0.852 - ETA: 9s - loss: 0.4290 - acc: 0.852 - ETA: 9s - loss: 0.4289 - acc: 0.852 - ETA: 9s - loss: 0.4289 - acc: 0.852 - ETA: 9s - loss: 0.4284 - acc: 0.852 - ETA: 9s - loss: 0.4289 - acc: 0.852 - ETA: 9s - loss: 0.4295 - acc: 0.852 - ETA: 9s - loss: 0.4298 - acc: 0.852 - ETA: 9s - loss: 0.4300 - acc: 0.852 - ETA: 9s - loss: 0.4299 - acc: 0.852 - ETA: 9s - loss: 0.4309 - acc: 0.851 - ETA: 9s - loss: 0.4315 - acc: 0.851 - ETA: 9s - loss: 0.4310 - acc: 0.851 - ETA: 8s - loss: 0.4313 - acc: 0.851 - ETA: 8s - loss: 0.4313 - acc: 0.851 - ETA: 8s - loss: 0.4315 - acc: 0.851 - ETA: 8s - loss: 0.4315 - acc: 0.851 - ETA: 8s - loss: 0.4311 - acc: 0.851 - ETA: 8s - loss: 0.4307 - acc: 0.851 - ETA: 8s - loss: 0.4301 - acc: 0.851 - ETA: 8s - loss: 0.4300 - acc: 0.851 - ETA: 8s - loss: 0.4297 - acc: 0.851 - ETA: 8s - loss: 0.4292 - acc: 0.851 - ETA: 8s - loss: 0.4289 - acc: 0.852 - ETA: 8s - loss: 0.4287 - acc: 0.852 - ETA: 8s - loss: 0.4286 - acc: 0.852 - ETA: 8s - loss: 0.4285 - acc: 0.852 - ETA: 8s - loss: 0.4288 - acc: 0.852 - ETA: 8s - loss: 0.4289 - acc: 0.852 - ETA: 8s - loss: 0.4292 - acc: 0.852 - ETA: 8s - loss: 0.4290 - acc: 0.852 - ETA: 7s - loss: 0.4291 - acc: 0.852 - ETA: 7s - loss: 0.4296 - acc: 0.852 - ETA: 7s - loss: 0.4293 - acc: 0.852 - ETA: 7s - loss: 0.4293 - acc: 0.852 - ETA: 7s - loss: 0.4290 - acc: 0.852 - ETA: 7s - loss: 0.4295 - acc: 0.851 - ETA: 7s - loss: 0.4291 - acc: 0.852 - ETA: 7s - loss: 0.4286 - acc: 0.852 - ETA: 7s - loss: 0.4287 - acc: 0.852 - ETA: 7s - loss: 0.4291 - acc: 0.851 - ETA: 7s - loss: 0.4290 - acc: 0.851 - ETA: 7s - loss: 0.4287 - acc: 0.851 - ETA: 7s - loss: 0.4286 - acc: 0.851 - ETA: 7s - loss: 0.4287 - acc: 0.851 - ETA: 7s - loss: 0.4295 - acc: 0.851 - ETA: 7s - loss: 0.4289 - acc: 0.8518\b\b\b\b\b\b\b\b\b\b\b\b\b\b\b\b\b\b\b\b\b\b\b\b\b\b\b\b\b\b\b\b\b\b\b\b\b\b\b\b\b\b\b\b\b\b\b\b\b\b\b\b\b\b\b\b\b\b\b\b\b\b\b\b\b\b\b\b\b\b\b\b\b\b\b\b\b\b\b\b\b\b\b"
     ]
    },
    {
     "name": "stdout",
     "output_type": "stream",
     "text": [
      "54000/54000 [==============================] - ETA: 7s - loss: 0.4287 - acc: 0.851 - ETA: 6s - loss: 0.4283 - acc: 0.851 - ETA: 6s - loss: 0.4284 - acc: 0.851 - ETA: 6s - loss: 0.4284 - acc: 0.851 - ETA: 6s - loss: 0.4283 - acc: 0.851 - ETA: 6s - loss: 0.4280 - acc: 0.852 - ETA: 6s - loss: 0.4280 - acc: 0.852 - ETA: 6s - loss: 0.4280 - acc: 0.852 - ETA: 6s - loss: 0.4282 - acc: 0.851 - ETA: 6s - loss: 0.4283 - acc: 0.851 - ETA: 6s - loss: 0.4281 - acc: 0.851 - ETA: 6s - loss: 0.4277 - acc: 0.852 - ETA: 6s - loss: 0.4277 - acc: 0.851 - ETA: 6s - loss: 0.4279 - acc: 0.851 - ETA: 6s - loss: 0.4283 - acc: 0.851 - ETA: 6s - loss: 0.4281 - acc: 0.851 - ETA: 6s - loss: 0.4280 - acc: 0.851 - ETA: 6s - loss: 0.4279 - acc: 0.851 - ETA: 6s - loss: 0.4274 - acc: 0.852 - ETA: 6s - loss: 0.4269 - acc: 0.852 - ETA: 5s - loss: 0.4268 - acc: 0.852 - ETA: 5s - loss: 0.4264 - acc: 0.852 - ETA: 5s - loss: 0.4266 - acc: 0.852 - ETA: 5s - loss: 0.4265 - acc: 0.852 - ETA: 5s - loss: 0.4265 - acc: 0.852 - ETA: 5s - loss: 0.4266 - acc: 0.852 - ETA: 5s - loss: 0.4266 - acc: 0.852 - ETA: 5s - loss: 0.4268 - acc: 0.852 - ETA: 5s - loss: 0.4270 - acc: 0.852 - ETA: 5s - loss: 0.4270 - acc: 0.852 - ETA: 5s - loss: 0.4269 - acc: 0.852 - ETA: 5s - loss: 0.4269 - acc: 0.852 - ETA: 5s - loss: 0.4271 - acc: 0.852 - ETA: 5s - loss: 0.4271 - acc: 0.852 - ETA: 5s - loss: 0.4269 - acc: 0.852 - ETA: 5s - loss: 0.4266 - acc: 0.852 - ETA: 5s - loss: 0.4264 - acc: 0.852 - ETA: 5s - loss: 0.4264 - acc: 0.852 - ETA: 5s - loss: 0.4266 - acc: 0.852 - ETA: 5s - loss: 0.4263 - acc: 0.852 - ETA: 4s - loss: 0.4263 - acc: 0.852 - ETA: 4s - loss: 0.4262 - acc: 0.852 - ETA: 4s - loss: 0.4265 - acc: 0.852 - ETA: 4s - loss: 0.4266 - acc: 0.852 - ETA: 4s - loss: 0.4266 - acc: 0.852 - ETA: 4s - loss: 0.4263 - acc: 0.852 - ETA: 4s - loss: 0.4260 - acc: 0.852 - ETA: 4s - loss: 0.4258 - acc: 0.852 - ETA: 4s - loss: 0.4259 - acc: 0.852 - ETA: 4s - loss: 0.4257 - acc: 0.852 - ETA: 4s - loss: 0.4258 - acc: 0.852 - ETA: 4s - loss: 0.4262 - acc: 0.852 - ETA: 4s - loss: 0.4259 - acc: 0.852 - ETA: 4s - loss: 0.4255 - acc: 0.852 - ETA: 4s - loss: 0.4251 - acc: 0.852 - ETA: 4s - loss: 0.4246 - acc: 0.852 - ETA: 4s - loss: 0.4247 - acc: 0.852 - ETA: 3s - loss: 0.4248 - acc: 0.852 - ETA: 3s - loss: 0.4248 - acc: 0.852 - ETA: 3s - loss: 0.4249 - acc: 0.852 - ETA: 3s - loss: 0.4248 - acc: 0.852 - ETA: 3s - loss: 0.4249 - acc: 0.852 - ETA: 3s - loss: 0.4252 - acc: 0.852 - ETA: 3s - loss: 0.4251 - acc: 0.852 - ETA: 3s - loss: 0.4252 - acc: 0.852 - ETA: 3s - loss: 0.4252 - acc: 0.852 - ETA: 3s - loss: 0.4249 - acc: 0.852 - ETA: 3s - loss: 0.4252 - acc: 0.852 - ETA: 3s - loss: 0.4251 - acc: 0.852 - ETA: 3s - loss: 0.4250 - acc: 0.852 - ETA: 3s - loss: 0.4249 - acc: 0.852 - ETA: 3s - loss: 0.4250 - acc: 0.852 - ETA: 3s - loss: 0.4248 - acc: 0.852 - ETA: 3s - loss: 0.4252 - acc: 0.852 - ETA: 3s - loss: 0.4249 - acc: 0.852 - ETA: 3s - loss: 0.4249 - acc: 0.852 - ETA: 2s - loss: 0.4248 - acc: 0.852 - ETA: 2s - loss: 0.4245 - acc: 0.852 - ETA: 2s - loss: 0.4251 - acc: 0.852 - ETA: 2s - loss: 0.4251 - acc: 0.852 - ETA: 2s - loss: 0.4250 - acc: 0.852 - ETA: 2s - loss: 0.4244 - acc: 0.852 - ETA: 2s - loss: 0.4243 - acc: 0.852 - ETA: 2s - loss: 0.4239 - acc: 0.852 - ETA: 2s - loss: 0.4238 - acc: 0.852 - ETA: 2s - loss: 0.4236 - acc: 0.853 - ETA: 2s - loss: 0.4239 - acc: 0.852 - ETA: 2s - loss: 0.4241 - acc: 0.852 - ETA: 2s - loss: 0.4244 - acc: 0.852 - ETA: 2s - loss: 0.4243 - acc: 0.852 - ETA: 2s - loss: 0.4242 - acc: 0.852 - ETA: 2s - loss: 0.4240 - acc: 0.852 - ETA: 2s - loss: 0.4240 - acc: 0.852 - ETA: 2s - loss: 0.4239 - acc: 0.852 - ETA: 1s - loss: 0.4242 - acc: 0.852 - ETA: 1s - loss: 0.4239 - acc: 0.852 - ETA: 1s - loss: 0.4239 - acc: 0.852 - ETA: 1s - loss: 0.4234 - acc: 0.852 - ETA: 1s - loss: 0.4232 - acc: 0.853 - ETA: 1s - loss: 0.4233 - acc: 0.852 - ETA: 1s - loss: 0.4230 - acc: 0.853 - ETA: 1s - loss: 0.4231 - acc: 0.853 - ETA: 1s - loss: 0.4232 - acc: 0.853 - ETA: 1s - loss: 0.4237 - acc: 0.852 - ETA: 1s - loss: 0.4238 - acc: 0.852 - ETA: 1s - loss: 0.4239 - acc: 0.852 - ETA: 1s - loss: 0.4238 - acc: 0.852 - ETA: 1s - loss: 0.4239 - acc: 0.852 - ETA: 1s - loss: 0.4238 - acc: 0.852 - ETA: 1s - loss: 0.4239 - acc: 0.852 - ETA: 1s - loss: 0.4239 - acc: 0.852 - ETA: 1s - loss: 0.4236 - acc: 0.852 - ETA: 1s - loss: 0.4239 - acc: 0.852 - ETA: 0s - loss: 0.4239 - acc: 0.852 - ETA: 0s - loss: 0.4239 - acc: 0.852 - ETA: 0s - loss: 0.4238 - acc: 0.852 - ETA: 0s - loss: 0.4238 - acc: 0.852 - ETA: 0s - loss: 0.4237 - acc: 0.852 - ETA: 0s - loss: 0.4235 - acc: 0.852 - ETA: 0s - loss: 0.4233 - acc: 0.852 - ETA: 0s - loss: 0.4235 - acc: 0.852 - ETA: 0s - loss: 0.4236 - acc: 0.852 - ETA: 0s - loss: 0.4235 - acc: 0.852 - ETA: 0s - loss: 0.4233 - acc: 0.852 - ETA: 0s - loss: 0.4235 - acc: 0.852 - ETA: 0s - loss: 0.4236 - acc: 0.852 - ETA: 0s - loss: 0.4234 - acc: 0.852 - ETA: 0s - loss: 0.4235 - acc: 0.852 - ETA: 0s - loss: 0.4235 - acc: 0.852 - ETA: 0s - loss: 0.4233 - acc: 0.852 - ETA: 0s - loss: 0.4232 - acc: 0.852 - 19s - loss: 0.4232 - acc: 0.8529 - val_loss: 0.4127 - val_acc: 0.8548\n"
     ]
    },
    {
     "data": {
      "application/vnd.jupyter.widget-view+json": {
       "model_id": "76a2ecc78f4c4aa4981abec33d4900b8",
       "version_major": 2,
       "version_minor": 0
      },
      "text/html": [
       "<p>Failed to display Jupyter Widget of type <code>HBox</code>.</p>\n",
       "<p>\n",
       "  If you're reading this message in Jupyter Notebook or JupyterLab, it may mean\n",
       "  that the widgets JavaScript is still loading. If this message persists, it\n",
       "  likely means that the widgets JavaScript library is either not installed or\n",
       "  not enabled. See the <a href=\"https://ipywidgets.readthedocs.io/en/stable/user_install.html\">Jupyter\n",
       "  Widgets Documentation</a> for setup instructions.\n",
       "</p>\n",
       "<p>\n",
       "  If you're reading this message in another notebook frontend (for example, a static\n",
       "  rendering on GitHub or <a href=\"https://nbviewer.jupyter.org/\">NBViewer</a>),\n",
       "  it may mean that your frontend doesn't currently support widgets.\n",
       "</p>\n"
      ],
      "text/plain": [
       "HBox(children=(IntProgress(value=0, description='Epoch 4', max=54000), HTML(value='')))"
      ]
     },
     "metadata": {},
     "output_type": "display_data"
    },
    {
     "name": "stdout",
     "output_type": "stream",
     "text": [
      "Epoch 5/10\n"
     ]
    },
    {
     "name": "stdout",
     "output_type": "stream",
     "text": [
      "32920/54000 [=================>............] - ETA: 25s - loss: 0.3775 - acc: 0.87 - ETA: 20s - loss: 0.3975 - acc: 0.86 - ETA: 20s - loss: 0.4050 - acc: 0.85 - ETA: 22s - loss: 0.4143 - acc: 0.85 - ETA: 21s - loss: 0.4088 - acc: 0.85 - ETA: 20s - loss: 0.4097 - acc: 0.85 - ETA: 20s - loss: 0.3998 - acc: 0.86 - ETA: 20s - loss: 0.3930 - acc: 0.86 - ETA: 19s - loss: 0.4126 - acc: 0.85 - ETA: 19s - loss: 0.4089 - acc: 0.85 - ETA: 19s - loss: 0.4111 - acc: 0.85 - ETA: 19s - loss: 0.4005 - acc: 0.85 - ETA: 19s - loss: 0.3992 - acc: 0.85 - ETA: 19s - loss: 0.3991 - acc: 0.85 - ETA: 19s - loss: 0.4007 - acc: 0.85 - ETA: 18s - loss: 0.3975 - acc: 0.85 - ETA: 18s - loss: 0.3952 - acc: 0.86 - ETA: 18s - loss: 0.3962 - acc: 0.86 - ETA: 18s - loss: 0.4032 - acc: 0.86 - ETA: 18s - loss: 0.4031 - acc: 0.86 - ETA: 18s - loss: 0.4027 - acc: 0.86 - ETA: 18s - loss: 0.4019 - acc: 0.86 - ETA: 18s - loss: 0.4079 - acc: 0.86 - ETA: 18s - loss: 0.4064 - acc: 0.85 - ETA: 18s - loss: 0.4084 - acc: 0.85 - ETA: 18s - loss: 0.4082 - acc: 0.85 - ETA: 18s - loss: 0.4088 - acc: 0.85 - ETA: 18s - loss: 0.4078 - acc: 0.85 - ETA: 17s - loss: 0.4069 - acc: 0.85 - ETA: 17s - loss: 0.4077 - acc: 0.85 - ETA: 17s - loss: 0.4119 - acc: 0.85 - ETA: 17s - loss: 0.4121 - acc: 0.85 - ETA: 17s - loss: 0.4126 - acc: 0.85 - ETA: 17s - loss: 0.4161 - acc: 0.85 - ETA: 17s - loss: 0.4190 - acc: 0.85 - ETA: 17s - loss: 0.4176 - acc: 0.85 - ETA: 17s - loss: 0.4172 - acc: 0.85 - ETA: 17s - loss: 0.4190 - acc: 0.85 - ETA: 17s - loss: 0.4210 - acc: 0.85 - ETA: 17s - loss: 0.4207 - acc: 0.85 - ETA: 17s - loss: 0.4176 - acc: 0.85 - ETA: 17s - loss: 0.4150 - acc: 0.85 - ETA: 17s - loss: 0.4141 - acc: 0.85 - ETA: 17s - loss: 0.4144 - acc: 0.85 - ETA: 16s - loss: 0.4134 - acc: 0.85 - ETA: 16s - loss: 0.4106 - acc: 0.85 - ETA: 16s - loss: 0.4101 - acc: 0.85 - ETA: 16s - loss: 0.4114 - acc: 0.85 - ETA: 16s - loss: 0.4136 - acc: 0.85 - ETA: 16s - loss: 0.4117 - acc: 0.85 - ETA: 16s - loss: 0.4113 - acc: 0.85 - ETA: 16s - loss: 0.4110 - acc: 0.85 - ETA: 16s - loss: 0.4114 - acc: 0.85 - ETA: 16s - loss: 0.4114 - acc: 0.85 - ETA: 16s - loss: 0.4114 - acc: 0.85 - ETA: 16s - loss: 0.4102 - acc: 0.85 - ETA: 16s - loss: 0.4115 - acc: 0.85 - ETA: 16s - loss: 0.4137 - acc: 0.85 - ETA: 15s - loss: 0.4127 - acc: 0.85 - ETA: 15s - loss: 0.4135 - acc: 0.85 - ETA: 15s - loss: 0.4132 - acc: 0.85 - ETA: 15s - loss: 0.4116 - acc: 0.85 - ETA: 15s - loss: 0.4122 - acc: 0.85 - ETA: 15s - loss: 0.4115 - acc: 0.85 - ETA: 15s - loss: 0.4128 - acc: 0.85 - ETA: 15s - loss: 0.4119 - acc: 0.85 - ETA: 15s - loss: 0.4115 - acc: 0.85 - ETA: 15s - loss: 0.4113 - acc: 0.85 - ETA: 15s - loss: 0.4116 - acc: 0.85 - ETA: 15s - loss: 0.4100 - acc: 0.85 - ETA: 15s - loss: 0.4086 - acc: 0.85 - ETA: 15s - loss: 0.4085 - acc: 0.85 - ETA: 15s - loss: 0.4083 - acc: 0.85 - ETA: 15s - loss: 0.4083 - acc: 0.85 - ETA: 14s - loss: 0.4088 - acc: 0.85 - ETA: 14s - loss: 0.4096 - acc: 0.85 - ETA: 14s - loss: 0.4088 - acc: 0.85 - ETA: 14s - loss: 0.4084 - acc: 0.85 - ETA: 14s - loss: 0.4080 - acc: 0.85 - ETA: 14s - loss: 0.4090 - acc: 0.85 - ETA: 14s - loss: 0.4079 - acc: 0.85 - ETA: 14s - loss: 0.4081 - acc: 0.85 - ETA: 14s - loss: 0.4088 - acc: 0.85 - ETA: 14s - loss: 0.4089 - acc: 0.85 - ETA: 14s - loss: 0.4089 - acc: 0.85 - ETA: 14s - loss: 0.4088 - acc: 0.85 - ETA: 14s - loss: 0.4084 - acc: 0.85 - ETA: 14s - loss: 0.4083 - acc: 0.85 - ETA: 14s - loss: 0.4080 - acc: 0.85 - ETA: 14s - loss: 0.4082 - acc: 0.85 - ETA: 14s - loss: 0.4074 - acc: 0.85 - ETA: 13s - loss: 0.4090 - acc: 0.85 - ETA: 13s - loss: 0.4077 - acc: 0.85 - ETA: 13s - loss: 0.4081 - acc: 0.85 - ETA: 13s - loss: 0.4080 - acc: 0.85 - ETA: 13s - loss: 0.4072 - acc: 0.85 - ETA: 13s - loss: 0.4068 - acc: 0.85 - ETA: 13s - loss: 0.4076 - acc: 0.85 - ETA: 13s - loss: 0.4084 - acc: 0.85 - ETA: 13s - loss: 0.4093 - acc: 0.85 - ETA: 13s - loss: 0.4095 - acc: 0.85 - ETA: 13s - loss: 0.4091 - acc: 0.85 - ETA: 13s - loss: 0.4090 - acc: 0.85 - ETA: 13s - loss: 0.4085 - acc: 0.85 - ETA: 13s - loss: 0.4081 - acc: 0.85 - ETA: 13s - loss: 0.4079 - acc: 0.85 - ETA: 13s - loss: 0.4082 - acc: 0.85 - ETA: 13s - loss: 0.4076 - acc: 0.85 - ETA: 13s - loss: 0.4080 - acc: 0.85 - ETA: 12s - loss: 0.4085 - acc: 0.85 - ETA: 12s - loss: 0.4075 - acc: 0.85 - ETA: 12s - loss: 0.4075 - acc: 0.85 - ETA: 12s - loss: 0.4064 - acc: 0.85 - ETA: 12s - loss: 0.4070 - acc: 0.85 - ETA: 12s - loss: 0.4075 - acc: 0.85 - ETA: 12s - loss: 0.4072 - acc: 0.85 - ETA: 12s - loss: 0.4068 - acc: 0.85 - ETA: 12s - loss: 0.4079 - acc: 0.85 - ETA: 12s - loss: 0.4070 - acc: 0.85 - ETA: 12s - loss: 0.4078 - acc: 0.85 - ETA: 12s - loss: 0.4074 - acc: 0.85 - ETA: 12s - loss: 0.4074 - acc: 0.85 - ETA: 12s - loss: 0.4078 - acc: 0.85 - ETA: 12s - loss: 0.4095 - acc: 0.85 - ETA: 12s - loss: 0.4093 - acc: 0.85 - ETA: 12s - loss: 0.4087 - acc: 0.85 - ETA: 11s - loss: 0.4084 - acc: 0.85 - ETA: 11s - loss: 0.4079 - acc: 0.85 - ETA: 11s - loss: 0.4076 - acc: 0.85 - ETA: 11s - loss: 0.4084 - acc: 0.85 - ETA: 11s - loss: 0.4069 - acc: 0.85 - ETA: 11s - loss: 0.4074 - acc: 0.85 - ETA: 11s - loss: 0.4079 - acc: 0.85 - ETA: 11s - loss: 0.4079 - acc: 0.85 - ETA: 11s - loss: 0.4084 - acc: 0.85 - ETA: 11s - loss: 0.4096 - acc: 0.85 - ETA: 11s - loss: 0.4102 - acc: 0.85 - ETA: 11s - loss: 0.4094 - acc: 0.85 - ETA: 11s - loss: 0.4092 - acc: 0.85 - ETA: 11s - loss: 0.4097 - acc: 0.85 - ETA: 11s - loss: 0.4089 - acc: 0.85 - ETA: 11s - loss: 0.4085 - acc: 0.85 - ETA: 11s - loss: 0.4083 - acc: 0.85 - ETA: 10s - loss: 0.4087 - acc: 0.85 - ETA: 10s - loss: 0.4087 - acc: 0.85 - ETA: 10s - loss: 0.4089 - acc: 0.85 - ETA: 10s - loss: 0.4086 - acc: 0.85 - ETA: 10s - loss: 0.4081 - acc: 0.85 - ETA: 10s - loss: 0.4090 - acc: 0.85 - ETA: 10s - loss: 0.4097 - acc: 0.85 - ETA: 10s - loss: 0.4099 - acc: 0.85 - ETA: 10s - loss: 0.4102 - acc: 0.85 - ETA: 10s - loss: 0.4098 - acc: 0.85 - ETA: 10s - loss: 0.4092 - acc: 0.85 - ETA: 10s - loss: 0.4089 - acc: 0.85 - ETA: 10s - loss: 0.4091 - acc: 0.85 - ETA: 10s - loss: 0.4088 - acc: 0.85 - ETA: 10s - loss: 0.4089 - acc: 0.85 - ETA: 10s - loss: 0.4087 - acc: 0.85 - ETA: 10s - loss: 0.4094 - acc: 0.85 - ETA: 10s - loss: 0.4094 - acc: 0.85 - ETA: 9s - loss: 0.4093 - acc: 0.8579 - ETA: 9s - loss: 0.4094 - acc: 0.857 - ETA: 9s - loss: 0.4094 - acc: 0.857 - ETA: 9s - loss: 0.4093 - acc: 0.857 - ETA: 9s - loss: 0.4097 - acc: 0.857 - ETA: 9s - loss: 0.4099 - acc: 0.857 - ETA: 9s - loss: 0.4094 - acc: 0.857 - ETA: 9s - loss: 0.4102 - acc: 0.857 - ETA: 9s - loss: 0.4097 - acc: 0.857 - ETA: 9s - loss: 0.4098 - acc: 0.857 - ETA: 9s - loss: 0.4096 - acc: 0.857 - ETA: 9s - loss: 0.4096 - acc: 0.857 - ETA: 9s - loss: 0.4094 - acc: 0.857 - ETA: 9s - loss: 0.4095 - acc: 0.857 - ETA: 9s - loss: 0.4105 - acc: 0.857 - ETA: 9s - loss: 0.4105 - acc: 0.857 - ETA: 9s - loss: 0.4105 - acc: 0.857 - ETA: 9s - loss: 0.4105 - acc: 0.857 - ETA: 8s - loss: 0.4106 - acc: 0.857 - ETA: 8s - loss: 0.4103 - acc: 0.857 - ETA: 8s - loss: 0.4107 - acc: 0.857 - ETA: 8s - loss: 0.4103 - acc: 0.857 - ETA: 8s - loss: 0.4103 - acc: 0.857 - ETA: 8s - loss: 0.4097 - acc: 0.857 - ETA: 8s - loss: 0.4096 - acc: 0.857 - ETA: 8s - loss: 0.4088 - acc: 0.857 - ETA: 8s - loss: 0.4090 - acc: 0.857 - ETA: 8s - loss: 0.4090 - acc: 0.857 - ETA: 8s - loss: 0.4090 - acc: 0.857 - ETA: 8s - loss: 0.4092 - acc: 0.857 - ETA: 8s - loss: 0.4093 - acc: 0.857 - ETA: 8s - loss: 0.4094 - acc: 0.857 - ETA: 8s - loss: 0.4095 - acc: 0.857 - ETA: 8s - loss: 0.4098 - acc: 0.857 - ETA: 8s - loss: 0.4098 - acc: 0.857 - ETA: 8s - loss: 0.4094 - acc: 0.857 - ETA: 8s - loss: 0.4090 - acc: 0.858 - ETA: 8s - loss: 0.4090 - acc: 0.858 - ETA: 8s - loss: 0.4091 - acc: 0.858 - ETA: 8s - loss: 0.4085 - acc: 0.858 - ETA: 7s - loss: 0.4086 - acc: 0.858 - ETA: 7s - loss: 0.4086 - acc: 0.858 - ETA: 7s - loss: 0.4090 - acc: 0.858 - ETA: 7s - loss: 0.4095 - acc: 0.858 - ETA: 7s - loss: 0.4097 - acc: 0.857 - ETA: 7s - loss: 0.4102 - acc: 0.857 - ETA: 7s - loss: 0.4097 - acc: 0.857 - ETA: 7s - loss: 0.4097 - acc: 0.857 - ETA: 7s - loss: 0.4097 - acc: 0.857 - ETA: 7s - loss: 0.4095 - acc: 0.857 - ETA: 7s - loss: 0.4093 - acc: 0.857 - ETA: 7s - loss: 0.4092 - acc: 0.858 - ETA: 7s - loss: 0.4094 - acc: 0.858 - ETA: 7s - loss: 0.4094 - acc: 0.8580\b\b\b\b\b\b\b\b\b\b\b\b\b\b\b\b\b\b\b\b\b\b\b\b\b\b\b\b\b\b\b\b\b\b\b\b\b\b\b\b\b\b\b\b\b\b\b\b\b\b\b\b\b\b\b\b\b\b\b\b\b\b\b\b\b\b\b\b\b\b\b\b\b\b\b\b\b\b\b\b\b\b\b"
     ]
    },
    {
     "name": "stdout",
     "output_type": "stream",
     "text": [
      "54000/54000 [==============================] - ETA: 7s - loss: 0.4094 - acc: 0.858 - ETA: 7s - loss: 0.4093 - acc: 0.858 - ETA: 7s - loss: 0.4089 - acc: 0.858 - ETA: 7s - loss: 0.4091 - acc: 0.858 - ETA: 7s - loss: 0.4091 - acc: 0.858 - ETA: 7s - loss: 0.4089 - acc: 0.858 - ETA: 7s - loss: 0.4089 - acc: 0.858 - ETA: 7s - loss: 0.4094 - acc: 0.858 - ETA: 7s - loss: 0.4090 - acc: 0.858 - ETA: 7s - loss: 0.4089 - acc: 0.858 - ETA: 7s - loss: 0.4094 - acc: 0.857 - ETA: 7s - loss: 0.4092 - acc: 0.857 - ETA: 7s - loss: 0.4092 - acc: 0.857 - ETA: 7s - loss: 0.4087 - acc: 0.858 - ETA: 7s - loss: 0.4079 - acc: 0.858 - ETA: 7s - loss: 0.4076 - acc: 0.858 - ETA: 7s - loss: 0.4076 - acc: 0.858 - ETA: 7s - loss: 0.4072 - acc: 0.858 - ETA: 7s - loss: 0.4076 - acc: 0.858 - ETA: 6s - loss: 0.4074 - acc: 0.858 - ETA: 6s - loss: 0.4073 - acc: 0.858 - ETA: 6s - loss: 0.4073 - acc: 0.858 - ETA: 6s - loss: 0.4074 - acc: 0.858 - ETA: 6s - loss: 0.4075 - acc: 0.858 - ETA: 6s - loss: 0.4076 - acc: 0.858 - ETA: 6s - loss: 0.4079 - acc: 0.858 - ETA: 6s - loss: 0.4074 - acc: 0.858 - ETA: 6s - loss: 0.4071 - acc: 0.858 - ETA: 6s - loss: 0.4071 - acc: 0.858 - ETA: 6s - loss: 0.4070 - acc: 0.858 - ETA: 6s - loss: 0.4073 - acc: 0.858 - ETA: 6s - loss: 0.4070 - acc: 0.858 - ETA: 6s - loss: 0.4065 - acc: 0.858 - ETA: 6s - loss: 0.4064 - acc: 0.858 - ETA: 6s - loss: 0.4063 - acc: 0.858 - ETA: 6s - loss: 0.4064 - acc: 0.859 - ETA: 6s - loss: 0.4065 - acc: 0.858 - ETA: 6s - loss: 0.4067 - acc: 0.858 - ETA: 6s - loss: 0.4062 - acc: 0.859 - ETA: 6s - loss: 0.4062 - acc: 0.859 - ETA: 6s - loss: 0.4063 - acc: 0.859 - ETA: 5s - loss: 0.4062 - acc: 0.859 - ETA: 5s - loss: 0.4059 - acc: 0.859 - ETA: 5s - loss: 0.4058 - acc: 0.859 - ETA: 5s - loss: 0.4061 - acc: 0.858 - ETA: 5s - loss: 0.4059 - acc: 0.858 - ETA: 5s - loss: 0.4059 - acc: 0.858 - ETA: 5s - loss: 0.4057 - acc: 0.858 - ETA: 5s - loss: 0.4054 - acc: 0.859 - ETA: 5s - loss: 0.4056 - acc: 0.858 - ETA: 5s - loss: 0.4052 - acc: 0.859 - ETA: 5s - loss: 0.4053 - acc: 0.859 - ETA: 5s - loss: 0.4053 - acc: 0.859 - ETA: 5s - loss: 0.4052 - acc: 0.858 - ETA: 5s - loss: 0.4055 - acc: 0.858 - ETA: 5s - loss: 0.4054 - acc: 0.858 - ETA: 5s - loss: 0.4058 - acc: 0.858 - ETA: 5s - loss: 0.4057 - acc: 0.858 - ETA: 5s - loss: 0.4057 - acc: 0.858 - ETA: 5s - loss: 0.4057 - acc: 0.858 - ETA: 5s - loss: 0.4057 - acc: 0.858 - ETA: 5s - loss: 0.4058 - acc: 0.858 - ETA: 5s - loss: 0.4057 - acc: 0.858 - ETA: 4s - loss: 0.4057 - acc: 0.858 - ETA: 4s - loss: 0.4054 - acc: 0.858 - ETA: 4s - loss: 0.4058 - acc: 0.858 - ETA: 4s - loss: 0.4060 - acc: 0.858 - ETA: 4s - loss: 0.4061 - acc: 0.858 - ETA: 4s - loss: 0.4061 - acc: 0.858 - ETA: 4s - loss: 0.4064 - acc: 0.858 - ETA: 4s - loss: 0.4064 - acc: 0.858 - ETA: 4s - loss: 0.4059 - acc: 0.858 - ETA: 4s - loss: 0.4061 - acc: 0.858 - ETA: 4s - loss: 0.4055 - acc: 0.858 - ETA: 4s - loss: 0.4056 - acc: 0.858 - ETA: 4s - loss: 0.4059 - acc: 0.858 - ETA: 4s - loss: 0.4059 - acc: 0.858 - ETA: 4s - loss: 0.4056 - acc: 0.858 - ETA: 4s - loss: 0.4056 - acc: 0.858 - ETA: 4s - loss: 0.4057 - acc: 0.858 - ETA: 4s - loss: 0.4056 - acc: 0.858 - ETA: 3s - loss: 0.4063 - acc: 0.858 - ETA: 3s - loss: 0.4059 - acc: 0.858 - ETA: 3s - loss: 0.4058 - acc: 0.858 - ETA: 3s - loss: 0.4060 - acc: 0.858 - ETA: 3s - loss: 0.4059 - acc: 0.858 - ETA: 3s - loss: 0.4058 - acc: 0.859 - ETA: 3s - loss: 0.4061 - acc: 0.859 - ETA: 3s - loss: 0.4061 - acc: 0.859 - ETA: 3s - loss: 0.4061 - acc: 0.859 - ETA: 3s - loss: 0.4062 - acc: 0.859 - ETA: 3s - loss: 0.4060 - acc: 0.859 - ETA: 3s - loss: 0.4058 - acc: 0.859 - ETA: 3s - loss: 0.4059 - acc: 0.859 - ETA: 3s - loss: 0.4058 - acc: 0.859 - ETA: 3s - loss: 0.4058 - acc: 0.859 - ETA: 3s - loss: 0.4059 - acc: 0.859 - ETA: 3s - loss: 0.4056 - acc: 0.859 - ETA: 3s - loss: 0.4056 - acc: 0.859 - ETA: 3s - loss: 0.4057 - acc: 0.859 - ETA: 3s - loss: 0.4055 - acc: 0.859 - ETA: 2s - loss: 0.4053 - acc: 0.859 - ETA: 2s - loss: 0.4054 - acc: 0.859 - ETA: 2s - loss: 0.4054 - acc: 0.859 - ETA: 2s - loss: 0.4052 - acc: 0.859 - ETA: 2s - loss: 0.4051 - acc: 0.859 - ETA: 2s - loss: 0.4049 - acc: 0.859 - ETA: 2s - loss: 0.4049 - acc: 0.859 - ETA: 2s - loss: 0.4048 - acc: 0.859 - ETA: 2s - loss: 0.4049 - acc: 0.859 - ETA: 2s - loss: 0.4048 - acc: 0.859 - ETA: 2s - loss: 0.4052 - acc: 0.859 - ETA: 2s - loss: 0.4051 - acc: 0.859 - ETA: 2s - loss: 0.4047 - acc: 0.859 - ETA: 2s - loss: 0.4047 - acc: 0.859 - ETA: 2s - loss: 0.4047 - acc: 0.859 - ETA: 2s - loss: 0.4048 - acc: 0.859 - ETA: 2s - loss: 0.4046 - acc: 0.859 - ETA: 2s - loss: 0.4044 - acc: 0.860 - ETA: 2s - loss: 0.4043 - acc: 0.860 - ETA: 1s - loss: 0.4043 - acc: 0.859 - ETA: 1s - loss: 0.4042 - acc: 0.859 - ETA: 1s - loss: 0.4043 - acc: 0.859 - ETA: 1s - loss: 0.4045 - acc: 0.859 - ETA: 1s - loss: 0.4046 - acc: 0.859 - ETA: 1s - loss: 0.4046 - acc: 0.859 - ETA: 1s - loss: 0.4044 - acc: 0.859 - ETA: 1s - loss: 0.4044 - acc: 0.859 - ETA: 1s - loss: 0.4044 - acc: 0.859 - ETA: 1s - loss: 0.4044 - acc: 0.859 - ETA: 1s - loss: 0.4043 - acc: 0.859 - ETA: 1s - loss: 0.4043 - acc: 0.859 - ETA: 1s - loss: 0.4045 - acc: 0.859 - ETA: 1s - loss: 0.4045 - acc: 0.859 - ETA: 1s - loss: 0.4043 - acc: 0.859 - ETA: 1s - loss: 0.4044 - acc: 0.859 - ETA: 1s - loss: 0.4044 - acc: 0.859 - ETA: 1s - loss: 0.4045 - acc: 0.859 - ETA: 1s - loss: 0.4046 - acc: 0.859 - ETA: 1s - loss: 0.4046 - acc: 0.859 - ETA: 1s - loss: 0.4045 - acc: 0.860 - ETA: 0s - loss: 0.4044 - acc: 0.860 - ETA: 0s - loss: 0.4047 - acc: 0.859 - ETA: 0s - loss: 0.4046 - acc: 0.859 - ETA: 0s - loss: 0.4047 - acc: 0.859 - ETA: 0s - loss: 0.4044 - acc: 0.859 - ETA: 0s - loss: 0.4045 - acc: 0.859 - ETA: 0s - loss: 0.4044 - acc: 0.859 - ETA: 0s - loss: 0.4042 - acc: 0.859 - ETA: 0s - loss: 0.4044 - acc: 0.859 - ETA: 0s - loss: 0.4043 - acc: 0.859 - ETA: 0s - loss: 0.4042 - acc: 0.859 - ETA: 0s - loss: 0.4042 - acc: 0.859 - ETA: 0s - loss: 0.4041 - acc: 0.859 - ETA: 0s - loss: 0.4043 - acc: 0.859 - ETA: 0s - loss: 0.4039 - acc: 0.859 - ETA: 0s - loss: 0.4038 - acc: 0.859 - ETA: 0s - loss: 0.4040 - acc: 0.859 - ETA: 0s - loss: 0.4039 - acc: 0.859 - ETA: 0s - loss: 0.4036 - acc: 0.860 - 21s - loss: 0.4036 - acc: 0.8600 - val_loss: 0.4151 - val_acc: 0.8568\n"
     ]
    },
    {
     "data": {
      "application/vnd.jupyter.widget-view+json": {
       "model_id": "8742084f2e774a49bc5e0028963f5bf6",
       "version_major": 2,
       "version_minor": 0
      },
      "text/html": [
       "<p>Failed to display Jupyter Widget of type <code>HBox</code>.</p>\n",
       "<p>\n",
       "  If you're reading this message in Jupyter Notebook or JupyterLab, it may mean\n",
       "  that the widgets JavaScript is still loading. If this message persists, it\n",
       "  likely means that the widgets JavaScript library is either not installed or\n",
       "  not enabled. See the <a href=\"https://ipywidgets.readthedocs.io/en/stable/user_install.html\">Jupyter\n",
       "  Widgets Documentation</a> for setup instructions.\n",
       "</p>\n",
       "<p>\n",
       "  If you're reading this message in another notebook frontend (for example, a static\n",
       "  rendering on GitHub or <a href=\"https://nbviewer.jupyter.org/\">NBViewer</a>),\n",
       "  it may mean that your frontend doesn't currently support widgets.\n",
       "</p>\n"
      ],
      "text/plain": [
       "HBox(children=(IntProgress(value=0, description='Epoch 5', max=54000), HTML(value='')))"
      ]
     },
     "metadata": {},
     "output_type": "display_data"
    },
    {
     "name": "stdout",
     "output_type": "stream",
     "text": [
      "Epoch 6/10\n"
     ]
    },
    {
     "name": "stdout",
     "output_type": "stream",
     "text": [
      "32960/54000 [=================>............] - ETA: 30s - loss: 0.2086 - acc: 0.92 - ETA: 21s - loss: 0.4061 - acc: 0.84 - ETA: 21s - loss: 0.3977 - acc: 0.84 - ETA: 22s - loss: 0.3958 - acc: 0.84 - ETA: 22s - loss: 0.3797 - acc: 0.85 - ETA: 22s - loss: 0.3765 - acc: 0.85 - ETA: 21s - loss: 0.3837 - acc: 0.85 - ETA: 22s - loss: 0.3870 - acc: 0.86 - ETA: 21s - loss: 0.3884 - acc: 0.86 - ETA: 21s - loss: 0.3941 - acc: 0.85 - ETA: 21s - loss: 0.3919 - acc: 0.85 - ETA: 21s - loss: 0.3823 - acc: 0.86 - ETA: 21s - loss: 0.3885 - acc: 0.85 - ETA: 20s - loss: 0.3831 - acc: 0.86 - ETA: 20s - loss: 0.3901 - acc: 0.85 - ETA: 20s - loss: 0.3898 - acc: 0.85 - ETA: 20s - loss: 0.3939 - acc: 0.85 - ETA: 20s - loss: 0.3922 - acc: 0.85 - ETA: 20s - loss: 0.3962 - acc: 0.85 - ETA: 19s - loss: 0.4012 - acc: 0.85 - ETA: 19s - loss: 0.4017 - acc: 0.85 - ETA: 19s - loss: 0.3966 - acc: 0.85 - ETA: 19s - loss: 0.3983 - acc: 0.85 - ETA: 19s - loss: 0.3930 - acc: 0.85 - ETA: 19s - loss: 0.3928 - acc: 0.85 - ETA: 19s - loss: 0.3892 - acc: 0.85 - ETA: 19s - loss: 0.3846 - acc: 0.86 - ETA: 19s - loss: 0.3882 - acc: 0.85 - ETA: 19s - loss: 0.3924 - acc: 0.85 - ETA: 18s - loss: 0.3954 - acc: 0.85 - ETA: 18s - loss: 0.3934 - acc: 0.85 - ETA: 18s - loss: 0.3918 - acc: 0.85 - ETA: 18s - loss: 0.3950 - acc: 0.85 - ETA: 18s - loss: 0.3929 - acc: 0.85 - ETA: 18s - loss: 0.3933 - acc: 0.85 - ETA: 18s - loss: 0.3911 - acc: 0.85 - ETA: 18s - loss: 0.3946 - acc: 0.85 - ETA: 18s - loss: 0.3972 - acc: 0.85 - ETA: 18s - loss: 0.4001 - acc: 0.85 - ETA: 18s - loss: 0.3970 - acc: 0.85 - ETA: 18s - loss: 0.3967 - acc: 0.85 - ETA: 18s - loss: 0.3963 - acc: 0.85 - ETA: 17s - loss: 0.3971 - acc: 0.85 - ETA: 17s - loss: 0.3964 - acc: 0.85 - ETA: 17s - loss: 0.3960 - acc: 0.85 - ETA: 17s - loss: 0.3970 - acc: 0.85 - ETA: 17s - loss: 0.3961 - acc: 0.85 - ETA: 17s - loss: 0.3981 - acc: 0.85 - ETA: 17s - loss: 0.3990 - acc: 0.85 - ETA: 17s - loss: 0.3986 - acc: 0.85 - ETA: 17s - loss: 0.3985 - acc: 0.85 - ETA: 16s - loss: 0.3969 - acc: 0.85 - ETA: 16s - loss: 0.3981 - acc: 0.85 - ETA: 16s - loss: 0.3972 - acc: 0.85 - ETA: 16s - loss: 0.3983 - acc: 0.85 - ETA: 16s - loss: 0.3980 - acc: 0.85 - ETA: 16s - loss: 0.3972 - acc: 0.85 - ETA: 16s - loss: 0.3979 - acc: 0.85 - ETA: 16s - loss: 0.3994 - acc: 0.85 - ETA: 16s - loss: 0.3983 - acc: 0.85 - ETA: 16s - loss: 0.3973 - acc: 0.85 - ETA: 16s - loss: 0.3958 - acc: 0.86 - ETA: 16s - loss: 0.3956 - acc: 0.86 - ETA: 16s - loss: 0.3952 - acc: 0.86 - ETA: 16s - loss: 0.3944 - acc: 0.86 - ETA: 16s - loss: 0.3953 - acc: 0.86 - ETA: 16s - loss: 0.3961 - acc: 0.86 - ETA: 15s - loss: 0.3946 - acc: 0.86 - ETA: 15s - loss: 0.3950 - acc: 0.86 - ETA: 15s - loss: 0.3969 - acc: 0.85 - ETA: 15s - loss: 0.3973 - acc: 0.86 - ETA: 15s - loss: 0.3974 - acc: 0.85 - ETA: 15s - loss: 0.3979 - acc: 0.85 - ETA: 15s - loss: 0.3985 - acc: 0.85 - ETA: 15s - loss: 0.3995 - acc: 0.85 - ETA: 15s - loss: 0.3990 - acc: 0.85 - ETA: 15s - loss: 0.4003 - acc: 0.86 - ETA: 15s - loss: 0.3999 - acc: 0.86 - ETA: 15s - loss: 0.3990 - acc: 0.86 - ETA: 15s - loss: 0.4001 - acc: 0.86 - ETA: 15s - loss: 0.3997 - acc: 0.86 - ETA: 15s - loss: 0.3993 - acc: 0.86 - ETA: 15s - loss: 0.3980 - acc: 0.86 - ETA: 15s - loss: 0.3978 - acc: 0.86 - ETA: 14s - loss: 0.3984 - acc: 0.86 - ETA: 14s - loss: 0.3992 - acc: 0.86 - ETA: 14s - loss: 0.3995 - acc: 0.86 - ETA: 14s - loss: 0.3986 - acc: 0.86 - ETA: 14s - loss: 0.3973 - acc: 0.86 - ETA: 14s - loss: 0.3975 - acc: 0.86 - ETA: 14s - loss: 0.3975 - acc: 0.86 - ETA: 14s - loss: 0.3972 - acc: 0.86 - ETA: 14s - loss: 0.3967 - acc: 0.86 - ETA: 14s - loss: 0.3955 - acc: 0.86 - ETA: 14s - loss: 0.3953 - acc: 0.86 - ETA: 14s - loss: 0.3949 - acc: 0.86 - ETA: 14s - loss: 0.3973 - acc: 0.86 - ETA: 14s - loss: 0.3973 - acc: 0.86 - ETA: 14s - loss: 0.3968 - acc: 0.86 - ETA: 14s - loss: 0.3965 - acc: 0.86 - ETA: 13s - loss: 0.3968 - acc: 0.86 - ETA: 13s - loss: 0.3964 - acc: 0.86 - ETA: 13s - loss: 0.3968 - acc: 0.86 - ETA: 13s - loss: 0.3979 - acc: 0.86 - ETA: 13s - loss: 0.3989 - acc: 0.86 - ETA: 13s - loss: 0.3983 - acc: 0.86 - ETA: 13s - loss: 0.3974 - acc: 0.86 - ETA: 13s - loss: 0.3977 - acc: 0.86 - ETA: 13s - loss: 0.3974 - acc: 0.86 - ETA: 13s - loss: 0.3967 - acc: 0.86 - ETA: 13s - loss: 0.3970 - acc: 0.86 - ETA: 13s - loss: 0.3960 - acc: 0.86 - ETA: 13s - loss: 0.3961 - acc: 0.86 - ETA: 13s - loss: 0.3964 - acc: 0.86 - ETA: 13s - loss: 0.3962 - acc: 0.86 - ETA: 13s - loss: 0.3961 - acc: 0.86 - ETA: 13s - loss: 0.3962 - acc: 0.86 - ETA: 13s - loss: 0.3962 - acc: 0.86 - ETA: 13s - loss: 0.3952 - acc: 0.86 - ETA: 12s - loss: 0.3950 - acc: 0.86 - ETA: 12s - loss: 0.3952 - acc: 0.86 - ETA: 12s - loss: 0.3953 - acc: 0.86 - ETA: 12s - loss: 0.3955 - acc: 0.86 - ETA: 12s - loss: 0.3960 - acc: 0.86 - ETA: 12s - loss: 0.3966 - acc: 0.86 - ETA: 12s - loss: 0.3966 - acc: 0.86 - ETA: 12s - loss: 0.3964 - acc: 0.86 - ETA: 12s - loss: 0.3956 - acc: 0.86 - ETA: 12s - loss: 0.3948 - acc: 0.86 - ETA: 12s - loss: 0.3943 - acc: 0.86 - ETA: 12s - loss: 0.3938 - acc: 0.86 - ETA: 12s - loss: 0.3934 - acc: 0.86 - ETA: 12s - loss: 0.3932 - acc: 0.86 - ETA: 12s - loss: 0.3928 - acc: 0.86 - ETA: 12s - loss: 0.3929 - acc: 0.86 - ETA: 11s - loss: 0.3924 - acc: 0.86 - ETA: 11s - loss: 0.3924 - acc: 0.86 - ETA: 11s - loss: 0.3918 - acc: 0.86 - ETA: 11s - loss: 0.3918 - acc: 0.86 - ETA: 11s - loss: 0.3922 - acc: 0.86 - ETA: 11s - loss: 0.3921 - acc: 0.86 - ETA: 11s - loss: 0.3917 - acc: 0.86 - ETA: 11s - loss: 0.3920 - acc: 0.86 - ETA: 11s - loss: 0.3923 - acc: 0.86 - ETA: 11s - loss: 0.3924 - acc: 0.86 - ETA: 11s - loss: 0.3923 - acc: 0.86 - ETA: 11s - loss: 0.3927 - acc: 0.86 - ETA: 11s - loss: 0.3924 - acc: 0.86 - ETA: 11s - loss: 0.3924 - acc: 0.86 - ETA: 11s - loss: 0.3924 - acc: 0.86 - ETA: 11s - loss: 0.3923 - acc: 0.86 - ETA: 10s - loss: 0.3921 - acc: 0.86 - ETA: 10s - loss: 0.3915 - acc: 0.86 - ETA: 10s - loss: 0.3916 - acc: 0.86 - ETA: 10s - loss: 0.3916 - acc: 0.86 - ETA: 10s - loss: 0.3916 - acc: 0.86 - ETA: 10s - loss: 0.3911 - acc: 0.86 - ETA: 10s - loss: 0.3918 - acc: 0.86 - ETA: 10s - loss: 0.3916 - acc: 0.86 - ETA: 10s - loss: 0.3916 - acc: 0.86 - ETA: 10s - loss: 0.3928 - acc: 0.86 - ETA: 10s - loss: 0.3927 - acc: 0.86 - ETA: 10s - loss: 0.3925 - acc: 0.86 - ETA: 10s - loss: 0.3920 - acc: 0.86 - ETA: 10s - loss: 0.3922 - acc: 0.86 - ETA: 10s - loss: 0.3923 - acc: 0.86 - ETA: 10s - loss: 0.3918 - acc: 0.86 - ETA: 10s - loss: 0.3919 - acc: 0.86 - ETA: 10s - loss: 0.3917 - acc: 0.86 - ETA: 10s - loss: 0.3917 - acc: 0.86 - ETA: 9s - loss: 0.3918 - acc: 0.8635 - ETA: 9s - loss: 0.3922 - acc: 0.863 - ETA: 9s - loss: 0.3923 - acc: 0.863 - ETA: 9s - loss: 0.3921 - acc: 0.863 - ETA: 9s - loss: 0.3919 - acc: 0.863 - ETA: 9s - loss: 0.3912 - acc: 0.863 - ETA: 9s - loss: 0.3920 - acc: 0.863 - ETA: 9s - loss: 0.3921 - acc: 0.863 - ETA: 9s - loss: 0.3919 - acc: 0.863 - ETA: 9s - loss: 0.3925 - acc: 0.863 - ETA: 9s - loss: 0.3926 - acc: 0.863 - ETA: 9s - loss: 0.3924 - acc: 0.863 - ETA: 9s - loss: 0.3923 - acc: 0.863 - ETA: 9s - loss: 0.3920 - acc: 0.863 - ETA: 9s - loss: 0.3919 - acc: 0.863 - ETA: 9s - loss: 0.3919 - acc: 0.863 - ETA: 9s - loss: 0.3914 - acc: 0.863 - ETA: 9s - loss: 0.3929 - acc: 0.863 - ETA: 9s - loss: 0.3926 - acc: 0.863 - ETA: 8s - loss: 0.3928 - acc: 0.863 - ETA: 8s - loss: 0.3924 - acc: 0.863 - ETA: 8s - loss: 0.3927 - acc: 0.863 - ETA: 8s - loss: 0.3926 - acc: 0.863 - ETA: 8s - loss: 0.3931 - acc: 0.863 - ETA: 8s - loss: 0.3931 - acc: 0.863 - ETA: 8s - loss: 0.3933 - acc: 0.863 - ETA: 8s - loss: 0.3931 - acc: 0.863 - ETA: 8s - loss: 0.3932 - acc: 0.863 - ETA: 8s - loss: 0.3930 - acc: 0.863 - ETA: 8s - loss: 0.3930 - acc: 0.863 - ETA: 8s - loss: 0.3929 - acc: 0.863 - ETA: 8s - loss: 0.3933 - acc: 0.863 - ETA: 8s - loss: 0.3934 - acc: 0.863 - ETA: 8s - loss: 0.3935 - acc: 0.863 - ETA: 8s - loss: 0.3938 - acc: 0.862 - ETA: 8s - loss: 0.3936 - acc: 0.862 - ETA: 8s - loss: 0.3930 - acc: 0.863 - ETA: 8s - loss: 0.3927 - acc: 0.863 - ETA: 7s - loss: 0.3930 - acc: 0.863 - ETA: 7s - loss: 0.3931 - acc: 0.863 - ETA: 7s - loss: 0.3932 - acc: 0.862 - ETA: 7s - loss: 0.3931 - acc: 0.862 - ETA: 7s - loss: 0.3934 - acc: 0.862 - ETA: 7s - loss: 0.3936 - acc: 0.862 - ETA: 7s - loss: 0.3934 - acc: 0.8628\b\b\b\b\b\b\b\b\b\b\b\b\b\b\b\b\b\b\b\b\b\b\b\b\b\b\b\b\b\b\b\b\b\b\b\b\b\b\b\b\b\b\b\b\b\b\b\b\b\b\b\b\b\b\b\b\b\b\b\b\b\b\b\b\b\b\b\b\b\b\b\b\b\b\b\b\b\b\b\b\b\b\b"
     ]
    },
    {
     "name": "stdout",
     "output_type": "stream",
     "text": [
      "54000/54000 [==============================] - ETA: 7s - loss: 0.3930 - acc: 0.863 - ETA: 7s - loss: 0.3927 - acc: 0.863 - ETA: 7s - loss: 0.3925 - acc: 0.863 - ETA: 7s - loss: 0.3923 - acc: 0.863 - ETA: 7s - loss: 0.3924 - acc: 0.863 - ETA: 7s - loss: 0.3922 - acc: 0.863 - ETA: 7s - loss: 0.3921 - acc: 0.863 - ETA: 7s - loss: 0.3924 - acc: 0.863 - ETA: 7s - loss: 0.3925 - acc: 0.863 - ETA: 7s - loss: 0.3933 - acc: 0.863 - ETA: 7s - loss: 0.3932 - acc: 0.863 - ETA: 7s - loss: 0.3933 - acc: 0.863 - ETA: 7s - loss: 0.3933 - acc: 0.863 - ETA: 7s - loss: 0.3929 - acc: 0.863 - ETA: 7s - loss: 0.3933 - acc: 0.863 - ETA: 6s - loss: 0.3936 - acc: 0.863 - ETA: 6s - loss: 0.3934 - acc: 0.862 - ETA: 6s - loss: 0.3931 - acc: 0.863 - ETA: 6s - loss: 0.3931 - acc: 0.862 - ETA: 6s - loss: 0.3934 - acc: 0.862 - ETA: 6s - loss: 0.3933 - acc: 0.862 - ETA: 6s - loss: 0.3932 - acc: 0.862 - ETA: 6s - loss: 0.3934 - acc: 0.862 - ETA: 6s - loss: 0.3936 - acc: 0.862 - ETA: 6s - loss: 0.3939 - acc: 0.862 - ETA: 6s - loss: 0.3937 - acc: 0.862 - ETA: 6s - loss: 0.3938 - acc: 0.862 - ETA: 6s - loss: 0.3940 - acc: 0.862 - ETA: 6s - loss: 0.3939 - acc: 0.862 - ETA: 6s - loss: 0.3943 - acc: 0.862 - ETA: 6s - loss: 0.3940 - acc: 0.862 - ETA: 6s - loss: 0.3939 - acc: 0.862 - ETA: 6s - loss: 0.3938 - acc: 0.862 - ETA: 6s - loss: 0.3938 - acc: 0.862 - ETA: 5s - loss: 0.3941 - acc: 0.862 - ETA: 5s - loss: 0.3940 - acc: 0.862 - ETA: 5s - loss: 0.3938 - acc: 0.862 - ETA: 5s - loss: 0.3940 - acc: 0.862 - ETA: 5s - loss: 0.3940 - acc: 0.862 - ETA: 5s - loss: 0.3937 - acc: 0.862 - ETA: 5s - loss: 0.3938 - acc: 0.862 - ETA: 5s - loss: 0.3936 - acc: 0.862 - ETA: 5s - loss: 0.3935 - acc: 0.862 - ETA: 5s - loss: 0.3937 - acc: 0.862 - ETA: 5s - loss: 0.3935 - acc: 0.862 - ETA: 5s - loss: 0.3933 - acc: 0.862 - ETA: 5s - loss: 0.3933 - acc: 0.862 - ETA: 5s - loss: 0.3934 - acc: 0.862 - ETA: 5s - loss: 0.3935 - acc: 0.862 - ETA: 5s - loss: 0.3936 - acc: 0.862 - ETA: 5s - loss: 0.3935 - acc: 0.862 - ETA: 5s - loss: 0.3937 - acc: 0.862 - ETA: 5s - loss: 0.3937 - acc: 0.862 - ETA: 4s - loss: 0.3932 - acc: 0.862 - ETA: 4s - loss: 0.3932 - acc: 0.862 - ETA: 4s - loss: 0.3930 - acc: 0.862 - ETA: 4s - loss: 0.3934 - acc: 0.862 - ETA: 4s - loss: 0.3932 - acc: 0.862 - ETA: 4s - loss: 0.3929 - acc: 0.862 - ETA: 4s - loss: 0.3929 - acc: 0.862 - ETA: 4s - loss: 0.3930 - acc: 0.862 - ETA: 4s - loss: 0.3934 - acc: 0.862 - ETA: 4s - loss: 0.3931 - acc: 0.862 - ETA: 4s - loss: 0.3929 - acc: 0.862 - ETA: 4s - loss: 0.3926 - acc: 0.862 - ETA: 4s - loss: 0.3926 - acc: 0.862 - ETA: 4s - loss: 0.3923 - acc: 0.862 - ETA: 4s - loss: 0.3924 - acc: 0.862 - ETA: 4s - loss: 0.3923 - acc: 0.862 - ETA: 4s - loss: 0.3926 - acc: 0.862 - ETA: 3s - loss: 0.3926 - acc: 0.862 - ETA: 3s - loss: 0.3925 - acc: 0.862 - ETA: 3s - loss: 0.3926 - acc: 0.862 - ETA: 3s - loss: 0.3924 - acc: 0.862 - ETA: 3s - loss: 0.3925 - acc: 0.862 - ETA: 3s - loss: 0.3924 - acc: 0.862 - ETA: 3s - loss: 0.3925 - acc: 0.862 - ETA: 3s - loss: 0.3926 - acc: 0.862 - ETA: 3s - loss: 0.3923 - acc: 0.862 - ETA: 3s - loss: 0.3922 - acc: 0.862 - ETA: 3s - loss: 0.3923 - acc: 0.862 - ETA: 3s - loss: 0.3924 - acc: 0.862 - ETA: 3s - loss: 0.3926 - acc: 0.862 - ETA: 3s - loss: 0.3927 - acc: 0.862 - ETA: 3s - loss: 0.3926 - acc: 0.862 - ETA: 3s - loss: 0.3922 - acc: 0.862 - ETA: 3s - loss: 0.3920 - acc: 0.862 - ETA: 3s - loss: 0.3919 - acc: 0.862 - ETA: 3s - loss: 0.3916 - acc: 0.862 - ETA: 2s - loss: 0.3914 - acc: 0.862 - ETA: 2s - loss: 0.3914 - acc: 0.862 - ETA: 2s - loss: 0.3915 - acc: 0.862 - ETA: 2s - loss: 0.3912 - acc: 0.862 - ETA: 2s - loss: 0.3913 - acc: 0.862 - ETA: 2s - loss: 0.3914 - acc: 0.862 - ETA: 2s - loss: 0.3911 - acc: 0.862 - ETA: 2s - loss: 0.3907 - acc: 0.862 - ETA: 2s - loss: 0.3909 - acc: 0.862 - ETA: 2s - loss: 0.3908 - acc: 0.862 - ETA: 2s - loss: 0.3907 - acc: 0.862 - ETA: 2s - loss: 0.3907 - acc: 0.863 - ETA: 2s - loss: 0.3907 - acc: 0.862 - ETA: 2s - loss: 0.3906 - acc: 0.863 - ETA: 2s - loss: 0.3906 - acc: 0.862 - ETA: 2s - loss: 0.3906 - acc: 0.862 - ETA: 2s - loss: 0.3905 - acc: 0.862 - ETA: 2s - loss: 0.3905 - acc: 0.862 - ETA: 1s - loss: 0.3901 - acc: 0.863 - ETA: 1s - loss: 0.3902 - acc: 0.862 - ETA: 1s - loss: 0.3901 - acc: 0.862 - ETA: 1s - loss: 0.3900 - acc: 0.862 - ETA: 1s - loss: 0.3897 - acc: 0.863 - ETA: 1s - loss: 0.3898 - acc: 0.862 - ETA: 1s - loss: 0.3898 - acc: 0.862 - ETA: 1s - loss: 0.3895 - acc: 0.863 - ETA: 1s - loss: 0.3893 - acc: 0.863 - ETA: 1s - loss: 0.3891 - acc: 0.863 - ETA: 1s - loss: 0.3892 - acc: 0.863 - ETA: 1s - loss: 0.3895 - acc: 0.863 - ETA: 1s - loss: 0.3895 - acc: 0.863 - ETA: 1s - loss: 0.3890 - acc: 0.863 - ETA: 1s - loss: 0.3888 - acc: 0.863 - ETA: 1s - loss: 0.3891 - acc: 0.863 - ETA: 1s - loss: 0.3890 - acc: 0.863 - ETA: 1s - loss: 0.3892 - acc: 0.863 - ETA: 0s - loss: 0.3890 - acc: 0.863 - ETA: 0s - loss: 0.3892 - acc: 0.863 - ETA: 0s - loss: 0.3893 - acc: 0.863 - ETA: 0s - loss: 0.3892 - acc: 0.863 - ETA: 0s - loss: 0.3891 - acc: 0.863 - ETA: 0s - loss: 0.3891 - acc: 0.863 - ETA: 0s - loss: 0.3889 - acc: 0.863 - ETA: 0s - loss: 0.3890 - acc: 0.863 - ETA: 0s - loss: 0.3889 - acc: 0.863 - ETA: 0s - loss: 0.3891 - acc: 0.863 - ETA: 0s - loss: 0.3893 - acc: 0.863 - ETA: 0s - loss: 0.3891 - acc: 0.863 - ETA: 0s - loss: 0.3891 - acc: 0.863 - ETA: 0s - loss: 0.3888 - acc: 0.863 - ETA: 0s - loss: 0.3885 - acc: 0.863 - ETA: 0s - loss: 0.3882 - acc: 0.863 - ETA: 0s - loss: 0.3883 - acc: 0.863 - 20s - loss: 0.3882 - acc: 0.8637 - val_loss: 0.3923 - val_acc: 0.8637\n"
     ]
    },
    {
     "data": {
      "application/vnd.jupyter.widget-view+json": {
       "model_id": "b8cde498a8be41729e33acaa104399e7",
       "version_major": 2,
       "version_minor": 0
      },
      "text/html": [
       "<p>Failed to display Jupyter Widget of type <code>HBox</code>.</p>\n",
       "<p>\n",
       "  If you're reading this message in Jupyter Notebook or JupyterLab, it may mean\n",
       "  that the widgets JavaScript is still loading. If this message persists, it\n",
       "  likely means that the widgets JavaScript library is either not installed or\n",
       "  not enabled. See the <a href=\"https://ipywidgets.readthedocs.io/en/stable/user_install.html\">Jupyter\n",
       "  Widgets Documentation</a> for setup instructions.\n",
       "</p>\n",
       "<p>\n",
       "  If you're reading this message in another notebook frontend (for example, a static\n",
       "  rendering on GitHub or <a href=\"https://nbviewer.jupyter.org/\">NBViewer</a>),\n",
       "  it may mean that your frontend doesn't currently support widgets.\n",
       "</p>\n"
      ],
      "text/plain": [
       "HBox(children=(IntProgress(value=0, description='Epoch 6', max=54000), HTML(value='')))"
      ]
     },
     "metadata": {},
     "output_type": "display_data"
    },
    {
     "name": "stdout",
     "output_type": "stream",
     "text": [
      "Epoch 7/10\n"
     ]
    },
    {
     "name": "stdout",
     "output_type": "stream",
     "text": [
      "29000/54000 [===============>..............] - ETA: 28s - loss: 0.2524 - acc: 0.95 - ETA: 24s - loss: 0.3944 - acc: 0.87 - ETA: 22s - loss: 0.3860 - acc: 0.88 - ETA: 22s - loss: 0.4044 - acc: 0.87 - ETA: 22s - loss: 0.3972 - acc: 0.87 - ETA: 23s - loss: 0.3934 - acc: 0.87 - ETA: 23s - loss: 0.3938 - acc: 0.87 - ETA: 23s - loss: 0.3894 - acc: 0.86 - ETA: 22s - loss: 0.3909 - acc: 0.86 - ETA: 22s - loss: 0.3729 - acc: 0.87 - ETA: 22s - loss: 0.3785 - acc: 0.87 - ETA: 22s - loss: 0.3840 - acc: 0.87 - ETA: 22s - loss: 0.3744 - acc: 0.87 - ETA: 21s - loss: 0.3712 - acc: 0.87 - ETA: 21s - loss: 0.3716 - acc: 0.87 - ETA: 21s - loss: 0.3739 - acc: 0.87 - ETA: 20s - loss: 0.3785 - acc: 0.87 - ETA: 20s - loss: 0.3798 - acc: 0.87 - ETA: 20s - loss: 0.3864 - acc: 0.87 - ETA: 19s - loss: 0.3837 - acc: 0.87 - ETA: 19s - loss: 0.3839 - acc: 0.86 - ETA: 19s - loss: 0.3832 - acc: 0.86 - ETA: 19s - loss: 0.3797 - acc: 0.87 - ETA: 19s - loss: 0.3802 - acc: 0.86 - ETA: 19s - loss: 0.3813 - acc: 0.86 - ETA: 18s - loss: 0.3844 - acc: 0.86 - ETA: 18s - loss: 0.3807 - acc: 0.86 - ETA: 18s - loss: 0.3809 - acc: 0.86 - ETA: 18s - loss: 0.3779 - acc: 0.86 - ETA: 18s - loss: 0.3757 - acc: 0.86 - ETA: 18s - loss: 0.3738 - acc: 0.86 - ETA: 18s - loss: 0.3749 - acc: 0.86 - ETA: 18s - loss: 0.3752 - acc: 0.86 - ETA: 18s - loss: 0.3741 - acc: 0.86 - ETA: 18s - loss: 0.3726 - acc: 0.86 - ETA: 18s - loss: 0.3722 - acc: 0.86 - ETA: 18s - loss: 0.3752 - acc: 0.86 - ETA: 18s - loss: 0.3748 - acc: 0.86 - ETA: 18s - loss: 0.3745 - acc: 0.86 - ETA: 17s - loss: 0.3785 - acc: 0.86 - ETA: 17s - loss: 0.3788 - acc: 0.86 - ETA: 17s - loss: 0.3763 - acc: 0.86 - ETA: 17s - loss: 0.3735 - acc: 0.86 - ETA: 17s - loss: 0.3736 - acc: 0.86 - ETA: 17s - loss: 0.3766 - acc: 0.86 - ETA: 17s - loss: 0.3769 - acc: 0.86 - ETA: 17s - loss: 0.3761 - acc: 0.86 - ETA: 17s - loss: 0.3767 - acc: 0.86 - ETA: 17s - loss: 0.3764 - acc: 0.86 - ETA: 17s - loss: 0.3781 - acc: 0.86 - ETA: 17s - loss: 0.3767 - acc: 0.86 - ETA: 17s - loss: 0.3760 - acc: 0.86 - ETA: 17s - loss: 0.3764 - acc: 0.86 - ETA: 17s - loss: 0.3760 - acc: 0.86 - ETA: 17s - loss: 0.3716 - acc: 0.86 - ETA: 17s - loss: 0.3693 - acc: 0.86 - ETA: 17s - loss: 0.3686 - acc: 0.86 - ETA: 17s - loss: 0.3702 - acc: 0.86 - ETA: 17s - loss: 0.3694 - acc: 0.86 - ETA: 17s - loss: 0.3723 - acc: 0.86 - ETA: 17s - loss: 0.3709 - acc: 0.86 - ETA: 17s - loss: 0.3706 - acc: 0.86 - ETA: 17s - loss: 0.3698 - acc: 0.86 - ETA: 17s - loss: 0.3713 - acc: 0.86 - ETA: 16s - loss: 0.3722 - acc: 0.86 - ETA: 16s - loss: 0.3737 - acc: 0.86 - ETA: 16s - loss: 0.3744 - acc: 0.86 - ETA: 16s - loss: 0.3758 - acc: 0.86 - ETA: 16s - loss: 0.3762 - acc: 0.86 - ETA: 16s - loss: 0.3752 - acc: 0.86 - ETA: 16s - loss: 0.3767 - acc: 0.86 - ETA: 16s - loss: 0.3774 - acc: 0.86 - ETA: 16s - loss: 0.3782 - acc: 0.86 - ETA: 16s - loss: 0.3781 - acc: 0.86 - ETA: 16s - loss: 0.3777 - acc: 0.86 - ETA: 16s - loss: 0.3782 - acc: 0.86 - ETA: 16s - loss: 0.3796 - acc: 0.86 - ETA: 16s - loss: 0.3791 - acc: 0.86 - ETA: 16s - loss: 0.3785 - acc: 0.86 - ETA: 16s - loss: 0.3778 - acc: 0.86 - ETA: 16s - loss: 0.3782 - acc: 0.86 - ETA: 16s - loss: 0.3780 - acc: 0.86 - ETA: 16s - loss: 0.3780 - acc: 0.86 - ETA: 16s - loss: 0.3794 - acc: 0.86 - ETA: 16s - loss: 0.3791 - acc: 0.86 - ETA: 16s - loss: 0.3783 - acc: 0.86 - ETA: 16s - loss: 0.3781 - acc: 0.86 - ETA: 16s - loss: 0.3802 - acc: 0.86 - ETA: 16s - loss: 0.3795 - acc: 0.86 - ETA: 16s - loss: 0.3800 - acc: 0.86 - ETA: 16s - loss: 0.3801 - acc: 0.86 - ETA: 16s - loss: 0.3796 - acc: 0.86 - ETA: 16s - loss: 0.3811 - acc: 0.86 - ETA: 16s - loss: 0.3831 - acc: 0.86 - ETA: 16s - loss: 0.3831 - acc: 0.86 - ETA: 16s - loss: 0.3826 - acc: 0.86 - ETA: 16s - loss: 0.3820 - acc: 0.86 - ETA: 16s - loss: 0.3812 - acc: 0.86 - ETA: 16s - loss: 0.3818 - acc: 0.86 - ETA: 16s - loss: 0.3813 - acc: 0.86 - ETA: 16s - loss: 0.3815 - acc: 0.86 - ETA: 16s - loss: 0.3812 - acc: 0.86 - ETA: 16s - loss: 0.3812 - acc: 0.86 - ETA: 16s - loss: 0.3811 - acc: 0.86 - ETA: 16s - loss: 0.3808 - acc: 0.86 - ETA: 16s - loss: 0.3809 - acc: 0.86 - ETA: 16s - loss: 0.3812 - acc: 0.86 - ETA: 16s - loss: 0.3814 - acc: 0.86 - ETA: 16s - loss: 0.3806 - acc: 0.86 - ETA: 16s - loss: 0.3804 - acc: 0.86 - ETA: 16s - loss: 0.3807 - acc: 0.86 - ETA: 15s - loss: 0.3804 - acc: 0.86 - ETA: 15s - loss: 0.3810 - acc: 0.86 - ETA: 15s - loss: 0.3813 - acc: 0.86 - ETA: 15s - loss: 0.3814 - acc: 0.86 - ETA: 15s - loss: 0.3807 - acc: 0.86 - ETA: 15s - loss: 0.3803 - acc: 0.86 - ETA: 15s - loss: 0.3794 - acc: 0.86 - ETA: 15s - loss: 0.3781 - acc: 0.86 - ETA: 15s - loss: 0.3779 - acc: 0.86 - ETA: 15s - loss: 0.3778 - acc: 0.86 - ETA: 15s - loss: 0.3775 - acc: 0.86 - ETA: 15s - loss: 0.3769 - acc: 0.86 - ETA: 15s - loss: 0.3773 - acc: 0.86 - ETA: 15s - loss: 0.3774 - acc: 0.86 - ETA: 15s - loss: 0.3776 - acc: 0.86 - ETA: 15s - loss: 0.3782 - acc: 0.86 - ETA: 15s - loss: 0.3777 - acc: 0.86 - ETA: 15s - loss: 0.3769 - acc: 0.86 - ETA: 15s - loss: 0.3760 - acc: 0.86 - ETA: 15s - loss: 0.3761 - acc: 0.86 - ETA: 15s - loss: 0.3749 - acc: 0.86 - ETA: 15s - loss: 0.3745 - acc: 0.86 - ETA: 15s - loss: 0.3738 - acc: 0.86 - ETA: 15s - loss: 0.3737 - acc: 0.86 - ETA: 14s - loss: 0.3738 - acc: 0.86 - ETA: 14s - loss: 0.3731 - acc: 0.86 - ETA: 14s - loss: 0.3732 - acc: 0.86 - ETA: 14s - loss: 0.3726 - acc: 0.86 - ETA: 14s - loss: 0.3729 - acc: 0.86 - ETA: 14s - loss: 0.3729 - acc: 0.86 - ETA: 14s - loss: 0.3727 - acc: 0.86 - ETA: 14s - loss: 0.3728 - acc: 0.86 - ETA: 14s - loss: 0.3719 - acc: 0.86 - ETA: 14s - loss: 0.3720 - acc: 0.86 - ETA: 14s - loss: 0.3726 - acc: 0.86 - ETA: 14s - loss: 0.3720 - acc: 0.86 - ETA: 14s - loss: 0.3721 - acc: 0.86 - ETA: 14s - loss: 0.3716 - acc: 0.86 - ETA: 14s - loss: 0.3724 - acc: 0.86 - ETA: 14s - loss: 0.3722 - acc: 0.86 - ETA: 14s - loss: 0.3722 - acc: 0.86 - ETA: 14s - loss: 0.3724 - acc: 0.86 - ETA: 13s - loss: 0.3730 - acc: 0.86 - ETA: 13s - loss: 0.3727 - acc: 0.86 - ETA: 13s - loss: 0.3732 - acc: 0.86 - ETA: 13s - loss: 0.3729 - acc: 0.86 - ETA: 13s - loss: 0.3730 - acc: 0.86 - ETA: 13s - loss: 0.3729 - acc: 0.86 - ETA: 13s - loss: 0.3724 - acc: 0.86 - ETA: 13s - loss: 0.3723 - acc: 0.86 - ETA: 13s - loss: 0.3717 - acc: 0.86 - ETA: 13s - loss: 0.3711 - acc: 0.86 - ETA: 13s - loss: 0.3709 - acc: 0.86 - ETA: 13s - loss: 0.3704 - acc: 0.86 - ETA: 13s - loss: 0.3706 - acc: 0.86 - ETA: 13s - loss: 0.3705 - acc: 0.86 - ETA: 13s - loss: 0.3703 - acc: 0.86 - ETA: 13s - loss: 0.3704 - acc: 0.86 - ETA: 13s - loss: 0.3699 - acc: 0.86 - ETA: 13s - loss: 0.3697 - acc: 0.86 - ETA: 13s - loss: 0.3697 - acc: 0.86 - ETA: 13s - loss: 0.3699 - acc: 0.86 - ETA: 13s - loss: 0.3701 - acc: 0.86 - ETA: 12s - loss: 0.3701 - acc: 0.86 - ETA: 12s - loss: 0.3699 - acc: 0.86 - ETA: 12s - loss: 0.3700 - acc: 0.86 - ETA: 12s - loss: 0.3704 - acc: 0.86 - ETA: 12s - loss: 0.3702 - acc: 0.86 - ETA: 12s - loss: 0.3704 - acc: 0.86 - ETA: 12s - loss: 0.3701 - acc: 0.86 - ETA: 12s - loss: 0.3703 - acc: 0.86 - ETA: 12s - loss: 0.3702 - acc: 0.86 - ETA: 12s - loss: 0.3702 - acc: 0.86 - ETA: 12s - loss: 0.3706 - acc: 0.86 - ETA: 12s - loss: 0.3711 - acc: 0.86 - ETA: 12s - loss: 0.3718 - acc: 0.86 - ETA: 12s - loss: 0.3715 - acc: 0.86 - ETA: 12s - loss: 0.3720 - acc: 0.86 - ETA: 12s - loss: 0.3718 - acc: 0.86 - ETA: 11s - loss: 0.3718 - acc: 0.86 - ETA: 11s - loss: 0.3719 - acc: 0.86 - ETA: 11s - loss: 0.3721 - acc: 0.86 - ETA: 11s - loss: 0.3724 - acc: 0.86 - ETA: 11s - loss: 0.3724 - acc: 0.86 - ETA: 11s - loss: 0.3724 - acc: 0.86 - ETA: 11s - loss: 0.3722 - acc: 0.86 - ETA: 11s - loss: 0.3727 - acc: 0.86 - ETA: 11s - loss: 0.3720 - acc: 0.86 - ETA: 11s - loss: 0.3720 - acc: 0.86 - ETA: 11s - loss: 0.3719 - acc: 0.86 - ETA: 11s - loss: 0.3721 - acc: 0.86 - ETA: 11s - loss: 0.3722 - acc: 0.86 - ETA: 11s - loss: 0.3720 - acc: 0.86 - ETA: 11s - loss: 0.3719 - acc: 0.86 - ETA: 11s - loss: 0.3715 - acc: 0.86 - ETA: 10s - loss: 0.3720 - acc: 0.86 - ETA: 10s - loss: 0.3727 - acc: 0.86 - ETA: 10s - loss: 0.3729 - acc: 0.86 - ETA: 10s - loss: 0.3726 - acc: 0.86 - ETA: 10s - loss: 0.3726 - acc: 0.86 - ETA: 10s - loss: 0.3723 - acc: 0.86 - ETA: 10s - loss: 0.3720 - acc: 0.86 - ETA: 10s - loss: 0.3722 - acc: 0.86 - ETA: 10s - loss: 0.3724 - acc: 0.8683\b\b\b\b\b\b\b\b\b\b\b\b\b\b\b\b\b\b\b\b\b\b\b\b\b\b\b\b\b\b\b\b\b\b\b\b\b\b\b\b\b\b\b\b\b\b\b\b\b\b\b\b\b\b\b\b\b\b\b\b\b\b\b\b\b\b\b\b\b\b\b\b\b\b\b\b\b\b\b\b\b\b\b\b"
     ]
    },
    {
     "name": "stdout",
     "output_type": "stream",
     "text": [
      "54000/54000 [==============================] - ETA: 10s - loss: 0.3720 - acc: 0.86 - ETA: 10s - loss: 0.3725 - acc: 0.86 - ETA: 10s - loss: 0.3725 - acc: 0.86 - ETA: 10s - loss: 0.3730 - acc: 0.86 - ETA: 10s - loss: 0.3728 - acc: 0.86 - ETA: 10s - loss: 0.3723 - acc: 0.86 - ETA: 9s - loss: 0.3729 - acc: 0.8681 - ETA: 9s - loss: 0.3731 - acc: 0.868 - ETA: 9s - loss: 0.3733 - acc: 0.868 - ETA: 9s - loss: 0.3731 - acc: 0.868 - ETA: 9s - loss: 0.3733 - acc: 0.868 - ETA: 9s - loss: 0.3731 - acc: 0.868 - ETA: 9s - loss: 0.3734 - acc: 0.868 - ETA: 9s - loss: 0.3734 - acc: 0.868 - ETA: 9s - loss: 0.3732 - acc: 0.868 - ETA: 9s - loss: 0.3736 - acc: 0.868 - ETA: 9s - loss: 0.3739 - acc: 0.867 - ETA: 9s - loss: 0.3740 - acc: 0.867 - ETA: 9s - loss: 0.3745 - acc: 0.867 - ETA: 9s - loss: 0.3744 - acc: 0.867 - ETA: 9s - loss: 0.3750 - acc: 0.867 - ETA: 9s - loss: 0.3749 - acc: 0.867 - ETA: 9s - loss: 0.3747 - acc: 0.867 - ETA: 9s - loss: 0.3748 - acc: 0.867 - ETA: 8s - loss: 0.3748 - acc: 0.867 - ETA: 8s - loss: 0.3746 - acc: 0.867 - ETA: 8s - loss: 0.3748 - acc: 0.867 - ETA: 8s - loss: 0.3749 - acc: 0.867 - ETA: 8s - loss: 0.3748 - acc: 0.867 - ETA: 8s - loss: 0.3746 - acc: 0.867 - ETA: 8s - loss: 0.3744 - acc: 0.868 - ETA: 8s - loss: 0.3745 - acc: 0.868 - ETA: 8s - loss: 0.3744 - acc: 0.868 - ETA: 8s - loss: 0.3744 - acc: 0.868 - ETA: 8s - loss: 0.3747 - acc: 0.867 - ETA: 8s - loss: 0.3746 - acc: 0.867 - ETA: 8s - loss: 0.3744 - acc: 0.868 - ETA: 8s - loss: 0.3741 - acc: 0.868 - ETA: 8s - loss: 0.3738 - acc: 0.868 - ETA: 8s - loss: 0.3738 - acc: 0.868 - ETA: 8s - loss: 0.3743 - acc: 0.868 - ETA: 8s - loss: 0.3742 - acc: 0.868 - ETA: 8s - loss: 0.3746 - acc: 0.868 - ETA: 8s - loss: 0.3746 - acc: 0.867 - ETA: 7s - loss: 0.3748 - acc: 0.867 - ETA: 7s - loss: 0.3745 - acc: 0.867 - ETA: 7s - loss: 0.3747 - acc: 0.867 - ETA: 7s - loss: 0.3745 - acc: 0.868 - ETA: 7s - loss: 0.3745 - acc: 0.867 - ETA: 7s - loss: 0.3746 - acc: 0.867 - ETA: 7s - loss: 0.3746 - acc: 0.867 - ETA: 7s - loss: 0.3747 - acc: 0.867 - ETA: 7s - loss: 0.3747 - acc: 0.868 - ETA: 7s - loss: 0.3744 - acc: 0.868 - ETA: 7s - loss: 0.3744 - acc: 0.868 - ETA: 7s - loss: 0.3742 - acc: 0.868 - ETA: 7s - loss: 0.3739 - acc: 0.868 - ETA: 7s - loss: 0.3743 - acc: 0.868 - ETA: 7s - loss: 0.3747 - acc: 0.868 - ETA: 7s - loss: 0.3746 - acc: 0.868 - ETA: 6s - loss: 0.3746 - acc: 0.868 - ETA: 6s - loss: 0.3746 - acc: 0.868 - ETA: 6s - loss: 0.3744 - acc: 0.868 - ETA: 6s - loss: 0.3745 - acc: 0.868 - ETA: 6s - loss: 0.3747 - acc: 0.868 - ETA: 6s - loss: 0.3752 - acc: 0.867 - ETA: 6s - loss: 0.3760 - acc: 0.867 - ETA: 6s - loss: 0.3761 - acc: 0.867 - ETA: 6s - loss: 0.3759 - acc: 0.867 - ETA: 6s - loss: 0.3760 - acc: 0.867 - ETA: 6s - loss: 0.3756 - acc: 0.867 - ETA: 6s - loss: 0.3756 - acc: 0.867 - ETA: 6s - loss: 0.3758 - acc: 0.867 - ETA: 6s - loss: 0.3758 - acc: 0.867 - ETA: 6s - loss: 0.3758 - acc: 0.867 - ETA: 6s - loss: 0.3757 - acc: 0.867 - ETA: 6s - loss: 0.3758 - acc: 0.867 - ETA: 5s - loss: 0.3754 - acc: 0.867 - ETA: 5s - loss: 0.3754 - acc: 0.868 - ETA: 5s - loss: 0.3751 - acc: 0.868 - ETA: 5s - loss: 0.3754 - acc: 0.868 - ETA: 5s - loss: 0.3754 - acc: 0.868 - ETA: 5s - loss: 0.3755 - acc: 0.867 - ETA: 5s - loss: 0.3757 - acc: 0.867 - ETA: 5s - loss: 0.3756 - acc: 0.867 - ETA: 5s - loss: 0.3752 - acc: 0.868 - ETA: 5s - loss: 0.3749 - acc: 0.868 - ETA: 5s - loss: 0.3749 - acc: 0.868 - ETA: 5s - loss: 0.3747 - acc: 0.868 - ETA: 5s - loss: 0.3744 - acc: 0.868 - ETA: 5s - loss: 0.3743 - acc: 0.868 - ETA: 5s - loss: 0.3741 - acc: 0.868 - ETA: 5s - loss: 0.3740 - acc: 0.868 - ETA: 4s - loss: 0.3741 - acc: 0.868 - ETA: 4s - loss: 0.3740 - acc: 0.868 - ETA: 4s - loss: 0.3742 - acc: 0.868 - ETA: 4s - loss: 0.3745 - acc: 0.868 - ETA: 4s - loss: 0.3744 - acc: 0.868 - ETA: 4s - loss: 0.3744 - acc: 0.868 - ETA: 4s - loss: 0.3745 - acc: 0.868 - ETA: 4s - loss: 0.3744 - acc: 0.868 - ETA: 4s - loss: 0.3749 - acc: 0.868 - ETA: 4s - loss: 0.3751 - acc: 0.868 - ETA: 4s - loss: 0.3751 - acc: 0.868 - ETA: 4s - loss: 0.3751 - acc: 0.868 - ETA: 4s - loss: 0.3752 - acc: 0.868 - ETA: 4s - loss: 0.3753 - acc: 0.868 - ETA: 4s - loss: 0.3753 - acc: 0.868 - ETA: 3s - loss: 0.3754 - acc: 0.868 - ETA: 3s - loss: 0.3754 - acc: 0.868 - ETA: 3s - loss: 0.3754 - acc: 0.868 - ETA: 3s - loss: 0.3751 - acc: 0.868 - ETA: 3s - loss: 0.3749 - acc: 0.868 - ETA: 3s - loss: 0.3751 - acc: 0.868 - ETA: 3s - loss: 0.3749 - acc: 0.868 - ETA: 3s - loss: 0.3750 - acc: 0.868 - ETA: 3s - loss: 0.3749 - acc: 0.868 - ETA: 3s - loss: 0.3749 - acc: 0.868 - ETA: 3s - loss: 0.3749 - acc: 0.868 - ETA: 3s - loss: 0.3748 - acc: 0.868 - ETA: 3s - loss: 0.3747 - acc: 0.868 - ETA: 3s - loss: 0.3747 - acc: 0.868 - ETA: 3s - loss: 0.3743 - acc: 0.868 - ETA: 3s - loss: 0.3743 - acc: 0.868 - ETA: 2s - loss: 0.3744 - acc: 0.868 - ETA: 2s - loss: 0.3746 - acc: 0.868 - ETA: 2s - loss: 0.3744 - acc: 0.868 - ETA: 2s - loss: 0.3744 - acc: 0.868 - ETA: 2s - loss: 0.3742 - acc: 0.868 - ETA: 2s - loss: 0.3742 - acc: 0.868 - ETA: 2s - loss: 0.3741 - acc: 0.868 - ETA: 2s - loss: 0.3739 - acc: 0.869 - ETA: 2s - loss: 0.3739 - acc: 0.869 - ETA: 2s - loss: 0.3740 - acc: 0.869 - ETA: 2s - loss: 0.3740 - acc: 0.869 - ETA: 2s - loss: 0.3738 - acc: 0.869 - ETA: 2s - loss: 0.3741 - acc: 0.868 - ETA: 2s - loss: 0.3738 - acc: 0.868 - ETA: 2s - loss: 0.3738 - acc: 0.868 - ETA: 2s - loss: 0.3740 - acc: 0.868 - ETA: 1s - loss: 0.3739 - acc: 0.868 - ETA: 1s - loss: 0.3743 - acc: 0.868 - ETA: 1s - loss: 0.3745 - acc: 0.868 - ETA: 1s - loss: 0.3748 - acc: 0.868 - ETA: 1s - loss: 0.3744 - acc: 0.868 - ETA: 1s - loss: 0.3746 - acc: 0.868 - ETA: 1s - loss: 0.3745 - acc: 0.868 - ETA: 1s - loss: 0.3746 - acc: 0.868 - ETA: 1s - loss: 0.3747 - acc: 0.868 - ETA: 1s - loss: 0.3745 - acc: 0.868 - ETA: 1s - loss: 0.3747 - acc: 0.868 - ETA: 1s - loss: 0.3746 - acc: 0.868 - ETA: 1s - loss: 0.3749 - acc: 0.868 - ETA: 1s - loss: 0.3748 - acc: 0.868 - ETA: 1s - loss: 0.3749 - acc: 0.868 - ETA: 0s - loss: 0.3749 - acc: 0.868 - ETA: 0s - loss: 0.3750 - acc: 0.868 - ETA: 0s - loss: 0.3749 - acc: 0.868 - ETA: 0s - loss: 0.3752 - acc: 0.868 - ETA: 0s - loss: 0.3750 - acc: 0.868 - ETA: 0s - loss: 0.3751 - acc: 0.868 - ETA: 0s - loss: 0.3750 - acc: 0.868 - ETA: 0s - loss: 0.3751 - acc: 0.868 - ETA: 0s - loss: 0.3749 - acc: 0.868 - ETA: 0s - loss: 0.3752 - acc: 0.868 - ETA: 0s - loss: 0.3751 - acc: 0.868 - ETA: 0s - loss: 0.3753 - acc: 0.868 - ETA: 0s - loss: 0.3752 - acc: 0.868 - ETA: 0s - loss: 0.3751 - acc: 0.868 - ETA: 0s - loss: 0.3749 - acc: 0.868 - 22s - loss: 0.3748 - acc: 0.8688 - val_loss: 0.3840 - val_acc: 0.8645\n"
     ]
    },
    {
     "data": {
      "application/vnd.jupyter.widget-view+json": {
       "model_id": "7109c5f3428d493e86678abf00cf839a",
       "version_major": 2,
       "version_minor": 0
      },
      "text/html": [
       "<p>Failed to display Jupyter Widget of type <code>HBox</code>.</p>\n",
       "<p>\n",
       "  If you're reading this message in Jupyter Notebook or JupyterLab, it may mean\n",
       "  that the widgets JavaScript is still loading. If this message persists, it\n",
       "  likely means that the widgets JavaScript library is either not installed or\n",
       "  not enabled. See the <a href=\"https://ipywidgets.readthedocs.io/en/stable/user_install.html\">Jupyter\n",
       "  Widgets Documentation</a> for setup instructions.\n",
       "</p>\n",
       "<p>\n",
       "  If you're reading this message in another notebook frontend (for example, a static\n",
       "  rendering on GitHub or <a href=\"https://nbviewer.jupyter.org/\">NBViewer</a>),\n",
       "  it may mean that your frontend doesn't currently support widgets.\n",
       "</p>\n"
      ],
      "text/plain": [
       "HBox(children=(IntProgress(value=0, description='Epoch 7', max=54000), HTML(value='')))"
      ]
     },
     "metadata": {},
     "output_type": "display_data"
    },
    {
     "name": "stdout",
     "output_type": "stream",
     "text": [
      "Epoch 8/10\n"
     ]
    },
    {
     "name": "stdout",
     "output_type": "stream",
     "text": [
      "34720/54000 [==================>...........] - ETA: 21s - loss: 0.4092 - acc: 0.82 - ETA: 16s - loss: 0.3329 - acc: 0.88 - ETA: 16s - loss: 0.3293 - acc: 0.87 - ETA: 16s - loss: 0.3579 - acc: 0.86 - ETA: 16s - loss: 0.3813 - acc: 0.85 - ETA: 17s - loss: 0.3900 - acc: 0.86 - ETA: 17s - loss: 0.3859 - acc: 0.86 - ETA: 17s - loss: 0.3980 - acc: 0.85 - ETA: 17s - loss: 0.3925 - acc: 0.85 - ETA: 17s - loss: 0.3837 - acc: 0.85 - ETA: 16s - loss: 0.3737 - acc: 0.86 - ETA: 17s - loss: 0.3815 - acc: 0.86 - ETA: 17s - loss: 0.3795 - acc: 0.86 - ETA: 17s - loss: 0.3799 - acc: 0.86 - ETA: 17s - loss: 0.3728 - acc: 0.86 - ETA: 16s - loss: 0.3724 - acc: 0.86 - ETA: 16s - loss: 0.3703 - acc: 0.86 - ETA: 16s - loss: 0.3650 - acc: 0.87 - ETA: 16s - loss: 0.3625 - acc: 0.87 - ETA: 16s - loss: 0.3638 - acc: 0.87 - ETA: 16s - loss: 0.3645 - acc: 0.86 - ETA: 16s - loss: 0.3648 - acc: 0.86 - ETA: 16s - loss: 0.3641 - acc: 0.86 - ETA: 16s - loss: 0.3618 - acc: 0.87 - ETA: 16s - loss: 0.3626 - acc: 0.87 - ETA: 16s - loss: 0.3639 - acc: 0.87 - ETA: 16s - loss: 0.3616 - acc: 0.87 - ETA: 16s - loss: 0.3588 - acc: 0.87 - ETA: 16s - loss: 0.3588 - acc: 0.87 - ETA: 16s - loss: 0.3569 - acc: 0.87 - ETA: 16s - loss: 0.3620 - acc: 0.87 - ETA: 16s - loss: 0.3603 - acc: 0.87 - ETA: 16s - loss: 0.3611 - acc: 0.87 - ETA: 16s - loss: 0.3610 - acc: 0.87 - ETA: 16s - loss: 0.3663 - acc: 0.87 - ETA: 16s - loss: 0.3644 - acc: 0.87 - ETA: 15s - loss: 0.3630 - acc: 0.87 - ETA: 15s - loss: 0.3633 - acc: 0.87 - ETA: 15s - loss: 0.3645 - acc: 0.87 - ETA: 15s - loss: 0.3628 - acc: 0.87 - ETA: 15s - loss: 0.3625 - acc: 0.87 - ETA: 15s - loss: 0.3632 - acc: 0.87 - ETA: 15s - loss: 0.3623 - acc: 0.87 - ETA: 15s - loss: 0.3619 - acc: 0.87 - ETA: 15s - loss: 0.3617 - acc: 0.87 - ETA: 15s - loss: 0.3612 - acc: 0.87 - ETA: 15s - loss: 0.3610 - acc: 0.87 - ETA: 15s - loss: 0.3608 - acc: 0.87 - ETA: 15s - loss: 0.3584 - acc: 0.87 - ETA: 15s - loss: 0.3590 - acc: 0.87 - ETA: 15s - loss: 0.3612 - acc: 0.87 - ETA: 15s - loss: 0.3607 - acc: 0.87 - ETA: 15s - loss: 0.3592 - acc: 0.87 - ETA: 15s - loss: 0.3587 - acc: 0.87 - ETA: 14s - loss: 0.3591 - acc: 0.87 - ETA: 14s - loss: 0.3598 - acc: 0.87 - ETA: 14s - loss: 0.3620 - acc: 0.87 - ETA: 14s - loss: 0.3639 - acc: 0.87 - ETA: 14s - loss: 0.3633 - acc: 0.87 - ETA: 14s - loss: 0.3632 - acc: 0.87 - ETA: 14s - loss: 0.3618 - acc: 0.87 - ETA: 14s - loss: 0.3617 - acc: 0.87 - ETA: 14s - loss: 0.3619 - acc: 0.87 - ETA: 14s - loss: 0.3625 - acc: 0.87 - ETA: 14s - loss: 0.3612 - acc: 0.87 - ETA: 14s - loss: 0.3601 - acc: 0.87 - ETA: 14s - loss: 0.3595 - acc: 0.87 - ETA: 14s - loss: 0.3595 - acc: 0.87 - ETA: 14s - loss: 0.3613 - acc: 0.87 - ETA: 14s - loss: 0.3610 - acc: 0.87 - ETA: 14s - loss: 0.3603 - acc: 0.87 - ETA: 14s - loss: 0.3610 - acc: 0.87 - ETA: 14s - loss: 0.3609 - acc: 0.87 - ETA: 14s - loss: 0.3609 - acc: 0.87 - ETA: 14s - loss: 0.3628 - acc: 0.87 - ETA: 14s - loss: 0.3627 - acc: 0.87 - ETA: 13s - loss: 0.3637 - acc: 0.87 - ETA: 13s - loss: 0.3627 - acc: 0.87 - ETA: 13s - loss: 0.3616 - acc: 0.87 - ETA: 13s - loss: 0.3611 - acc: 0.87 - ETA: 13s - loss: 0.3620 - acc: 0.87 - ETA: 13s - loss: 0.3622 - acc: 0.87 - ETA: 13s - loss: 0.3626 - acc: 0.87 - ETA: 13s - loss: 0.3626 - acc: 0.87 - ETA: 13s - loss: 0.3624 - acc: 0.87 - ETA: 13s - loss: 0.3618 - acc: 0.87 - ETA: 13s - loss: 0.3620 - acc: 0.87 - ETA: 13s - loss: 0.3610 - acc: 0.87 - ETA: 13s - loss: 0.3611 - acc: 0.87 - ETA: 13s - loss: 0.3607 - acc: 0.87 - ETA: 13s - loss: 0.3613 - acc: 0.87 - ETA: 13s - loss: 0.3632 - acc: 0.87 - ETA: 13s - loss: 0.3624 - acc: 0.87 - ETA: 13s - loss: 0.3613 - acc: 0.87 - ETA: 13s - loss: 0.3608 - acc: 0.87 - ETA: 12s - loss: 0.3605 - acc: 0.87 - ETA: 12s - loss: 0.3593 - acc: 0.87 - ETA: 12s - loss: 0.3586 - acc: 0.87 - ETA: 12s - loss: 0.3578 - acc: 0.87 - ETA: 12s - loss: 0.3570 - acc: 0.87 - ETA: 12s - loss: 0.3581 - acc: 0.87 - ETA: 12s - loss: 0.3593 - acc: 0.87 - ETA: 12s - loss: 0.3599 - acc: 0.87 - ETA: 12s - loss: 0.3599 - acc: 0.87 - ETA: 12s - loss: 0.3597 - acc: 0.87 - ETA: 12s - loss: 0.3598 - acc: 0.87 - ETA: 12s - loss: 0.3599 - acc: 0.87 - ETA: 12s - loss: 0.3602 - acc: 0.87 - ETA: 12s - loss: 0.3597 - acc: 0.87 - ETA: 12s - loss: 0.3598 - acc: 0.87 - ETA: 12s - loss: 0.3598 - acc: 0.87 - ETA: 12s - loss: 0.3603 - acc: 0.87 - ETA: 12s - loss: 0.3607 - acc: 0.87 - ETA: 11s - loss: 0.3608 - acc: 0.87 - ETA: 11s - loss: 0.3603 - acc: 0.87 - ETA: 11s - loss: 0.3595 - acc: 0.87 - ETA: 11s - loss: 0.3595 - acc: 0.87 - ETA: 11s - loss: 0.3597 - acc: 0.87 - ETA: 11s - loss: 0.3597 - acc: 0.87 - ETA: 11s - loss: 0.3604 - acc: 0.87 - ETA: 11s - loss: 0.3606 - acc: 0.87 - ETA: 11s - loss: 0.3601 - acc: 0.87 - ETA: 11s - loss: 0.3596 - acc: 0.87 - ETA: 11s - loss: 0.3596 - acc: 0.87 - ETA: 11s - loss: 0.3600 - acc: 0.87 - ETA: 11s - loss: 0.3602 - acc: 0.87 - ETA: 11s - loss: 0.3598 - acc: 0.87 - ETA: 11s - loss: 0.3599 - acc: 0.87 - ETA: 11s - loss: 0.3601 - acc: 0.87 - ETA: 11s - loss: 0.3603 - acc: 0.87 - ETA: 11s - loss: 0.3605 - acc: 0.87 - ETA: 11s - loss: 0.3604 - acc: 0.87 - ETA: 11s - loss: 0.3603 - acc: 0.87 - ETA: 11s - loss: 0.3600 - acc: 0.87 - ETA: 11s - loss: 0.3597 - acc: 0.87 - ETA: 10s - loss: 0.3594 - acc: 0.87 - ETA: 10s - loss: 0.3594 - acc: 0.87 - ETA: 10s - loss: 0.3591 - acc: 0.87 - ETA: 10s - loss: 0.3586 - acc: 0.87 - ETA: 10s - loss: 0.3585 - acc: 0.87 - ETA: 10s - loss: 0.3585 - acc: 0.87 - ETA: 10s - loss: 0.3582 - acc: 0.87 - ETA: 10s - loss: 0.3575 - acc: 0.87 - ETA: 10s - loss: 0.3581 - acc: 0.87 - ETA: 10s - loss: 0.3579 - acc: 0.87 - ETA: 10s - loss: 0.3576 - acc: 0.87 - ETA: 10s - loss: 0.3574 - acc: 0.87 - ETA: 10s - loss: 0.3574 - acc: 0.87 - ETA: 10s - loss: 0.3578 - acc: 0.87 - ETA: 10s - loss: 0.3575 - acc: 0.87 - ETA: 10s - loss: 0.3574 - acc: 0.87 - ETA: 9s - loss: 0.3575 - acc: 0.8747 - ETA: 9s - loss: 0.3577 - acc: 0.874 - ETA: 9s - loss: 0.3575 - acc: 0.874 - ETA: 9s - loss: 0.3574 - acc: 0.874 - ETA: 9s - loss: 0.3580 - acc: 0.874 - ETA: 9s - loss: 0.3577 - acc: 0.874 - ETA: 9s - loss: 0.3579 - acc: 0.874 - ETA: 9s - loss: 0.3580 - acc: 0.874 - ETA: 9s - loss: 0.3579 - acc: 0.874 - ETA: 9s - loss: 0.3582 - acc: 0.874 - ETA: 9s - loss: 0.3580 - acc: 0.874 - ETA: 9s - loss: 0.3578 - acc: 0.874 - ETA: 9s - loss: 0.3584 - acc: 0.874 - ETA: 9s - loss: 0.3585 - acc: 0.874 - ETA: 9s - loss: 0.3586 - acc: 0.874 - ETA: 9s - loss: 0.3581 - acc: 0.874 - ETA: 9s - loss: 0.3581 - acc: 0.875 - ETA: 9s - loss: 0.3579 - acc: 0.875 - ETA: 9s - loss: 0.3578 - acc: 0.875 - ETA: 9s - loss: 0.3582 - acc: 0.874 - ETA: 8s - loss: 0.3592 - acc: 0.874 - ETA: 8s - loss: 0.3591 - acc: 0.874 - ETA: 8s - loss: 0.3592 - acc: 0.874 - ETA: 8s - loss: 0.3587 - acc: 0.875 - ETA: 8s - loss: 0.3588 - acc: 0.875 - ETA: 8s - loss: 0.3588 - acc: 0.875 - ETA: 8s - loss: 0.3592 - acc: 0.874 - ETA: 8s - loss: 0.3591 - acc: 0.874 - ETA: 8s - loss: 0.3595 - acc: 0.874 - ETA: 8s - loss: 0.3596 - acc: 0.874 - ETA: 8s - loss: 0.3598 - acc: 0.874 - ETA: 8s - loss: 0.3595 - acc: 0.874 - ETA: 8s - loss: 0.3596 - acc: 0.874 - ETA: 8s - loss: 0.3601 - acc: 0.874 - ETA: 8s - loss: 0.3605 - acc: 0.874 - ETA: 8s - loss: 0.3608 - acc: 0.874 - ETA: 8s - loss: 0.3604 - acc: 0.874 - ETA: 8s - loss: 0.3603 - acc: 0.874 - ETA: 7s - loss: 0.3600 - acc: 0.874 - ETA: 7s - loss: 0.3598 - acc: 0.874 - ETA: 7s - loss: 0.3602 - acc: 0.874 - ETA: 7s - loss: 0.3601 - acc: 0.874 - ETA: 7s - loss: 0.3601 - acc: 0.874 - ETA: 7s - loss: 0.3602 - acc: 0.874 - ETA: 7s - loss: 0.3602 - acc: 0.874 - ETA: 7s - loss: 0.3603 - acc: 0.874 - ETA: 7s - loss: 0.3604 - acc: 0.874 - ETA: 7s - loss: 0.3606 - acc: 0.874 - ETA: 7s - loss: 0.3607 - acc: 0.874 - ETA: 7s - loss: 0.3604 - acc: 0.874 - ETA: 7s - loss: 0.3602 - acc: 0.874 - ETA: 7s - loss: 0.3602 - acc: 0.874 - ETA: 7s - loss: 0.3601 - acc: 0.874 - ETA: 7s - loss: 0.3599 - acc: 0.874 - ETA: 7s - loss: 0.3599 - acc: 0.874 - ETA: 7s - loss: 0.3600 - acc: 0.874 - ETA: 6s - loss: 0.3597 - acc: 0.874 - ETA: 6s - loss: 0.3602 - acc: 0.874 - ETA: 6s - loss: 0.3601 - acc: 0.874 - ETA: 6s - loss: 0.3600 - acc: 0.874 - ETA: 6s - loss: 0.3601 - acc: 0.874 - ETA: 6s - loss: 0.3603 - acc: 0.874 - ETA: 6s - loss: 0.3600 - acc: 0.874 - ETA: 6s - loss: 0.3599 - acc: 0.8746\b\b\b\b\b\b\b\b\b\b\b\b\b\b\b\b\b\b\b\b\b\b\b\b\b\b\b\b\b\b\b\b\b\b\b\b\b\b\b\b\b\b\b\b\b\b\b\b\b\b\b\b\b\b\b\b\b\b\b\b\b\b\b\b\b\b\b\b\b\b\b\b\b\b\b\b\b\b\b\b\b\b\b"
     ]
    },
    {
     "name": "stdout",
     "output_type": "stream",
     "text": [
      "54000/54000 [==============================] - ETA: 6s - loss: 0.3597 - acc: 0.874 - ETA: 6s - loss: 0.3598 - acc: 0.874 - ETA: 6s - loss: 0.3596 - acc: 0.874 - ETA: 6s - loss: 0.3595 - acc: 0.874 - ETA: 6s - loss: 0.3592 - acc: 0.874 - ETA: 6s - loss: 0.3592 - acc: 0.874 - ETA: 6s - loss: 0.3591 - acc: 0.874 - ETA: 6s - loss: 0.3589 - acc: 0.874 - ETA: 6s - loss: 0.3592 - acc: 0.874 - ETA: 6s - loss: 0.3593 - acc: 0.874 - ETA: 5s - loss: 0.3595 - acc: 0.874 - ETA: 5s - loss: 0.3597 - acc: 0.874 - ETA: 5s - loss: 0.3597 - acc: 0.874 - ETA: 5s - loss: 0.3608 - acc: 0.874 - ETA: 5s - loss: 0.3605 - acc: 0.874 - ETA: 5s - loss: 0.3607 - acc: 0.874 - ETA: 5s - loss: 0.3611 - acc: 0.874 - ETA: 5s - loss: 0.3613 - acc: 0.874 - ETA: 5s - loss: 0.3621 - acc: 0.873 - ETA: 5s - loss: 0.3621 - acc: 0.873 - ETA: 5s - loss: 0.3619 - acc: 0.873 - ETA: 5s - loss: 0.3621 - acc: 0.873 - ETA: 5s - loss: 0.3622 - acc: 0.873 - ETA: 5s - loss: 0.3619 - acc: 0.873 - ETA: 5s - loss: 0.3621 - acc: 0.873 - ETA: 5s - loss: 0.3622 - acc: 0.873 - ETA: 5s - loss: 0.3623 - acc: 0.873 - ETA: 5s - loss: 0.3624 - acc: 0.873 - ETA: 4s - loss: 0.3622 - acc: 0.873 - ETA: 4s - loss: 0.3623 - acc: 0.873 - ETA: 4s - loss: 0.3625 - acc: 0.873 - ETA: 4s - loss: 0.3630 - acc: 0.873 - ETA: 4s - loss: 0.3628 - acc: 0.873 - ETA: 4s - loss: 0.3624 - acc: 0.873 - ETA: 4s - loss: 0.3622 - acc: 0.873 - ETA: 4s - loss: 0.3619 - acc: 0.873 - ETA: 4s - loss: 0.3621 - acc: 0.873 - ETA: 4s - loss: 0.3625 - acc: 0.873 - ETA: 4s - loss: 0.3627 - acc: 0.873 - ETA: 4s - loss: 0.3625 - acc: 0.873 - ETA: 4s - loss: 0.3627 - acc: 0.873 - ETA: 4s - loss: 0.3629 - acc: 0.873 - ETA: 4s - loss: 0.3628 - acc: 0.873 - ETA: 4s - loss: 0.3625 - acc: 0.873 - ETA: 4s - loss: 0.3625 - acc: 0.873 - ETA: 4s - loss: 0.3628 - acc: 0.873 - ETA: 4s - loss: 0.3627 - acc: 0.873 - ETA: 3s - loss: 0.3624 - acc: 0.873 - ETA: 3s - loss: 0.3622 - acc: 0.873 - ETA: 3s - loss: 0.3623 - acc: 0.873 - ETA: 3s - loss: 0.3624 - acc: 0.873 - ETA: 3s - loss: 0.3625 - acc: 0.873 - ETA: 3s - loss: 0.3619 - acc: 0.873 - ETA: 3s - loss: 0.3620 - acc: 0.873 - ETA: 3s - loss: 0.3621 - acc: 0.873 - ETA: 3s - loss: 0.3621 - acc: 0.873 - ETA: 3s - loss: 0.3620 - acc: 0.873 - ETA: 3s - loss: 0.3626 - acc: 0.873 - ETA: 3s - loss: 0.3629 - acc: 0.873 - ETA: 3s - loss: 0.3631 - acc: 0.873 - ETA: 3s - loss: 0.3634 - acc: 0.872 - ETA: 3s - loss: 0.3633 - acc: 0.872 - ETA: 3s - loss: 0.3632 - acc: 0.872 - ETA: 3s - loss: 0.3634 - acc: 0.872 - ETA: 3s - loss: 0.3633 - acc: 0.872 - ETA: 2s - loss: 0.3630 - acc: 0.872 - ETA: 2s - loss: 0.3631 - acc: 0.872 - ETA: 2s - loss: 0.3629 - acc: 0.872 - ETA: 2s - loss: 0.3628 - acc: 0.872 - ETA: 2s - loss: 0.3627 - acc: 0.872 - ETA: 2s - loss: 0.3629 - acc: 0.872 - ETA: 2s - loss: 0.3629 - acc: 0.872 - ETA: 2s - loss: 0.3630 - acc: 0.872 - ETA: 2s - loss: 0.3632 - acc: 0.872 - ETA: 2s - loss: 0.3635 - acc: 0.872 - ETA: 2s - loss: 0.3634 - acc: 0.872 - ETA: 2s - loss: 0.3635 - acc: 0.872 - ETA: 2s - loss: 0.3635 - acc: 0.872 - ETA: 2s - loss: 0.3635 - acc: 0.872 - ETA: 2s - loss: 0.3634 - acc: 0.872 - ETA: 2s - loss: 0.3630 - acc: 0.872 - ETA: 2s - loss: 0.3631 - acc: 0.872 - ETA: 2s - loss: 0.3630 - acc: 0.872 - ETA: 2s - loss: 0.3633 - acc: 0.872 - ETA: 1s - loss: 0.3631 - acc: 0.872 - ETA: 1s - loss: 0.3633 - acc: 0.872 - ETA: 1s - loss: 0.3633 - acc: 0.872 - ETA: 1s - loss: 0.3634 - acc: 0.872 - ETA: 1s - loss: 0.3636 - acc: 0.872 - ETA: 1s - loss: 0.3634 - acc: 0.872 - ETA: 1s - loss: 0.3639 - acc: 0.872 - ETA: 1s - loss: 0.3637 - acc: 0.872 - ETA: 1s - loss: 0.3638 - acc: 0.872 - ETA: 1s - loss: 0.3640 - acc: 0.872 - ETA: 1s - loss: 0.3639 - acc: 0.872 - ETA: 1s - loss: 0.3642 - acc: 0.872 - ETA: 1s - loss: 0.3641 - acc: 0.872 - ETA: 1s - loss: 0.3637 - acc: 0.872 - ETA: 1s - loss: 0.3638 - acc: 0.872 - ETA: 1s - loss: 0.3639 - acc: 0.872 - ETA: 1s - loss: 0.3641 - acc: 0.871 - ETA: 1s - loss: 0.3641 - acc: 0.872 - ETA: 1s - loss: 0.3640 - acc: 0.872 - ETA: 0s - loss: 0.3639 - acc: 0.872 - ETA: 0s - loss: 0.3640 - acc: 0.872 - ETA: 0s - loss: 0.3645 - acc: 0.872 - ETA: 0s - loss: 0.3645 - acc: 0.872 - ETA: 0s - loss: 0.3642 - acc: 0.872 - ETA: 0s - loss: 0.3641 - acc: 0.872 - ETA: 0s - loss: 0.3638 - acc: 0.872 - ETA: 0s - loss: 0.3639 - acc: 0.872 - ETA: 0s - loss: 0.3636 - acc: 0.872 - ETA: 0s - loss: 0.3636 - acc: 0.872 - ETA: 0s - loss: 0.3636 - acc: 0.872 - ETA: 0s - loss: 0.3636 - acc: 0.872 - ETA: 0s - loss: 0.3635 - acc: 0.872 - ETA: 0s - loss: 0.3633 - acc: 0.872 - ETA: 0s - loss: 0.3631 - acc: 0.872 - ETA: 0s - loss: 0.3630 - acc: 0.872 - ETA: 0s - loss: 0.3629 - acc: 0.873 - ETA: 0s - loss: 0.3628 - acc: 0.873 - 19s - loss: 0.3628 - acc: 0.8732 - val_loss: 0.3731 - val_acc: 0.8662\n"
     ]
    },
    {
     "data": {
      "application/vnd.jupyter.widget-view+json": {
       "model_id": "6bc2ad8c5b7f4540ac941235132c8026",
       "version_major": 2,
       "version_minor": 0
      },
      "text/html": [
       "<p>Failed to display Jupyter Widget of type <code>HBox</code>.</p>\n",
       "<p>\n",
       "  If you're reading this message in Jupyter Notebook or JupyterLab, it may mean\n",
       "  that the widgets JavaScript is still loading. If this message persists, it\n",
       "  likely means that the widgets JavaScript library is either not installed or\n",
       "  not enabled. See the <a href=\"https://ipywidgets.readthedocs.io/en/stable/user_install.html\">Jupyter\n",
       "  Widgets Documentation</a> for setup instructions.\n",
       "</p>\n",
       "<p>\n",
       "  If you're reading this message in another notebook frontend (for example, a static\n",
       "  rendering on GitHub or <a href=\"https://nbviewer.jupyter.org/\">NBViewer</a>),\n",
       "  it may mean that your frontend doesn't currently support widgets.\n",
       "</p>\n"
      ],
      "text/plain": [
       "HBox(children=(IntProgress(value=0, description='Epoch 8', max=54000), HTML(value='')))"
      ]
     },
     "metadata": {},
     "output_type": "display_data"
    },
    {
     "name": "stdout",
     "output_type": "stream",
     "text": [
      "Epoch 9/10\n"
     ]
    },
    {
     "name": "stdout",
     "output_type": "stream",
     "text": [
      "34240/54000 [==================>...........] - ETA: 28s - loss: 0.1841 - acc: 0.92 - ETA: 21s - loss: 0.3305 - acc: 0.88 - ETA: 19s - loss: 0.3819 - acc: 0.85 - ETA: 19s - loss: 0.3684 - acc: 0.86 - ETA: 18s - loss: 0.3842 - acc: 0.86 - ETA: 18s - loss: 0.3765 - acc: 0.86 - ETA: 18s - loss: 0.3792 - acc: 0.85 - ETA: 18s - loss: 0.3815 - acc: 0.85 - ETA: 17s - loss: 0.3924 - acc: 0.85 - ETA: 17s - loss: 0.3750 - acc: 0.86 - ETA: 17s - loss: 0.3886 - acc: 0.85 - ETA: 17s - loss: 0.3817 - acc: 0.86 - ETA: 17s - loss: 0.3708 - acc: 0.86 - ETA: 17s - loss: 0.3623 - acc: 0.87 - ETA: 17s - loss: 0.3594 - acc: 0.87 - ETA: 17s - loss: 0.3634 - acc: 0.87 - ETA: 17s - loss: 0.3691 - acc: 0.87 - ETA: 17s - loss: 0.3663 - acc: 0.87 - ETA: 17s - loss: 0.3679 - acc: 0.87 - ETA: 17s - loss: 0.3650 - acc: 0.87 - ETA: 17s - loss: 0.3661 - acc: 0.87 - ETA: 17s - loss: 0.3662 - acc: 0.87 - ETA: 17s - loss: 0.3687 - acc: 0.87 - ETA: 17s - loss: 0.3656 - acc: 0.87 - ETA: 17s - loss: 0.3636 - acc: 0.87 - ETA: 17s - loss: 0.3646 - acc: 0.87 - ETA: 16s - loss: 0.3662 - acc: 0.87 - ETA: 16s - loss: 0.3620 - acc: 0.87 - ETA: 16s - loss: 0.3608 - acc: 0.87 - ETA: 16s - loss: 0.3614 - acc: 0.87 - ETA: 16s - loss: 0.3642 - acc: 0.87 - ETA: 16s - loss: 0.3619 - acc: 0.87 - ETA: 16s - loss: 0.3662 - acc: 0.87 - ETA: 16s - loss: 0.3654 - acc: 0.87 - ETA: 16s - loss: 0.3695 - acc: 0.87 - ETA: 16s - loss: 0.3690 - acc: 0.87 - ETA: 16s - loss: 0.3686 - acc: 0.87 - ETA: 16s - loss: 0.3722 - acc: 0.87 - ETA: 16s - loss: 0.3725 - acc: 0.87 - ETA: 16s - loss: 0.3728 - acc: 0.87 - ETA: 16s - loss: 0.3715 - acc: 0.87 - ETA: 16s - loss: 0.3712 - acc: 0.87 - ETA: 16s - loss: 0.3709 - acc: 0.87 - ETA: 16s - loss: 0.3688 - acc: 0.87 - ETA: 15s - loss: 0.3698 - acc: 0.87 - ETA: 15s - loss: 0.3699 - acc: 0.87 - ETA: 15s - loss: 0.3708 - acc: 0.87 - ETA: 15s - loss: 0.3714 - acc: 0.87 - ETA: 15s - loss: 0.3687 - acc: 0.87 - ETA: 15s - loss: 0.3676 - acc: 0.87 - ETA: 15s - loss: 0.3673 - acc: 0.87 - ETA: 15s - loss: 0.3658 - acc: 0.87 - ETA: 15s - loss: 0.3656 - acc: 0.87 - ETA: 15s - loss: 0.3665 - acc: 0.87 - ETA: 15s - loss: 0.3671 - acc: 0.87 - ETA: 15s - loss: 0.3669 - acc: 0.87 - ETA: 15s - loss: 0.3687 - acc: 0.87 - ETA: 15s - loss: 0.3683 - acc: 0.87 - ETA: 15s - loss: 0.3666 - acc: 0.87 - ETA: 15s - loss: 0.3671 - acc: 0.87 - ETA: 15s - loss: 0.3683 - acc: 0.87 - ETA: 15s - loss: 0.3669 - acc: 0.87 - ETA: 14s - loss: 0.3676 - acc: 0.87 - ETA: 14s - loss: 0.3672 - acc: 0.87 - ETA: 14s - loss: 0.3676 - acc: 0.87 - ETA: 14s - loss: 0.3666 - acc: 0.87 - ETA: 14s - loss: 0.3669 - acc: 0.87 - ETA: 14s - loss: 0.3681 - acc: 0.87 - ETA: 14s - loss: 0.3674 - acc: 0.87 - ETA: 14s - loss: 0.3668 - acc: 0.87 - ETA: 14s - loss: 0.3662 - acc: 0.87 - ETA: 14s - loss: 0.3659 - acc: 0.87 - ETA: 14s - loss: 0.3659 - acc: 0.87 - ETA: 14s - loss: 0.3649 - acc: 0.87 - ETA: 14s - loss: 0.3642 - acc: 0.87 - ETA: 14s - loss: 0.3631 - acc: 0.87 - ETA: 14s - loss: 0.3639 - acc: 0.87 - ETA: 14s - loss: 0.3637 - acc: 0.87 - ETA: 14s - loss: 0.3647 - acc: 0.87 - ETA: 14s - loss: 0.3637 - acc: 0.87 - ETA: 14s - loss: 0.3632 - acc: 0.87 - ETA: 14s - loss: 0.3636 - acc: 0.87 - ETA: 13s - loss: 0.3638 - acc: 0.87 - ETA: 13s - loss: 0.3630 - acc: 0.87 - ETA: 13s - loss: 0.3624 - acc: 0.87 - ETA: 13s - loss: 0.3642 - acc: 0.87 - ETA: 13s - loss: 0.3647 - acc: 0.87 - ETA: 13s - loss: 0.3651 - acc: 0.87 - ETA: 13s - loss: 0.3655 - acc: 0.87 - ETA: 13s - loss: 0.3658 - acc: 0.87 - ETA: 13s - loss: 0.3652 - acc: 0.87 - ETA: 13s - loss: 0.3661 - acc: 0.87 - ETA: 13s - loss: 0.3665 - acc: 0.87 - ETA: 13s - loss: 0.3659 - acc: 0.87 - ETA: 13s - loss: 0.3646 - acc: 0.87 - ETA: 13s - loss: 0.3642 - acc: 0.87 - ETA: 13s - loss: 0.3633 - acc: 0.87 - ETA: 13s - loss: 0.3625 - acc: 0.87 - ETA: 13s - loss: 0.3621 - acc: 0.87 - ETA: 13s - loss: 0.3627 - acc: 0.87 - ETA: 13s - loss: 0.3622 - acc: 0.87 - ETA: 13s - loss: 0.3621 - acc: 0.87 - ETA: 12s - loss: 0.3625 - acc: 0.87 - ETA: 12s - loss: 0.3622 - acc: 0.87 - ETA: 12s - loss: 0.3623 - acc: 0.87 - ETA: 12s - loss: 0.3633 - acc: 0.87 - ETA: 12s - loss: 0.3629 - acc: 0.87 - ETA: 12s - loss: 0.3636 - acc: 0.87 - ETA: 12s - loss: 0.3637 - acc: 0.87 - ETA: 12s - loss: 0.3630 - acc: 0.87 - ETA: 12s - loss: 0.3621 - acc: 0.87 - ETA: 12s - loss: 0.3613 - acc: 0.87 - ETA: 12s - loss: 0.3617 - acc: 0.87 - ETA: 12s - loss: 0.3614 - acc: 0.87 - ETA: 12s - loss: 0.3619 - acc: 0.87 - ETA: 12s - loss: 0.3620 - acc: 0.87 - ETA: 12s - loss: 0.3616 - acc: 0.87 - ETA: 12s - loss: 0.3610 - acc: 0.87 - ETA: 12s - loss: 0.3605 - acc: 0.87 - ETA: 12s - loss: 0.3600 - acc: 0.87 - ETA: 11s - loss: 0.3599 - acc: 0.87 - ETA: 11s - loss: 0.3598 - acc: 0.87 - ETA: 11s - loss: 0.3597 - acc: 0.87 - ETA: 11s - loss: 0.3597 - acc: 0.87 - ETA: 11s - loss: 0.3594 - acc: 0.87 - ETA: 11s - loss: 0.3594 - acc: 0.87 - ETA: 11s - loss: 0.3596 - acc: 0.87 - ETA: 11s - loss: 0.3597 - acc: 0.87 - ETA: 11s - loss: 0.3592 - acc: 0.87 - ETA: 11s - loss: 0.3597 - acc: 0.87 - ETA: 11s - loss: 0.3592 - acc: 0.87 - ETA: 11s - loss: 0.3584 - acc: 0.87 - ETA: 11s - loss: 0.3583 - acc: 0.87 - ETA: 11s - loss: 0.3579 - acc: 0.87 - ETA: 11s - loss: 0.3573 - acc: 0.87 - ETA: 11s - loss: 0.3572 - acc: 0.87 - ETA: 10s - loss: 0.3574 - acc: 0.87 - ETA: 10s - loss: 0.3577 - acc: 0.87 - ETA: 10s - loss: 0.3570 - acc: 0.87 - ETA: 10s - loss: 0.3574 - acc: 0.87 - ETA: 10s - loss: 0.3570 - acc: 0.87 - ETA: 10s - loss: 0.3569 - acc: 0.87 - ETA: 10s - loss: 0.3560 - acc: 0.87 - ETA: 10s - loss: 0.3557 - acc: 0.87 - ETA: 10s - loss: 0.3559 - acc: 0.87 - ETA: 10s - loss: 0.3558 - acc: 0.87 - ETA: 10s - loss: 0.3557 - acc: 0.87 - ETA: 10s - loss: 0.3566 - acc: 0.87 - ETA: 10s - loss: 0.3563 - acc: 0.87 - ETA: 10s - loss: 0.3565 - acc: 0.87 - ETA: 10s - loss: 0.3568 - acc: 0.87 - ETA: 10s - loss: 0.3570 - acc: 0.87 - ETA: 10s - loss: 0.3568 - acc: 0.87 - ETA: 10s - loss: 0.3571 - acc: 0.87 - ETA: 10s - loss: 0.3569 - acc: 0.87 - ETA: 9s - loss: 0.3565 - acc: 0.8750 - ETA: 9s - loss: 0.3568 - acc: 0.874 - ETA: 9s - loss: 0.3566 - acc: 0.874 - ETA: 9s - loss: 0.3567 - acc: 0.874 - ETA: 9s - loss: 0.3565 - acc: 0.875 - ETA: 9s - loss: 0.3575 - acc: 0.874 - ETA: 9s - loss: 0.3581 - acc: 0.874 - ETA: 9s - loss: 0.3579 - acc: 0.874 - ETA: 9s - loss: 0.3577 - acc: 0.874 - ETA: 9s - loss: 0.3576 - acc: 0.875 - ETA: 9s - loss: 0.3576 - acc: 0.875 - ETA: 9s - loss: 0.3572 - acc: 0.875 - ETA: 9s - loss: 0.3577 - acc: 0.875 - ETA: 9s - loss: 0.3575 - acc: 0.875 - ETA: 9s - loss: 0.3570 - acc: 0.875 - ETA: 9s - loss: 0.3571 - acc: 0.875 - ETA: 9s - loss: 0.3568 - acc: 0.875 - ETA: 9s - loss: 0.3569 - acc: 0.875 - ETA: 8s - loss: 0.3564 - acc: 0.875 - ETA: 8s - loss: 0.3561 - acc: 0.875 - ETA: 8s - loss: 0.3558 - acc: 0.875 - ETA: 8s - loss: 0.3557 - acc: 0.876 - ETA: 8s - loss: 0.3553 - acc: 0.876 - ETA: 8s - loss: 0.3565 - acc: 0.875 - ETA: 8s - loss: 0.3562 - acc: 0.875 - ETA: 8s - loss: 0.3562 - acc: 0.875 - ETA: 8s - loss: 0.3560 - acc: 0.875 - ETA: 8s - loss: 0.3557 - acc: 0.875 - ETA: 8s - loss: 0.3556 - acc: 0.875 - ETA: 8s - loss: 0.3554 - acc: 0.875 - ETA: 8s - loss: 0.3551 - acc: 0.876 - ETA: 8s - loss: 0.3548 - acc: 0.876 - ETA: 8s - loss: 0.3548 - acc: 0.876 - ETA: 8s - loss: 0.3544 - acc: 0.876 - ETA: 8s - loss: 0.3548 - acc: 0.876 - ETA: 8s - loss: 0.3549 - acc: 0.875 - ETA: 7s - loss: 0.3550 - acc: 0.875 - ETA: 7s - loss: 0.3550 - acc: 0.875 - ETA: 7s - loss: 0.3550 - acc: 0.875 - ETA: 7s - loss: 0.3555 - acc: 0.875 - ETA: 7s - loss: 0.3552 - acc: 0.875 - ETA: 7s - loss: 0.3553 - acc: 0.875 - ETA: 7s - loss: 0.3547 - acc: 0.875 - ETA: 7s - loss: 0.3544 - acc: 0.875 - ETA: 7s - loss: 0.3544 - acc: 0.875 - ETA: 7s - loss: 0.3545 - acc: 0.875 - ETA: 7s - loss: 0.3545 - acc: 0.875 - ETA: 7s - loss: 0.3543 - acc: 0.875 - ETA: 7s - loss: 0.3546 - acc: 0.875 - ETA: 7s - loss: 0.3548 - acc: 0.875 - ETA: 7s - loss: 0.3544 - acc: 0.875 - ETA: 7s - loss: 0.3540 - acc: 0.875 - ETA: 7s - loss: 0.3539 - acc: 0.875 - ETA: 7s - loss: 0.3537 - acc: 0.875 - ETA: 7s - loss: 0.3538 - acc: 0.875 - ETA: 6s - loss: 0.3539 - acc: 0.875 - ETA: 6s - loss: 0.3534 - acc: 0.876 - ETA: 6s - loss: 0.3533 - acc: 0.876 - ETA: 6s - loss: 0.3530 - acc: 0.876 - ETA: 6s - loss: 0.3531 - acc: 0.8762\b\b\b\b\b\b\b\b\b\b\b\b\b\b\b\b\b\b\b\b\b\b\b\b\b\b\b\b\b\b\b\b\b\b\b\b\b\b\b\b\b\b\b\b\b\b\b\b\b\b\b\b\b\b\b\b\b\b\b\b\b\b\b\b\b\b\b\b\b\b\b\b\b\b\b\b\b\b\b\b\b\b\b"
     ]
    },
    {
     "name": "stdout",
     "output_type": "stream",
     "text": [
      "54000/54000 [==============================] - ETA: 6s - loss: 0.3527 - acc: 0.876 - ETA: 6s - loss: 0.3527 - acc: 0.876 - ETA: 6s - loss: 0.3523 - acc: 0.876 - ETA: 6s - loss: 0.3518 - acc: 0.876 - ETA: 6s - loss: 0.3522 - acc: 0.876 - ETA: 6s - loss: 0.3523 - acc: 0.876 - ETA: 6s - loss: 0.3525 - acc: 0.876 - ETA: 6s - loss: 0.3525 - acc: 0.876 - ETA: 6s - loss: 0.3523 - acc: 0.876 - ETA: 6s - loss: 0.3526 - acc: 0.876 - ETA: 6s - loss: 0.3527 - acc: 0.876 - ETA: 6s - loss: 0.3527 - acc: 0.876 - ETA: 6s - loss: 0.3525 - acc: 0.876 - ETA: 6s - loss: 0.3524 - acc: 0.876 - ETA: 5s - loss: 0.3523 - acc: 0.876 - ETA: 5s - loss: 0.3522 - acc: 0.876 - ETA: 5s - loss: 0.3521 - acc: 0.876 - ETA: 5s - loss: 0.3519 - acc: 0.876 - ETA: 5s - loss: 0.3519 - acc: 0.876 - ETA: 5s - loss: 0.3520 - acc: 0.876 - ETA: 5s - loss: 0.3518 - acc: 0.876 - ETA: 5s - loss: 0.3517 - acc: 0.876 - ETA: 5s - loss: 0.3520 - acc: 0.876 - ETA: 5s - loss: 0.3521 - acc: 0.876 - ETA: 5s - loss: 0.3522 - acc: 0.876 - ETA: 5s - loss: 0.3521 - acc: 0.876 - ETA: 5s - loss: 0.3523 - acc: 0.876 - ETA: 5s - loss: 0.3524 - acc: 0.876 - ETA: 5s - loss: 0.3522 - acc: 0.876 - ETA: 5s - loss: 0.3520 - acc: 0.876 - ETA: 5s - loss: 0.3518 - acc: 0.876 - ETA: 5s - loss: 0.3513 - acc: 0.877 - ETA: 4s - loss: 0.3515 - acc: 0.877 - ETA: 4s - loss: 0.3513 - acc: 0.877 - ETA: 4s - loss: 0.3515 - acc: 0.877 - ETA: 4s - loss: 0.3515 - acc: 0.877 - ETA: 4s - loss: 0.3515 - acc: 0.877 - ETA: 4s - loss: 0.3513 - acc: 0.877 - ETA: 4s - loss: 0.3513 - acc: 0.877 - ETA: 4s - loss: 0.3515 - acc: 0.876 - ETA: 4s - loss: 0.3523 - acc: 0.876 - ETA: 4s - loss: 0.3525 - acc: 0.876 - ETA: 4s - loss: 0.3525 - acc: 0.876 - ETA: 4s - loss: 0.3524 - acc: 0.876 - ETA: 4s - loss: 0.3524 - acc: 0.876 - ETA: 4s - loss: 0.3524 - acc: 0.876 - ETA: 4s - loss: 0.3524 - acc: 0.876 - ETA: 4s - loss: 0.3523 - acc: 0.876 - ETA: 4s - loss: 0.3523 - acc: 0.876 - ETA: 4s - loss: 0.3523 - acc: 0.876 - ETA: 3s - loss: 0.3522 - acc: 0.876 - ETA: 3s - loss: 0.3526 - acc: 0.876 - ETA: 3s - loss: 0.3526 - acc: 0.876 - ETA: 3s - loss: 0.3532 - acc: 0.876 - ETA: 3s - loss: 0.3531 - acc: 0.876 - ETA: 3s - loss: 0.3529 - acc: 0.876 - ETA: 3s - loss: 0.3530 - acc: 0.876 - ETA: 3s - loss: 0.3527 - acc: 0.876 - ETA: 3s - loss: 0.3525 - acc: 0.876 - ETA: 3s - loss: 0.3528 - acc: 0.876 - ETA: 3s - loss: 0.3526 - acc: 0.876 - ETA: 3s - loss: 0.3525 - acc: 0.876 - ETA: 3s - loss: 0.3527 - acc: 0.876 - ETA: 3s - loss: 0.3526 - acc: 0.876 - ETA: 3s - loss: 0.3525 - acc: 0.876 - ETA: 3s - loss: 0.3525 - acc: 0.876 - ETA: 3s - loss: 0.3526 - acc: 0.876 - ETA: 3s - loss: 0.3525 - acc: 0.876 - ETA: 2s - loss: 0.3524 - acc: 0.876 - ETA: 2s - loss: 0.3522 - acc: 0.876 - ETA: 2s - loss: 0.3520 - acc: 0.876 - ETA: 2s - loss: 0.3519 - acc: 0.876 - ETA: 2s - loss: 0.3523 - acc: 0.876 - ETA: 2s - loss: 0.3523 - acc: 0.876 - ETA: 2s - loss: 0.3524 - acc: 0.876 - ETA: 2s - loss: 0.3524 - acc: 0.876 - ETA: 2s - loss: 0.3521 - acc: 0.876 - ETA: 2s - loss: 0.3521 - acc: 0.876 - ETA: 2s - loss: 0.3521 - acc: 0.876 - ETA: 2s - loss: 0.3520 - acc: 0.876 - ETA: 2s - loss: 0.3518 - acc: 0.876 - ETA: 2s - loss: 0.3516 - acc: 0.876 - ETA: 2s - loss: 0.3519 - acc: 0.876 - ETA: 2s - loss: 0.3522 - acc: 0.876 - ETA: 2s - loss: 0.3525 - acc: 0.876 - ETA: 2s - loss: 0.3528 - acc: 0.876 - ETA: 1s - loss: 0.3533 - acc: 0.875 - ETA: 1s - loss: 0.3531 - acc: 0.875 - ETA: 1s - loss: 0.3533 - acc: 0.875 - ETA: 1s - loss: 0.3535 - acc: 0.875 - ETA: 1s - loss: 0.3535 - acc: 0.875 - ETA: 1s - loss: 0.3533 - acc: 0.875 - ETA: 1s - loss: 0.3532 - acc: 0.875 - ETA: 1s - loss: 0.3531 - acc: 0.875 - ETA: 1s - loss: 0.3533 - acc: 0.875 - ETA: 1s - loss: 0.3535 - acc: 0.875 - ETA: 1s - loss: 0.3535 - acc: 0.875 - ETA: 1s - loss: 0.3533 - acc: 0.875 - ETA: 1s - loss: 0.3533 - acc: 0.875 - ETA: 1s - loss: 0.3533 - acc: 0.875 - ETA: 1s - loss: 0.3531 - acc: 0.875 - ETA: 1s - loss: 0.3531 - acc: 0.875 - ETA: 1s - loss: 0.3530 - acc: 0.875 - ETA: 1s - loss: 0.3531 - acc: 0.875 - ETA: 1s - loss: 0.3532 - acc: 0.875 - ETA: 0s - loss: 0.3531 - acc: 0.875 - ETA: 0s - loss: 0.3534 - acc: 0.875 - ETA: 0s - loss: 0.3534 - acc: 0.875 - ETA: 0s - loss: 0.3533 - acc: 0.875 - ETA: 0s - loss: 0.3532 - acc: 0.875 - ETA: 0s - loss: 0.3532 - acc: 0.875 - ETA: 0s - loss: 0.3535 - acc: 0.875 - ETA: 0s - loss: 0.3537 - acc: 0.875 - ETA: 0s - loss: 0.3536 - acc: 0.875 - ETA: 0s - loss: 0.3537 - acc: 0.875 - ETA: 0s - loss: 0.3534 - acc: 0.875 - ETA: 0s - loss: 0.3535 - acc: 0.875 - ETA: 0s - loss: 0.3539 - acc: 0.875 - ETA: 0s - loss: 0.3539 - acc: 0.875 - ETA: 0s - loss: 0.3538 - acc: 0.875 - ETA: 0s - loss: 0.3540 - acc: 0.875 - ETA: 0s - loss: 0.3539 - acc: 0.875 - ETA: 0s - loss: 0.3536 - acc: 0.875 - ETA: 0s - loss: 0.3537 - acc: 0.875 - ETA: 0s - loss: 0.3536 - acc: 0.875 - 19s - loss: 0.3533 - acc: 0.8756 - val_loss: 0.3656 - val_acc: 0.8687\n"
     ]
    },
    {
     "data": {
      "application/vnd.jupyter.widget-view+json": {
       "model_id": "d4b4ea84e54d48ad897fe8df8a91303a",
       "version_major": 2,
       "version_minor": 0
      },
      "text/html": [
       "<p>Failed to display Jupyter Widget of type <code>HBox</code>.</p>\n",
       "<p>\n",
       "  If you're reading this message in Jupyter Notebook or JupyterLab, it may mean\n",
       "  that the widgets JavaScript is still loading. If this message persists, it\n",
       "  likely means that the widgets JavaScript library is either not installed or\n",
       "  not enabled. See the <a href=\"https://ipywidgets.readthedocs.io/en/stable/user_install.html\">Jupyter\n",
       "  Widgets Documentation</a> for setup instructions.\n",
       "</p>\n",
       "<p>\n",
       "  If you're reading this message in another notebook frontend (for example, a static\n",
       "  rendering on GitHub or <a href=\"https://nbviewer.jupyter.org/\">NBViewer</a>),\n",
       "  it may mean that your frontend doesn't currently support widgets.\n",
       "</p>\n"
      ],
      "text/plain": [
       "HBox(children=(IntProgress(value=0, description='Epoch 9', max=54000), HTML(value='')))"
      ]
     },
     "metadata": {},
     "output_type": "display_data"
    },
    {
     "name": "stdout",
     "output_type": "stream",
     "text": [
      "Epoch 10/10\n"
     ]
    },
    {
     "name": "stdout",
     "output_type": "stream",
     "text": [
      "29320/54000 [===============>..............] - ETA: 21s - loss: 0.2881 - acc: 0.82 - ETA: 19s - loss: 0.3140 - acc: 0.86 - ETA: 20s - loss: 0.3016 - acc: 0.87 - ETA: 21s - loss: 0.3025 - acc: 0.88 - ETA: 20s - loss: 0.3032 - acc: 0.88 - ETA: 20s - loss: 0.3098 - acc: 0.88 - ETA: 19s - loss: 0.3074 - acc: 0.89 - ETA: 19s - loss: 0.3072 - acc: 0.89 - ETA: 19s - loss: 0.3096 - acc: 0.89 - ETA: 19s - loss: 0.3122 - acc: 0.89 - ETA: 19s - loss: 0.3198 - acc: 0.89 - ETA: 18s - loss: 0.3264 - acc: 0.88 - ETA: 18s - loss: 0.3244 - acc: 0.88 - ETA: 18s - loss: 0.3181 - acc: 0.88 - ETA: 18s - loss: 0.3263 - acc: 0.88 - ETA: 18s - loss: 0.3269 - acc: 0.88 - ETA: 18s - loss: 0.3303 - acc: 0.88 - ETA: 18s - loss: 0.3286 - acc: 0.88 - ETA: 18s - loss: 0.3298 - acc: 0.88 - ETA: 18s - loss: 0.3311 - acc: 0.88 - ETA: 18s - loss: 0.3286 - acc: 0.88 - ETA: 18s - loss: 0.3311 - acc: 0.88 - ETA: 18s - loss: 0.3314 - acc: 0.88 - ETA: 18s - loss: 0.3313 - acc: 0.88 - ETA: 17s - loss: 0.3301 - acc: 0.88 - ETA: 17s - loss: 0.3299 - acc: 0.88 - ETA: 17s - loss: 0.3303 - acc: 0.88 - ETA: 17s - loss: 0.3326 - acc: 0.88 - ETA: 17s - loss: 0.3310 - acc: 0.88 - ETA: 17s - loss: 0.3306 - acc: 0.88 - ETA: 17s - loss: 0.3315 - acc: 0.88 - ETA: 17s - loss: 0.3337 - acc: 0.88 - ETA: 17s - loss: 0.3343 - acc: 0.87 - ETA: 17s - loss: 0.3341 - acc: 0.88 - ETA: 17s - loss: 0.3357 - acc: 0.88 - ETA: 17s - loss: 0.3355 - acc: 0.88 - ETA: 17s - loss: 0.3326 - acc: 0.88 - ETA: 17s - loss: 0.3340 - acc: 0.88 - ETA: 17s - loss: 0.3347 - acc: 0.88 - ETA: 17s - loss: 0.3337 - acc: 0.88 - ETA: 16s - loss: 0.3320 - acc: 0.88 - ETA: 16s - loss: 0.3327 - acc: 0.88 - ETA: 16s - loss: 0.3308 - acc: 0.88 - ETA: 16s - loss: 0.3298 - acc: 0.88 - ETA: 17s - loss: 0.3313 - acc: 0.88 - ETA: 17s - loss: 0.3316 - acc: 0.88 - ETA: 17s - loss: 0.3323 - acc: 0.88 - ETA: 17s - loss: 0.3313 - acc: 0.88 - ETA: 17s - loss: 0.3323 - acc: 0.88 - ETA: 17s - loss: 0.3325 - acc: 0.88 - ETA: 17s - loss: 0.3333 - acc: 0.88 - ETA: 16s - loss: 0.3341 - acc: 0.88 - ETA: 16s - loss: 0.3344 - acc: 0.88 - ETA: 16s - loss: 0.3353 - acc: 0.88 - ETA: 16s - loss: 0.3362 - acc: 0.88 - ETA: 16s - loss: 0.3376 - acc: 0.88 - ETA: 16s - loss: 0.3385 - acc: 0.88 - ETA: 16s - loss: 0.3397 - acc: 0.87 - ETA: 16s - loss: 0.3391 - acc: 0.87 - ETA: 16s - loss: 0.3398 - acc: 0.87 - ETA: 16s - loss: 0.3405 - acc: 0.87 - ETA: 16s - loss: 0.3403 - acc: 0.87 - ETA: 16s - loss: 0.3402 - acc: 0.87 - ETA: 16s - loss: 0.3400 - acc: 0.87 - ETA: 16s - loss: 0.3399 - acc: 0.87 - ETA: 16s - loss: 0.3399 - acc: 0.87 - ETA: 16s - loss: 0.3421 - acc: 0.87 - ETA: 16s - loss: 0.3422 - acc: 0.87 - ETA: 16s - loss: 0.3412 - acc: 0.87 - ETA: 16s - loss: 0.3424 - acc: 0.87 - ETA: 16s - loss: 0.3431 - acc: 0.87 - ETA: 16s - loss: 0.3432 - acc: 0.87 - ETA: 16s - loss: 0.3430 - acc: 0.87 - ETA: 16s - loss: 0.3430 - acc: 0.87 - ETA: 16s - loss: 0.3435 - acc: 0.87 - ETA: 16s - loss: 0.3432 - acc: 0.87 - ETA: 16s - loss: 0.3437 - acc: 0.87 - ETA: 16s - loss: 0.3431 - acc: 0.87 - ETA: 16s - loss: 0.3430 - acc: 0.87 - ETA: 16s - loss: 0.3439 - acc: 0.87 - ETA: 16s - loss: 0.3433 - acc: 0.87 - ETA: 16s - loss: 0.3432 - acc: 0.87 - ETA: 16s - loss: 0.3431 - acc: 0.87 - ETA: 16s - loss: 0.3432 - acc: 0.87 - ETA: 16s - loss: 0.3446 - acc: 0.87 - ETA: 16s - loss: 0.3459 - acc: 0.87 - ETA: 16s - loss: 0.3452 - acc: 0.87 - ETA: 16s - loss: 0.3460 - acc: 0.87 - ETA: 16s - loss: 0.3460 - acc: 0.87 - ETA: 16s - loss: 0.3456 - acc: 0.87 - ETA: 15s - loss: 0.3464 - acc: 0.87 - ETA: 15s - loss: 0.3460 - acc: 0.87 - ETA: 15s - loss: 0.3460 - acc: 0.87 - ETA: 15s - loss: 0.3461 - acc: 0.87 - ETA: 15s - loss: 0.3455 - acc: 0.87 - ETA: 15s - loss: 0.3455 - acc: 0.87 - ETA: 15s - loss: 0.3459 - acc: 0.87 - ETA: 15s - loss: 0.3464 - acc: 0.87 - ETA: 15s - loss: 0.3470 - acc: 0.87 - ETA: 15s - loss: 0.3467 - acc: 0.87 - ETA: 15s - loss: 0.3462 - acc: 0.87 - ETA: 15s - loss: 0.3465 - acc: 0.87 - ETA: 15s - loss: 0.3466 - acc: 0.87 - ETA: 15s - loss: 0.3469 - acc: 0.87 - ETA: 15s - loss: 0.3457 - acc: 0.87 - ETA: 15s - loss: 0.3448 - acc: 0.87 - ETA: 15s - loss: 0.3450 - acc: 0.87 - ETA: 15s - loss: 0.3449 - acc: 0.87 - ETA: 15s - loss: 0.3446 - acc: 0.87 - ETA: 15s - loss: 0.3448 - acc: 0.87 - ETA: 15s - loss: 0.3447 - acc: 0.87 - ETA: 15s - loss: 0.3446 - acc: 0.87 - ETA: 15s - loss: 0.3449 - acc: 0.87 - ETA: 14s - loss: 0.3455 - acc: 0.87 - ETA: 14s - loss: 0.3468 - acc: 0.87 - ETA: 14s - loss: 0.3469 - acc: 0.87 - ETA: 14s - loss: 0.3461 - acc: 0.87 - ETA: 14s - loss: 0.3457 - acc: 0.87 - ETA: 14s - loss: 0.3461 - acc: 0.87 - ETA: 14s - loss: 0.3454 - acc: 0.87 - ETA: 14s - loss: 0.3461 - acc: 0.87 - ETA: 14s - loss: 0.3460 - acc: 0.87 - ETA: 14s - loss: 0.3462 - acc: 0.87 - ETA: 14s - loss: 0.3467 - acc: 0.87 - ETA: 14s - loss: 0.3466 - acc: 0.87 - ETA: 14s - loss: 0.3464 - acc: 0.87 - ETA: 14s - loss: 0.3466 - acc: 0.87 - ETA: 14s - loss: 0.3467 - acc: 0.87 - ETA: 14s - loss: 0.3466 - acc: 0.87 - ETA: 14s - loss: 0.3467 - acc: 0.87 - ETA: 14s - loss: 0.3465 - acc: 0.87 - ETA: 14s - loss: 0.3470 - acc: 0.87 - ETA: 14s - loss: 0.3471 - acc: 0.87 - ETA: 14s - loss: 0.3473 - acc: 0.87 - ETA: 13s - loss: 0.3467 - acc: 0.87 - ETA: 13s - loss: 0.3467 - acc: 0.87 - ETA: 13s - loss: 0.3473 - acc: 0.87 - ETA: 13s - loss: 0.3470 - acc: 0.87 - ETA: 13s - loss: 0.3477 - acc: 0.87 - ETA: 13s - loss: 0.3472 - acc: 0.87 - ETA: 13s - loss: 0.3476 - acc: 0.87 - ETA: 13s - loss: 0.3472 - acc: 0.87 - ETA: 13s - loss: 0.3474 - acc: 0.87 - ETA: 13s - loss: 0.3470 - acc: 0.87 - ETA: 13s - loss: 0.3471 - acc: 0.87 - ETA: 13s - loss: 0.3469 - acc: 0.87 - ETA: 13s - loss: 0.3479 - acc: 0.87 - ETA: 13s - loss: 0.3485 - acc: 0.87 - ETA: 13s - loss: 0.3486 - acc: 0.87 - ETA: 13s - loss: 0.3485 - acc: 0.87 - ETA: 13s - loss: 0.3482 - acc: 0.87 - ETA: 13s - loss: 0.3483 - acc: 0.87 - ETA: 13s - loss: 0.3488 - acc: 0.87 - ETA: 13s - loss: 0.3489 - acc: 0.87 - ETA: 13s - loss: 0.3488 - acc: 0.87 - ETA: 13s - loss: 0.3489 - acc: 0.87 - ETA: 13s - loss: 0.3489 - acc: 0.87 - ETA: 13s - loss: 0.3493 - acc: 0.87 - ETA: 13s - loss: 0.3495 - acc: 0.87 - ETA: 13s - loss: 0.3493 - acc: 0.87 - ETA: 12s - loss: 0.3494 - acc: 0.87 - ETA: 12s - loss: 0.3491 - acc: 0.87 - ETA: 12s - loss: 0.3492 - acc: 0.87 - ETA: 12s - loss: 0.3492 - acc: 0.87 - ETA: 12s - loss: 0.3501 - acc: 0.87 - ETA: 12s - loss: 0.3501 - acc: 0.87 - ETA: 12s - loss: 0.3500 - acc: 0.87 - ETA: 12s - loss: 0.3501 - acc: 0.87 - ETA: 12s - loss: 0.3496 - acc: 0.87 - ETA: 12s - loss: 0.3493 - acc: 0.87 - ETA: 12s - loss: 0.3493 - acc: 0.87 - ETA: 12s - loss: 0.3495 - acc: 0.87 - ETA: 12s - loss: 0.3492 - acc: 0.87 - ETA: 12s - loss: 0.3496 - acc: 0.87 - ETA: 12s - loss: 0.3493 - acc: 0.87 - ETA: 12s - loss: 0.3492 - acc: 0.87 - ETA: 12s - loss: 0.3493 - acc: 0.87 - ETA: 12s - loss: 0.3490 - acc: 0.87 - ETA: 12s - loss: 0.3488 - acc: 0.87 - ETA: 12s - loss: 0.3488 - acc: 0.87 - ETA: 12s - loss: 0.3488 - acc: 0.87 - ETA: 12s - loss: 0.3482 - acc: 0.87 - ETA: 11s - loss: 0.3486 - acc: 0.87 - ETA: 11s - loss: 0.3486 - acc: 0.87 - ETA: 11s - loss: 0.3484 - acc: 0.87 - ETA: 11s - loss: 0.3480 - acc: 0.87 - ETA: 11s - loss: 0.3486 - acc: 0.87 - ETA: 11s - loss: 0.3492 - acc: 0.87 - ETA: 11s - loss: 0.3492 - acc: 0.87 - ETA: 11s - loss: 0.3489 - acc: 0.87 - ETA: 11s - loss: 0.3492 - acc: 0.87 - ETA: 11s - loss: 0.3495 - acc: 0.87 - ETA: 11s - loss: 0.3502 - acc: 0.87 - ETA: 11s - loss: 0.3493 - acc: 0.87 - ETA: 11s - loss: 0.3491 - acc: 0.87 - ETA: 11s - loss: 0.3487 - acc: 0.87 - ETA: 11s - loss: 0.3482 - acc: 0.87 - ETA: 11s - loss: 0.3487 - acc: 0.87 - ETA: 11s - loss: 0.3483 - acc: 0.87 - ETA: 11s - loss: 0.3482 - acc: 0.87 - ETA: 10s - loss: 0.3479 - acc: 0.87 - ETA: 10s - loss: 0.3484 - acc: 0.87 - ETA: 10s - loss: 0.3486 - acc: 0.87 - ETA: 10s - loss: 0.3485 - acc: 0.87 - ETA: 10s - loss: 0.3481 - acc: 0.87 - ETA: 10s - loss: 0.3476 - acc: 0.87 - ETA: 10s - loss: 0.3480 - acc: 0.87 - ETA: 10s - loss: 0.3476 - acc: 0.87 - ETA: 10s - loss: 0.3477 - acc: 0.87 - ETA: 10s - loss: 0.3473 - acc: 0.87 - ETA: 10s - loss: 0.3476 - acc: 0.87 - ETA: 10s - loss: 0.3473 - acc: 0.87 - ETA: 10s - loss: 0.3473 - acc: 0.87 - ETA: 10s - loss: 0.3471 - acc: 0.87 - ETA: 10s - loss: 0.3464 - acc: 0.8790\b\b\b\b\b\b\b\b\b\b\b\b\b\b\b\b\b\b\b\b\b\b\b\b\b\b\b\b\b\b\b\b\b\b\b\b\b\b\b\b\b\b\b\b\b\b\b\b\b\b\b\b\b\b\b\b\b\b\b\b\b\b\b\b\b\b\b\b\b\b\b\b\b\b\b\b\b\b\b\b\b\b\b\b"
     ]
    },
    {
     "name": "stdout",
     "output_type": "stream",
     "text": [
      "54000/54000 [==============================] - ETA: 10s - loss: 0.3463 - acc: 0.87 - ETA: 10s - loss: 0.3461 - acc: 0.87 - ETA: 9s - loss: 0.3459 - acc: 0.8791 - ETA: 9s - loss: 0.3460 - acc: 0.879 - ETA: 9s - loss: 0.3459 - acc: 0.879 - ETA: 9s - loss: 0.3461 - acc: 0.879 - ETA: 9s - loss: 0.3458 - acc: 0.879 - ETA: 9s - loss: 0.3458 - acc: 0.879 - ETA: 9s - loss: 0.3462 - acc: 0.878 - ETA: 9s - loss: 0.3469 - acc: 0.878 - ETA: 9s - loss: 0.3468 - acc: 0.878 - ETA: 9s - loss: 0.3468 - acc: 0.878 - ETA: 9s - loss: 0.3468 - acc: 0.878 - ETA: 9s - loss: 0.3468 - acc: 0.878 - ETA: 9s - loss: 0.3466 - acc: 0.878 - ETA: 9s - loss: 0.3468 - acc: 0.878 - ETA: 8s - loss: 0.3468 - acc: 0.878 - ETA: 8s - loss: 0.3464 - acc: 0.878 - ETA: 8s - loss: 0.3467 - acc: 0.878 - ETA: 8s - loss: 0.3466 - acc: 0.878 - ETA: 8s - loss: 0.3464 - acc: 0.878 - ETA: 8s - loss: 0.3462 - acc: 0.878 - ETA: 8s - loss: 0.3464 - acc: 0.878 - ETA: 8s - loss: 0.3462 - acc: 0.878 - ETA: 8s - loss: 0.3463 - acc: 0.878 - ETA: 8s - loss: 0.3460 - acc: 0.878 - ETA: 8s - loss: 0.3461 - acc: 0.878 - ETA: 8s - loss: 0.3462 - acc: 0.878 - ETA: 8s - loss: 0.3460 - acc: 0.878 - ETA: 8s - loss: 0.3458 - acc: 0.878 - ETA: 8s - loss: 0.3460 - acc: 0.878 - ETA: 8s - loss: 0.3460 - acc: 0.878 - ETA: 8s - loss: 0.3461 - acc: 0.878 - ETA: 8s - loss: 0.3462 - acc: 0.878 - ETA: 8s - loss: 0.3458 - acc: 0.878 - ETA: 7s - loss: 0.3461 - acc: 0.878 - ETA: 7s - loss: 0.3464 - acc: 0.878 - ETA: 7s - loss: 0.3463 - acc: 0.878 - ETA: 7s - loss: 0.3464 - acc: 0.878 - ETA: 7s - loss: 0.3463 - acc: 0.878 - ETA: 7s - loss: 0.3465 - acc: 0.878 - ETA: 7s - loss: 0.3465 - acc: 0.878 - ETA: 7s - loss: 0.3466 - acc: 0.878 - ETA: 7s - loss: 0.3468 - acc: 0.878 - ETA: 7s - loss: 0.3470 - acc: 0.877 - ETA: 7s - loss: 0.3469 - acc: 0.877 - ETA: 7s - loss: 0.3466 - acc: 0.877 - ETA: 7s - loss: 0.3464 - acc: 0.877 - ETA: 7s - loss: 0.3466 - acc: 0.877 - ETA: 6s - loss: 0.3465 - acc: 0.877 - ETA: 6s - loss: 0.3460 - acc: 0.877 - ETA: 6s - loss: 0.3457 - acc: 0.878 - ETA: 6s - loss: 0.3457 - acc: 0.878 - ETA: 6s - loss: 0.3457 - acc: 0.878 - ETA: 6s - loss: 0.3454 - acc: 0.878 - ETA: 6s - loss: 0.3453 - acc: 0.878 - ETA: 6s - loss: 0.3451 - acc: 0.878 - ETA: 6s - loss: 0.3448 - acc: 0.878 - ETA: 6s - loss: 0.3446 - acc: 0.878 - ETA: 6s - loss: 0.3446 - acc: 0.878 - ETA: 6s - loss: 0.3442 - acc: 0.878 - ETA: 6s - loss: 0.3441 - acc: 0.878 - ETA: 6s - loss: 0.3441 - acc: 0.878 - ETA: 6s - loss: 0.3443 - acc: 0.878 - ETA: 6s - loss: 0.3440 - acc: 0.878 - ETA: 6s - loss: 0.3442 - acc: 0.878 - ETA: 5s - loss: 0.3446 - acc: 0.878 - ETA: 5s - loss: 0.3450 - acc: 0.878 - ETA: 5s - loss: 0.3449 - acc: 0.878 - ETA: 5s - loss: 0.3447 - acc: 0.878 - ETA: 5s - loss: 0.3450 - acc: 0.878 - ETA: 5s - loss: 0.3451 - acc: 0.878 - ETA: 5s - loss: 0.3456 - acc: 0.877 - ETA: 5s - loss: 0.3455 - acc: 0.877 - ETA: 5s - loss: 0.3455 - acc: 0.877 - ETA: 5s - loss: 0.3456 - acc: 0.877 - ETA: 5s - loss: 0.3455 - acc: 0.877 - ETA: 5s - loss: 0.3453 - acc: 0.878 - ETA: 5s - loss: 0.3453 - acc: 0.878 - ETA: 5s - loss: 0.3451 - acc: 0.878 - ETA: 5s - loss: 0.3448 - acc: 0.878 - ETA: 5s - loss: 0.3448 - acc: 0.878 - ETA: 5s - loss: 0.3445 - acc: 0.878 - ETA: 5s - loss: 0.3445 - acc: 0.878 - ETA: 4s - loss: 0.3439 - acc: 0.878 - ETA: 4s - loss: 0.3440 - acc: 0.878 - ETA: 4s - loss: 0.3446 - acc: 0.878 - ETA: 4s - loss: 0.3449 - acc: 0.878 - ETA: 4s - loss: 0.3449 - acc: 0.877 - ETA: 4s - loss: 0.3450 - acc: 0.877 - ETA: 4s - loss: 0.3452 - acc: 0.878 - ETA: 4s - loss: 0.3456 - acc: 0.877 - ETA: 4s - loss: 0.3456 - acc: 0.877 - ETA: 4s - loss: 0.3456 - acc: 0.877 - ETA: 4s - loss: 0.3457 - acc: 0.878 - ETA: 4s - loss: 0.3455 - acc: 0.878 - ETA: 4s - loss: 0.3457 - acc: 0.878 - ETA: 4s - loss: 0.3456 - acc: 0.878 - ETA: 4s - loss: 0.3455 - acc: 0.878 - ETA: 4s - loss: 0.3454 - acc: 0.878 - ETA: 4s - loss: 0.3453 - acc: 0.878 - ETA: 4s - loss: 0.3456 - acc: 0.878 - ETA: 4s - loss: 0.3454 - acc: 0.878 - ETA: 4s - loss: 0.3451 - acc: 0.878 - ETA: 4s - loss: 0.3451 - acc: 0.878 - ETA: 4s - loss: 0.3451 - acc: 0.878 - ETA: 3s - loss: 0.3449 - acc: 0.878 - ETA: 3s - loss: 0.3452 - acc: 0.878 - ETA: 3s - loss: 0.3454 - acc: 0.878 - ETA: 3s - loss: 0.3452 - acc: 0.878 - ETA: 3s - loss: 0.3450 - acc: 0.878 - ETA: 3s - loss: 0.3448 - acc: 0.878 - ETA: 3s - loss: 0.3449 - acc: 0.878 - ETA: 3s - loss: 0.3449 - acc: 0.878 - ETA: 3s - loss: 0.3449 - acc: 0.878 - ETA: 3s - loss: 0.3449 - acc: 0.878 - ETA: 3s - loss: 0.3449 - acc: 0.878 - ETA: 3s - loss: 0.3451 - acc: 0.878 - ETA: 3s - loss: 0.3453 - acc: 0.878 - ETA: 3s - loss: 0.3450 - acc: 0.878 - ETA: 3s - loss: 0.3450 - acc: 0.878 - ETA: 3s - loss: 0.3451 - acc: 0.878 - ETA: 3s - loss: 0.3450 - acc: 0.878 - ETA: 3s - loss: 0.3448 - acc: 0.878 - ETA: 3s - loss: 0.3448 - acc: 0.878 - ETA: 3s - loss: 0.3446 - acc: 0.878 - ETA: 2s - loss: 0.3443 - acc: 0.878 - ETA: 2s - loss: 0.3443 - acc: 0.878 - ETA: 2s - loss: 0.3442 - acc: 0.878 - ETA: 2s - loss: 0.3442 - acc: 0.878 - ETA: 2s - loss: 0.3443 - acc: 0.878 - ETA: 2s - loss: 0.3443 - acc: 0.878 - ETA: 2s - loss: 0.3441 - acc: 0.878 - ETA: 2s - loss: 0.3439 - acc: 0.878 - ETA: 2s - loss: 0.3439 - acc: 0.878 - ETA: 2s - loss: 0.3440 - acc: 0.878 - ETA: 2s - loss: 0.3441 - acc: 0.878 - ETA: 2s - loss: 0.3444 - acc: 0.878 - ETA: 2s - loss: 0.3446 - acc: 0.878 - ETA: 2s - loss: 0.3443 - acc: 0.878 - ETA: 2s - loss: 0.3442 - acc: 0.878 - ETA: 2s - loss: 0.3441 - acc: 0.878 - ETA: 1s - loss: 0.3441 - acc: 0.878 - ETA: 1s - loss: 0.3444 - acc: 0.878 - ETA: 1s - loss: 0.3446 - acc: 0.877 - ETA: 1s - loss: 0.3444 - acc: 0.878 - ETA: 1s - loss: 0.3444 - acc: 0.878 - ETA: 1s - loss: 0.3443 - acc: 0.878 - ETA: 1s - loss: 0.3443 - acc: 0.878 - ETA: 1s - loss: 0.3442 - acc: 0.878 - ETA: 1s - loss: 0.3441 - acc: 0.878 - ETA: 1s - loss: 0.3441 - acc: 0.878 - ETA: 1s - loss: 0.3442 - acc: 0.878 - ETA: 1s - loss: 0.3441 - acc: 0.878 - ETA: 1s - loss: 0.3440 - acc: 0.878 - ETA: 1s - loss: 0.3441 - acc: 0.878 - ETA: 1s - loss: 0.3440 - acc: 0.878 - ETA: 1s - loss: 0.3439 - acc: 0.878 - ETA: 0s - loss: 0.3441 - acc: 0.878 - ETA: 0s - loss: 0.3441 - acc: 0.878 - ETA: 0s - loss: 0.3443 - acc: 0.878 - ETA: 0s - loss: 0.3441 - acc: 0.878 - ETA: 0s - loss: 0.3438 - acc: 0.878 - ETA: 0s - loss: 0.3434 - acc: 0.878 - ETA: 0s - loss: 0.3434 - acc: 0.878 - ETA: 0s - loss: 0.3435 - acc: 0.878 - ETA: 0s - loss: 0.3434 - acc: 0.878 - ETA: 0s - loss: 0.3433 - acc: 0.878 - ETA: 0s - loss: 0.3433 - acc: 0.878 - ETA: 0s - loss: 0.3436 - acc: 0.878 - ETA: 0s - loss: 0.3440 - acc: 0.878 - ETA: 0s - loss: 0.3441 - acc: 0.878 - ETA: 0s - loss: 0.3439 - acc: 0.878 - ETA: 0s - loss: 0.3440 - acc: 0.878 - 22s - loss: 0.3439 - acc: 0.8787 - val_loss: 0.3680 - val_acc: 0.8680\n",
      "\n"
     ]
    },
    {
     "data": {
      "text/plain": [
       "<keras.callbacks.History at 0x21778519be0>"
      ]
     },
     "execution_count": 16,
     "metadata": {},
     "output_type": "execute_result"
    }
   ],
   "source": [
    "# TODO: Fit model to training data\n",
    "    # Reserve some fraction of training data as validation data\n",
    "    # Pick number of epochs\n",
    "    # Pick a batch_size\n",
    "    # Pass in relevant callbacks\n",
    "    \n",
    "    \n",
    "model.fit(X_train, y_train_categorical, epochs=10, batch_size=40, validation_split=0.1, callbacks=callbacks_list)\n",
    "\n",
    "    \n",
    "    "
   ]
  },
  {
   "cell_type": "markdown",
   "metadata": {},
   "source": [
    "### Step 4: Evaluate the Model"
   ]
  },
  {
   "cell_type": "code",
   "execution_count": 17,
   "metadata": {},
   "outputs": [
    {
     "name": "stdout",
     "output_type": "stream",
     "text": [
      " 9472/10000 [===========================>..] - ETA:  - ETA:  - ETA:  - ETA:  - ETA:  - ETA:  - ETA:  - ETA:  - ETA:  - ETA:  - ETA:  - ETA:  - ETA: 0s[0.38889295005798341, 0.85850000000000004]\n"
     ]
    }
   ],
   "source": [
    "# TODO: Evaluate model on test data\n",
    "\n",
    "# Use model.evaluate()\n",
    "# Also: open up the training logs in Tensorboard to check validation_loss for overfitting\n",
    "loss_and_metrics = model.evaluate(X_test, y_test_categorical, batch_size=128)\n",
    "\n",
    "print(loss_and_metrics)"
   ]
  },
  {
   "cell_type": "code",
   "execution_count": 18,
   "metadata": {
    "collapsed": true
   },
   "outputs": [],
   "source": [
    "# Final predictions testing\n",
    "\n",
    "import numpy as np\n",
    "\n",
    "# Compare actual class to predicted class\n",
    "def visualize_test_sample(test_sample_num):\n",
    "    \n",
    "    # Display actual image & label\n",
    "    flattened_vector = X_test[test_sample_num] # retrieve flattened vector\n",
    "    image_2d = np.reshape(flattened_vector, (28, 28)) # reshape to 28 x 28 grayscale image array\n",
    "    plt.imshow(image_2d, cmap = plt.get_cmap('gray')) # feed image into matplotlib\n",
    "    print(\"Actual Label: \", y_test[test_sample_num]) # print actual label\n",
    "    print(\"Actual Description: \", to_description(y_test[test_sample_num])) # print description\n",
    "    plt.show()\n",
    "    \n",
    "    # Print predicted label\n",
    "    test_sample = np.expand_dims(X_test[test_sample_num], axis=0) # pick out a one-sample \"batch\" to feed into model\n",
    "    predicted_scores = model.predict(test_sample) # outputted probabilities vector\n",
    "    print(\"Outputted scores: \", predicted_scores) # print predicted scores\n",
    "\n",
    "    predicted_class = np.argmax(predicted_scores) # pick the class with highest probability --> final prediction\n",
    "    print(\"Predicted Label: \", predicted_class) # print predicted classification\n",
    "    print(\"Predicted Description: \", to_description(predicted_class)) # print predicted label description"
   ]
  },
  {
   "cell_type": "code",
   "execution_count": 21,
   "metadata": {},
   "outputs": [
    {
     "name": "stdout",
     "output_type": "stream",
     "text": [
      "Actual Label:  7\n",
      "Actual Description:  Sneaker\n"
     ]
    },
    {
     "data": {
      "image/png": "[encoded data removed]",
      "text/plain": [
       "<matplotlib.figure.Figure at 0x21778ff9c18>"
      ]
     },
     "metadata": {},
     "output_type": "display_data"
    },
    {
     "name": "stdout",
     "output_type": "stream",
     "text": [
      "Outputted scores:  [[  2.01519086e-08   6.11523490e-08   2.85671646e-08   7.21597814e-07\n",
      "    2.83932824e-08   1.27800496e-03   8.30493292e-08   9.96688664e-01\n",
      "    1.20043027e-04   1.91240141e-03]]\n",
      "Predicted Label:  7\n",
      "Predicted Description:  Sneaker\n"
     ]
    }
   ],
   "source": [
    "visualize_test_sample(22\n",
    "                     )"
   ]
  },
  {
   "cell_type": "code",
   "execution_count": null,
   "metadata": {
    "collapsed": true
   },
   "outputs": [],
   "source": []
  },
  {
   "cell_type": "code",
   "execution_count": null,
   "metadata": {
    "collapsed": true
   },
   "outputs": [],
   "source": []
  }
 ],
 "metadata": {
  "kernelspec": {
   "display_name": "Python [conda env:caispp]",
   "language": "python",
   "name": "conda-env-caispp-py"
  },
  "language_info": {
   "codemirror_mode": {
    "name": "ipython",
    "version": 3
   },
   "file_extension": ".py",
   "mimetype": "text/x-python",
   "name": "python",
   "nbconvert_exporter": "python",
   "pygments_lexer": "ipython3",
   "version": "3.5.4"
  }
 },
 "nbformat": 4,
 "nbformat_minor": 2
}
